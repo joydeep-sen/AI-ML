{
  "nbformat": 4,
  "nbformat_minor": 0,
  "metadata": {
    "colab": {
      "name": "Project_Introduction_to_NN.ipynb",
      "provenance": [],
      "collapsed_sections": []
    },
    "kernelspec": {
      "name": "python3",
      "display_name": "Python 3"
    }
  },
  "cells": [
    {
      "cell_type": "code",
      "metadata": {
        "id": "BVjStgwn2psa",
        "outputId": "453203c2-0d08-4679-d337-051792927c7d",
        "colab": {
          "base_uri": "https://localhost:8080/",
          "height": 34
        }
      },
      "source": [
        "from google.colab import drive\n",
        "drive.mount('/content/gdrive')"
      ],
      "execution_count": 70,
      "outputs": [
        {
          "output_type": "stream",
          "text": [
            "Drive already mounted at /content/gdrive; to attempt to forcibly remount, call drive.mount(\"/content/gdrive\", force_remount=True).\n"
          ],
          "name": "stdout"
        }
      ]
    },
    {
      "cell_type": "markdown",
      "metadata": {
        "id": "-isF5FA4snnV"
      },
      "source": [
        "**Read the data from the h5py file and understand the train/test splits**\n"
      ]
    },
    {
      "cell_type": "code",
      "metadata": {
        "id": "IlmIrUAh2wS3",
        "outputId": "4b064383-58f6-4ff9-eea4-aac97a4e50dd",
        "colab": {
          "base_uri": "https://localhost:8080/",
          "height": 34
        }
      },
      "source": [
        "import h5py\n",
        "h5f = h5py.File('/content/gdrive/My Drive/Colab Notebooks/SVHN_single_grey1.h5','r')\n",
        "h5f.keys()"
      ],
      "execution_count": 71,
      "outputs": [
        {
          "output_type": "execute_result",
          "data": {
            "text/plain": [
              "<KeysViewHDF5 ['X_test', 'X_train', 'X_val', 'y_test', 'y_train', 'y_val']>"
            ]
          },
          "metadata": {
            "tags": []
          },
          "execution_count": 71
        }
      ]
    },
    {
      "cell_type": "code",
      "metadata": {
        "id": "i6hUc9Ce23-u"
      },
      "source": [
        "X_train = h5f['X_train'][:]\n",
        "y_train = h5f['y_train'][:]\n",
        "X_test = h5f['X_test'][:]\n",
        "y_test = h5f['y_test'][:]"
      ],
      "execution_count": 72,
      "outputs": []
    },
    {
      "cell_type": "code",
      "metadata": {
        "id": "0lxrQvPPXqTJ",
        "outputId": "ca89f6ee-b7c2-4047-8eaf-52eec1c10ed9",
        "colab": {
          "base_uri": "https://localhost:8080/",
          "height": 86
        }
      },
      "source": [
        "print(X_train.max(), X_train.min())\n",
        "print(y_train.max(), y_train.min())\n",
        "print(X_test.max(), X_test.min())\n",
        "print(y_test.max(), y_test.min())"
      ],
      "execution_count": 73,
      "outputs": [
        {
          "output_type": "stream",
          "text": [
            "254.9745 0.0\n",
            "9 0\n",
            "254.9745 0.0\n",
            "9 0\n"
          ],
          "name": "stdout"
        }
      ]
    },
    {
      "cell_type": "code",
      "metadata": {
        "id": "o6y3sxUt8tAQ"
      },
      "source": [
        "import matplotlib.pyplot as plt\n",
        "import numpy as np\n",
        "import warnings\n",
        "warnings.simplefilter('ignore')\n",
        "np.random.seed(2)"
      ],
      "execution_count": 74,
      "outputs": []
    },
    {
      "cell_type": "code",
      "metadata": {
        "id": "ZPbTbdmu9qDe",
        "outputId": "f55f165a-6e89-443d-a2bc-37ff455b9d16",
        "colab": {
          "base_uri": "https://localhost:8080/",
          "height": 209
        }
      },
      "source": [
        "#Print dataset shapes\n",
        "print(f'Dataset dimensions : \\n Training : {X_train.shape}, {y_train.shape}\\n Test : {X_test.shape}, {y_test.shape}')\n",
        "\n",
        "#Plot sample image\n",
        "plt.figure(figsize = (2,2))\n",
        "plt.imshow(X_train[20])\n",
        "plt.axis('off');\n",
        "print(f'Sample Label : {y_train[20]}')"
      ],
      "execution_count": 75,
      "outputs": [
        {
          "output_type": "stream",
          "text": [
            "Dataset dimensions : \n",
            " Training : (42000, 32, 32), (42000,)\n",
            " Test : (18000, 32, 32), (18000,)\n",
            "Sample Label : 6\n"
          ],
          "name": "stdout"
        },
        {
          "output_type": "display_data",
          "data": {
            "image/png": "[encoded data removed]",
            "text/plain": [
              "<Figure size 144x144 with 1 Axes>"
            ]
          },
          "metadata": {
            "tags": [],
            "needs_background": "light"
          }
        }
      ]
    },
    {
      "cell_type": "markdown",
      "metadata": {
        "id": "VCVAfU0Qs1c0"
      },
      "source": [
        "\n",
        "\n",
        "1.   There are 32*32 pixel images & their labels in the dataset\n",
        "2.   Training set has 42000 items, test set has 18000 items\n",
        "3.   The pixels are coded from 0 to 255\n",
        "\n",
        "\n",
        "\n"
      ]
    },
    {
      "cell_type": "markdown",
      "metadata": {
        "id": "D8afBvfCtfXb"
      },
      "source": [
        "**Reshape and normalize the train and test features**"
      ]
    },
    {
      "cell_type": "code",
      "metadata": {
        "id": "EbTCMAyff_o1",
        "outputId": "eb53102c-a703-487e-8185-11e7f7b5ac33",
        "colab": {
          "base_uri": "https://localhost:8080/",
          "height": 69
        }
      },
      "source": [
        "X_train = X_train.reshape(-1,32*32)\n",
        "X_test = X_test.reshape(-1, 32*32)\n",
        "\n",
        "print(f'New dimensions : \\n Training : {X_train.shape}, \\n Test : {X_test.shape}')"
      ],
      "execution_count": 76,
      "outputs": [
        {
          "output_type": "stream",
          "text": [
            "New dimensions : \n",
            " Training : (42000, 1024), \n",
            " Test : (18000, 1024)\n"
          ],
          "name": "stdout"
        }
      ]
    },
    {
      "cell_type": "code",
      "metadata": {
        "id": "pyXiTvrd_xlp"
      },
      "source": [
        "X_train = X_train/255.0\n",
        "mean_train = np.array([np.mean(X_train, axis = 0)])\n",
        "std_train = np.array([np.std(X_train, axis = 0)])\n",
        "\n",
        "mean_train_r = np.repeat(mean_train, [42000], axis = 0)\n",
        "std_train_r = np.repeat(std_train, [42000], axis = 0)  \n",
        "\n",
        "X_train = X_train - mean_train_r\n",
        "X_train = X_train / std_train_r"
      ],
      "execution_count": 77,
      "outputs": []
    },
    {
      "cell_type": "code",
      "metadata": {
        "id": "Xdwi1-EGLQl4"
      },
      "source": [
        "X_test = X_test/255.0\n",
        "mean_test = np.array([np.mean(X_test, axis = 0)])\n",
        "std_test = np.array([np.std(X_test, axis = 0)])\n",
        "\n",
        "mean_test_r = np.repeat(mean_test, [18000], axis = 0)\n",
        "std_test_r = np.repeat(std_test, [18000], axis = 0)  \n",
        "\n",
        "X_test = X_test - mean_test_r\n",
        "X_test = X_test / std_test_r"
      ],
      "execution_count": 78,
      "outputs": []
    },
    {
      "cell_type": "code",
      "metadata": {
        "id": "poyodqItYU5u",
        "outputId": "8526152d-2ff8-4ab3-c0e6-57de592d8f95",
        "colab": {
          "base_uri": "https://localhost:8080/",
          "height": 51
        }
      },
      "source": [
        "print(X_train.max(), X_train.min())\n",
        "print(X_test.max(), X_test.min())"
      ],
      "execution_count": 79,
      "outputs": [
        {
          "output_type": "stream",
          "text": [
            "3.2250617 -2.3688602\n",
            "3.1874626 -2.421297\n"
          ],
          "name": "stdout"
        }
      ]
    },
    {
      "cell_type": "code",
      "metadata": {
        "id": "qWiFF1qhbbtF"
      },
      "source": [
        "import tensorflow as tf\n",
        "from keras.models import Sequential\n",
        "from keras.layers import Dense, Dropout, Flatten\n",
        "from keras.optimizers import Adam"
      ],
      "execution_count": 80,
      "outputs": []
    },
    {
      "cell_type": "markdown",
      "metadata": {
        "id": "BsXhYTs-tnoE"
      },
      "source": [
        "**One hot encode the labels for train and test data**"
      ]
    },
    {
      "cell_type": "code",
      "metadata": {
        "id": "jMOwKhCMgiy3"
      },
      "source": [
        "C = tf.constant(10, name = 'C')\n",
        "y_train_oh = tf.one_hot(y_train, C, on_value = 1.0, off_value = 0.0, axis = -1)\n",
        "y_test_oh = tf.one_hot(y_test, C, on_value = 1.0, off_value = 0.0, axis = -1)"
      ],
      "execution_count": 81,
      "outputs": []
    },
    {
      "cell_type": "markdown",
      "metadata": {
        "id": "MtuYWY4Xts0k"
      },
      "source": [
        "**Define the model architecture using TensorFlow with a flatten layer followed by dense layers with activation as ReLu and softmax**"
      ]
    },
    {
      "cell_type": "code",
      "metadata": {
        "id": "-qQT_QFLNd6X"
      },
      "source": [
        "initializer = tf.keras.initializers.HeNormal(seed = 2)"
      ],
      "execution_count": 82,
      "outputs": []
    },
    {
      "cell_type": "code",
      "metadata": {
        "id": "Nm4f8T17TkxM"
      },
      "source": [
        "model = Sequential()\n",
        "model.add(tf.keras.layers.Flatten())\n",
        "model.add(tf.keras.layers.BatchNormalization())\n",
        "model.add(tf.keras.layers.Dense(units = 1024, activation = 'relu', input_shape=(1024,), kernel_initializer=initializer))\n",
        "model.add(tf.keras.layers.BatchNormalization())\n",
        "model.add(tf.keras.layers.Dropout(0.2))\n",
        "model.add(tf.keras.layers.Dense(units = 512,  kernel_initializer=initializer, activation = 'relu'))\n",
        "model.add(tf.keras.layers.BatchNormalization())\n",
        "model.add(tf.keras.layers.Dropout(0.2))\n",
        "model.add(tf.keras.layers.Dense(units = 256,  kernel_initializer=initializer, activation = 'relu'))\n",
        "model.add(tf.keras.layers.BatchNormalization())\n",
        "model.add(tf.keras.layers.Dropout(0.2))\n",
        "model.add(tf.keras.layers.Dense(units = 32,  kernel_initializer=initializer, activation = 'relu'))\n",
        "model.add(tf.keras.layers.BatchNormalization())\n",
        "model.add(tf.keras.layers.Dense(10,  kernel_initializer=initializer, activation = 'softmax'))"
      ],
      "execution_count": 83,
      "outputs": []
    },
    {
      "cell_type": "markdown",
      "metadata": {
        "id": "Sxyx9TMht08_"
      },
      "source": [
        "**Compile the model with loss as categorical cross-entropy and adam optimizers. Use accuracy as the metric for evaluation**"
      ]
    },
    {
      "cell_type": "code",
      "metadata": {
        "id": "UUfJ7wtbdrI0"
      },
      "source": [
        "Adam = tf.keras.optimizers.Adam(learning_rate=0.001,beta_1=0.9,beta_2=0.999, epsilon=1e-07, name = 'Adam')\n",
        "#SGD = tf.keras.optimizers.SGD(learning_rate=0.01, momentum=0.9, nesterov=True, name = 'SGD')\n",
        "model.compile(optimizer='Adam', loss = 'sparse_categorical_crossentropy', metrics = 'accuracy')\n",
        "  "
      ],
      "execution_count": 84,
      "outputs": []
    },
    {
      "cell_type": "markdown",
      "metadata": {
        "id": "Z_H8qWGXt917"
      },
      "source": [
        "**Fit and evaluate the model. Print the loss and accuracy for the test data**"
      ]
    },
    {
      "cell_type": "code",
      "metadata": {
        "id": "h4KGNsT2kRw1",
        "outputId": "613e234d-4753-4556-d486-4eb9a6615fd1",
        "colab": {
          "base_uri": "https://localhost:8080/",
          "height": 381
        }
      },
      "source": [
        "model.fit(x = X_train, y = y_train, epochs = 10, verbose = 2)"
      ],
      "execution_count": 85,
      "outputs": [
        {
          "output_type": "stream",
          "text": [
            "Epoch 1/10\n",
            "1313/1313 - 31s - loss: 1.6241 - accuracy: 0.4535\n",
            "Epoch 2/10\n",
            "1313/1313 - 30s - loss: 1.1443 - accuracy: 0.6342\n",
            "Epoch 3/10\n",
            "1313/1313 - 29s - loss: 1.0027 - accuracy: 0.6815\n",
            "Epoch 4/10\n",
            "1313/1313 - 30s - loss: 0.9182 - accuracy: 0.7104\n",
            "Epoch 5/10\n",
            "1313/1313 - 29s - loss: 0.8477 - accuracy: 0.7304\n",
            "Epoch 6/10\n",
            "1313/1313 - 29s - loss: 0.8085 - accuracy: 0.7446\n",
            "Epoch 7/10\n",
            "1313/1313 - 32s - loss: 0.7679 - accuracy: 0.7575\n",
            "Epoch 8/10\n",
            "1313/1313 - 30s - loss: 0.7305 - accuracy: 0.7679\n",
            "Epoch 9/10\n",
            "1313/1313 - 30s - loss: 0.7040 - accuracy: 0.7764\n",
            "Epoch 10/10\n",
            "1313/1313 - 30s - loss: 0.6791 - accuracy: 0.7851\n"
          ],
          "name": "stdout"
        },
        {
          "output_type": "execute_result",
          "data": {
            "text/plain": [
              "<tensorflow.python.keras.callbacks.History at 0x7f71c2b75f98>"
            ]
          },
          "metadata": {
            "tags": []
          },
          "execution_count": 85
        }
      ]
    },
    {
      "cell_type": "code",
      "metadata": {
        "id": "1DCQUeXolmQm",
        "outputId": "b400c46a-d658-4d09-9795-53a82482d647",
        "colab": {
          "base_uri": "https://localhost:8080/",
          "height": 34
        }
      },
      "source": [
        "test_loss, test_accuracy = model.evaluate(X_test, y_test) "
      ],
      "execution_count": 86,
      "outputs": [
        {
          "output_type": "stream",
          "text": [
            "563/563 [==============================] - 2s 4ms/step - loss: 0.5151 - accuracy: 0.8411\n"
          ],
          "name": "stdout"
        }
      ]
    },
    {
      "cell_type": "code",
      "metadata": {
        "id": "ImrpVXQllvPn"
      },
      "source": [
        ""
      ],
      "execution_count": 86,
      "outputs": []
    }
  ]
}
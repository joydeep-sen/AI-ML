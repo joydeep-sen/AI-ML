{
 "cells": [
  {
   "cell_type": "code",
   "execution_count": 1,
   "metadata": {},
   "outputs": [],
   "source": [
    "import pandas as pd\n",
    "import numpy as np\n",
    "import seaborn as sns\n",
    "import matplotlib.pyplot as plt\n",
    "%matplotlib inline\n",
    "sns.set(style = 'whitegrid', color_codes = True)\n",
    "import warnings\n",
    "warnings.simplefilter(action = 'ignore')"
   ]
  },
  {
   "cell_type": "markdown",
   "metadata": {},
   "source": [
    "### Read and explore the given dataset. ( Rename column/add headers, plot histograms, find data characteristics)"
   ]
  },
  {
   "cell_type": "code",
   "execution_count": 2,
   "metadata": {},
   "outputs": [
    {
     "data": {
      "text/html": [
       "<div>\n",
       "<style scoped>\n",
       "    .dataframe tbody tr th:only-of-type {\n",
       "        vertical-align: middle;\n",
       "    }\n",
       "\n",
       "    .dataframe tbody tr th {\n",
       "        vertical-align: top;\n",
       "    }\n",
       "\n",
       "    .dataframe thead th {\n",
       "        text-align: right;\n",
       "    }\n",
       "</style>\n",
       "<table border=\"1\" class=\"dataframe\">\n",
       "  <thead>\n",
       "    <tr style=\"text-align: right;\">\n",
       "      <th></th>\n",
       "      <th>userId</th>\n",
       "      <th>productId</th>\n",
       "      <th>ratings</th>\n",
       "      <th>timestamp</th>\n",
       "    </tr>\n",
       "  </thead>\n",
       "  <tbody>\n",
       "    <tr>\n",
       "      <th>0</th>\n",
       "      <td>AKM1MP6P0OYPR</td>\n",
       "      <td>0132793040</td>\n",
       "      <td>5.0</td>\n",
       "      <td>1365811200</td>\n",
       "    </tr>\n",
       "    <tr>\n",
       "      <th>1</th>\n",
       "      <td>A2CX7LUOHB2NDG</td>\n",
       "      <td>0321732944</td>\n",
       "      <td>5.0</td>\n",
       "      <td>1341100800</td>\n",
       "    </tr>\n",
       "    <tr>\n",
       "      <th>2</th>\n",
       "      <td>A2NWSAGRHCP8N5</td>\n",
       "      <td>0439886341</td>\n",
       "      <td>1.0</td>\n",
       "      <td>1367193600</td>\n",
       "    </tr>\n",
       "    <tr>\n",
       "      <th>3</th>\n",
       "      <td>A2WNBOD3WNDNKT</td>\n",
       "      <td>0439886341</td>\n",
       "      <td>3.0</td>\n",
       "      <td>1374451200</td>\n",
       "    </tr>\n",
       "    <tr>\n",
       "      <th>4</th>\n",
       "      <td>A1GI0U4ZRJA8WN</td>\n",
       "      <td>0439886341</td>\n",
       "      <td>1.0</td>\n",
       "      <td>1334707200</td>\n",
       "    </tr>\n",
       "  </tbody>\n",
       "</table>\n",
       "</div>"
      ],
      "text/plain": [
       "           userId   productId  ratings   timestamp\n",
       "0   AKM1MP6P0OYPR  0132793040      5.0  1365811200\n",
       "1  A2CX7LUOHB2NDG  0321732944      5.0  1341100800\n",
       "2  A2NWSAGRHCP8N5  0439886341      1.0  1367193600\n",
       "3  A2WNBOD3WNDNKT  0439886341      3.0  1374451200\n",
       "4  A1GI0U4ZRJA8WN  0439886341      1.0  1334707200"
      ]
     },
     "execution_count": 2,
     "metadata": {},
     "output_type": "execute_result"
    }
   ],
   "source": [
    "cols = ['userId','productId','ratings','timestamp']\n",
    "raw_df = pd.read_csv('D:\\Joydeep\\AI-ML\\GL\\Week 8 - Recommender Systems\\Assignment/ratings_Electronics.csv', names = cols)\n",
    "raw_df.head()"
   ]
  },
  {
   "cell_type": "code",
   "execution_count": 3,
   "metadata": {},
   "outputs": [
    {
     "data": {
      "text/plain": [
       "(7824482, 4)"
      ]
     },
     "execution_count": 3,
     "metadata": {},
     "output_type": "execute_result"
    }
   ],
   "source": [
    "raw_df.shape"
   ]
  },
  {
   "cell_type": "code",
   "execution_count": 4,
   "metadata": {},
   "outputs": [
    {
     "name": "stdout",
     "output_type": "stream",
     "text": [
      "<class 'pandas.core.frame.DataFrame'>\n",
      "RangeIndex: 7824482 entries, 0 to 7824481\n",
      "Data columns (total 4 columns):\n",
      " #   Column     Dtype  \n",
      "---  ------     -----  \n",
      " 0   userId     object \n",
      " 1   productId  object \n",
      " 2   ratings    float64\n",
      " 3   timestamp  int64  \n",
      "dtypes: float64(1), int64(1), object(2)\n",
      "memory usage: 238.8+ MB\n"
     ]
    }
   ],
   "source": [
    "raw_df.info()"
   ]
  },
  {
   "cell_type": "code",
   "execution_count": 5,
   "metadata": {},
   "outputs": [],
   "source": [
    "raw_df['timestamp'] = pd.to_datetime(raw_df['timestamp'], unit = 's')"
   ]
  },
  {
   "cell_type": "code",
   "execution_count": 6,
   "metadata": {},
   "outputs": [
    {
     "data": {
      "text/html": [
       "<div>\n",
       "<style scoped>\n",
       "    .dataframe tbody tr th:only-of-type {\n",
       "        vertical-align: middle;\n",
       "    }\n",
       "\n",
       "    .dataframe tbody tr th {\n",
       "        vertical-align: top;\n",
       "    }\n",
       "\n",
       "    .dataframe thead th {\n",
       "        text-align: right;\n",
       "    }\n",
       "</style>\n",
       "<table border=\"1\" class=\"dataframe\">\n",
       "  <thead>\n",
       "    <tr style=\"text-align: right;\">\n",
       "      <th></th>\n",
       "      <th>userId</th>\n",
       "      <th>productId</th>\n",
       "      <th>ratings</th>\n",
       "      <th>timestamp</th>\n",
       "    </tr>\n",
       "  </thead>\n",
       "  <tbody>\n",
       "    <tr>\n",
       "      <th>0</th>\n",
       "      <td>AKM1MP6P0OYPR</td>\n",
       "      <td>0132793040</td>\n",
       "      <td>5.0</td>\n",
       "      <td>2013-04-13</td>\n",
       "    </tr>\n",
       "    <tr>\n",
       "      <th>1</th>\n",
       "      <td>A2CX7LUOHB2NDG</td>\n",
       "      <td>0321732944</td>\n",
       "      <td>5.0</td>\n",
       "      <td>2012-07-01</td>\n",
       "    </tr>\n",
       "    <tr>\n",
       "      <th>2</th>\n",
       "      <td>A2NWSAGRHCP8N5</td>\n",
       "      <td>0439886341</td>\n",
       "      <td>1.0</td>\n",
       "      <td>2013-04-29</td>\n",
       "    </tr>\n",
       "    <tr>\n",
       "      <th>3</th>\n",
       "      <td>A2WNBOD3WNDNKT</td>\n",
       "      <td>0439886341</td>\n",
       "      <td>3.0</td>\n",
       "      <td>2013-07-22</td>\n",
       "    </tr>\n",
       "    <tr>\n",
       "      <th>4</th>\n",
       "      <td>A1GI0U4ZRJA8WN</td>\n",
       "      <td>0439886341</td>\n",
       "      <td>1.0</td>\n",
       "      <td>2012-04-18</td>\n",
       "    </tr>\n",
       "  </tbody>\n",
       "</table>\n",
       "</div>"
      ],
      "text/plain": [
       "           userId   productId  ratings  timestamp\n",
       "0   AKM1MP6P0OYPR  0132793040      5.0 2013-04-13\n",
       "1  A2CX7LUOHB2NDG  0321732944      5.0 2012-07-01\n",
       "2  A2NWSAGRHCP8N5  0439886341      1.0 2013-04-29\n",
       "3  A2WNBOD3WNDNKT  0439886341      3.0 2013-07-22\n",
       "4  A1GI0U4ZRJA8WN  0439886341      1.0 2012-04-18"
      ]
     },
     "execution_count": 6,
     "metadata": {},
     "output_type": "execute_result"
    }
   ],
   "source": [
    "raw_df.head()"
   ]
  },
  {
   "cell_type": "code",
   "execution_count": 7,
   "metadata": {},
   "outputs": [
    {
     "name": "stdout",
     "output_type": "stream",
     "text": [
      "<class 'pandas.core.frame.DataFrame'>\n",
      "RangeIndex: 7824482 entries, 0 to 7824481\n",
      "Data columns (total 4 columns):\n",
      " #   Column     Dtype         \n",
      "---  ------     -----         \n",
      " 0   userId     object        \n",
      " 1   productId  object        \n",
      " 2   ratings    float64       \n",
      " 3   timestamp  datetime64[ns]\n",
      "dtypes: datetime64[ns](1), float64(1), object(2)\n",
      "memory usage: 238.8+ MB\n"
     ]
    }
   ],
   "source": [
    "raw_df.info()"
   ]
  },
  {
   "cell_type": "code",
   "execution_count": 8,
   "metadata": {},
   "outputs": [
    {
     "data": {
      "text/plain": [
       "userId       0\n",
       "productId    0\n",
       "ratings      0\n",
       "timestamp    0\n",
       "dtype: int64"
      ]
     },
     "execution_count": 8,
     "metadata": {},
     "output_type": "execute_result"
    }
   ],
   "source": [
    "raw_df.isnull().sum()"
   ]
  },
  {
   "cell_type": "code",
   "execution_count": 9,
   "metadata": {},
   "outputs": [
    {
     "name": "stdout",
     "output_type": "stream",
     "text": [
      "Unique users : 4201696, Unique products : 476002\n"
     ]
    }
   ],
   "source": [
    "print('Unique users : {}, Unique products : {}'.format(raw_df['userId'].nunique(),raw_df['productId'].nunique()))"
   ]
  },
  {
   "cell_type": "code",
   "execution_count": 10,
   "metadata": {},
   "outputs": [
    {
     "data": {
      "text/html": [
       "<div>\n",
       "<style scoped>\n",
       "    .dataframe tbody tr th:only-of-type {\n",
       "        vertical-align: middle;\n",
       "    }\n",
       "\n",
       "    .dataframe tbody tr th {\n",
       "        vertical-align: top;\n",
       "    }\n",
       "\n",
       "    .dataframe thead th {\n",
       "        text-align: right;\n",
       "    }\n",
       "</style>\n",
       "<table border=\"1\" class=\"dataframe\">\n",
       "  <thead>\n",
       "    <tr style=\"text-align: right;\">\n",
       "      <th></th>\n",
       "      <th>ratings</th>\n",
       "      <th>Counts</th>\n",
       "    </tr>\n",
       "  </thead>\n",
       "  <tbody>\n",
       "    <tr>\n",
       "      <th>0</th>\n",
       "      <td>1.0</td>\n",
       "      <td>901765</td>\n",
       "    </tr>\n",
       "    <tr>\n",
       "      <th>1</th>\n",
       "      <td>2.0</td>\n",
       "      <td>456322</td>\n",
       "    </tr>\n",
       "    <tr>\n",
       "      <th>2</th>\n",
       "      <td>3.0</td>\n",
       "      <td>633073</td>\n",
       "    </tr>\n",
       "    <tr>\n",
       "      <th>3</th>\n",
       "      <td>4.0</td>\n",
       "      <td>1485781</td>\n",
       "    </tr>\n",
       "    <tr>\n",
       "      <th>4</th>\n",
       "      <td>5.0</td>\n",
       "      <td>4347541</td>\n",
       "    </tr>\n",
       "  </tbody>\n",
       "</table>\n",
       "</div>"
      ],
      "text/plain": [
       "   ratings   Counts\n",
       "0      1.0   901765\n",
       "1      2.0   456322\n",
       "2      3.0   633073\n",
       "3      4.0  1485781\n",
       "4      5.0  4347541"
      ]
     },
     "execution_count": 10,
     "metadata": {},
     "output_type": "execute_result"
    }
   ],
   "source": [
    "raw_df.groupby('ratings').size().reset_index(name = 'Counts')"
   ]
  },
  {
   "cell_type": "code",
   "execution_count": 11,
   "metadata": {},
   "outputs": [
    {
     "data": {
      "text/plain": [
       "<matplotlib.axes._subplots.AxesSubplot at 0x1fa53decfa0>"
      ]
     },
     "execution_count": 11,
     "metadata": {},
     "output_type": "execute_result"
    },
    {
     "data": {
      "image/png": "[encoded data removed]",
      "text/plain": [
       "<Figure size 432x288 with 1 Axes>"
      ]
     },
     "metadata": {},
     "output_type": "display_data"
    }
   ],
   "source": [
    "sns.countplot(x = 'ratings', data = raw_df)"
   ]
  },
  {
   "cell_type": "code",
   "execution_count": 12,
   "metadata": {},
   "outputs": [
    {
     "data": {
      "text/plain": [
       "0"
      ]
     },
     "execution_count": 12,
     "metadata": {},
     "output_type": "execute_result"
    }
   ],
   "source": [
    "cols = ['userId','productId','ratings']\n",
    "raw_df[cols].duplicated().sum()"
   ]
  },
  {
   "cell_type": "code",
   "execution_count": 13,
   "metadata": {},
   "outputs": [
    {
     "name": "stdout",
     "output_type": "stream",
     "text": [
      "Max ratings by a single user : 520\n",
      "Mean ratings by a single user : 3.9101632419209333\n"
     ]
    },
    {
     "data": {
      "image/png": "[encoded data removed]",
      "text/plain": [
       "<Figure size 432x288 with 1 Axes>"
      ]
     },
     "metadata": {},
     "output_type": "display_data"
    }
   ],
   "source": [
    "raw_df['ratings'] = raw_df['ratings'].astype(int)\n",
    "\n",
    "utable = pd.pivot_table(raw_df, index = 'userId', values = 'ratings', aggfunc = ['mean',len])\n",
    "sns.scatterplot(x = ('mean', 'ratings'), y = ( 'len', 'ratings'), data = utable)\n",
    "print('Max ratings by a single user : {}'.format(utable[( 'len', 'ratings')].max()))\n",
    "print('Mean ratings by a single user : {}'.format(utable[( 'mean', 'ratings')].mean()))"
   ]
  },
  {
   "cell_type": "code",
   "execution_count": 14,
   "metadata": {},
   "outputs": [
    {
     "name": "stdout",
     "output_type": "stream",
     "text": [
      "Max ratings on a single Product : 18244\n",
      "Mean ratings on a single Product : 3.889700263013443\n"
     ]
    },
    {
     "data": {
      "image/png": "[encoded data removed]",
      "text/plain": [
       "<Figure size 432x288 with 1 Axes>"
      ]
     },
     "metadata": {},
     "output_type": "display_data"
    }
   ],
   "source": [
    "ptable = pd.pivot_table(raw_df, index = 'productId', values = 'ratings', aggfunc = ['mean',len])\n",
    "sns.scatterplot(x = ('mean', 'ratings'), y = ( 'len', 'ratings'), data = ptable)\n",
    "print('Max ratings on a single Product : {}'.format(ptable[( 'len', 'ratings')].max()))\n",
    "print('Mean ratings on a single Product : {}'.format(ptable[( 'mean', 'ratings')].mean()))"
   ]
  },
  {
   "cell_type": "markdown",
   "metadata": {},
   "source": [
    "### Inferences\n",
    "\n",
    "1. There are no null values, duplicate values\n",
    "2. Ratings are 1,2,3,4,5 & Most ratings are 5\n",
    "3. On average a single customer rates 3.9 products & a product gets 3.88 rating\n",
    "4. Concentration of users & products are around its mean -> long tail dataset"
   ]
  },
  {
   "cell_type": "markdown",
   "metadata": {},
   "source": [
    "### Take a subset of the dataset to make it less sparse/ denser. ( For example, keep the users only who has given 50 or more number of ratings )"
   ]
  },
  {
   "cell_type": "code",
   "execution_count": 118,
   "metadata": {},
   "outputs": [
    {
     "name": "stdout",
     "output_type": "stream",
     "text": [
      "Number of users with >= 50 ratings : 1540\n",
      "Number of products with >= 50 ratings : 26226\n"
     ]
    }
   ],
   "source": [
    "# Taking products with >= 50 ratings & customers who have given >= 50 ratings\n",
    "\n",
    "print('Number of users with >= 50 ratings : {}'.format(utable[utable[( 'len', 'ratings')] >= 50].shape[0]))\n",
    "print('Number of products with >= 50 ratings : {}'.format(ptable[ptable[( 'len', 'ratings')] >= 50].shape[0]))      "
   ]
  },
  {
   "cell_type": "code",
   "execution_count": 16,
   "metadata": {},
   "outputs": [
    {
     "data": {
      "text/plain": [
       "(79182, 8)"
      ]
     },
     "execution_count": 16,
     "metadata": {},
     "output_type": "execute_result"
    }
   ],
   "source": [
    "sub_df = pd.merge(raw_df,utable[utable[( 'len', 'ratings')] >= 50],on = ['userId'], how = 'inner')\n",
    "sub_df = pd.merge(sub_df,ptable[ptable[( 'len', 'ratings')] >= 50],on = ['productId'], how = 'inner')\n",
    "sub_df.shape"
   ]
  },
  {
   "cell_type": "code",
   "execution_count": 17,
   "metadata": {},
   "outputs": [
    {
     "data": {
      "text/html": [
       "<div>\n",
       "<style scoped>\n",
       "    .dataframe tbody tr th:only-of-type {\n",
       "        vertical-align: middle;\n",
       "    }\n",
       "\n",
       "    .dataframe tbody tr th {\n",
       "        vertical-align: top;\n",
       "    }\n",
       "\n",
       "    .dataframe thead th {\n",
       "        text-align: right;\n",
       "    }\n",
       "</style>\n",
       "<table border=\"1\" class=\"dataframe\">\n",
       "  <thead>\n",
       "    <tr style=\"text-align: right;\">\n",
       "      <th></th>\n",
       "      <th>userId</th>\n",
       "      <th>productId</th>\n",
       "      <th>ratings</th>\n",
       "      <th>timestamp</th>\n",
       "      <th>('mean', 'ratings')_x</th>\n",
       "      <th>('len', 'ratings')_x</th>\n",
       "      <th>(mean_y, ratings)</th>\n",
       "      <th>(len_y, ratings)</th>\n",
       "    </tr>\n",
       "  </thead>\n",
       "  <tbody>\n",
       "    <tr>\n",
       "      <th>0</th>\n",
       "      <td>A3BY5KCNQZXV5U</td>\n",
       "      <td>B000063574</td>\n",
       "      <td>5</td>\n",
       "      <td>2002-03-21</td>\n",
       "      <td>4.160000</td>\n",
       "      <td>50</td>\n",
       "      <td>4.152893</td>\n",
       "      <td>242</td>\n",
       "    </tr>\n",
       "    <tr>\n",
       "      <th>1</th>\n",
       "      <td>A231WM2Z2JL0U3</td>\n",
       "      <td>B000063574</td>\n",
       "      <td>5</td>\n",
       "      <td>2002-11-13</td>\n",
       "      <td>4.309524</td>\n",
       "      <td>252</td>\n",
       "      <td>4.152893</td>\n",
       "      <td>242</td>\n",
       "    </tr>\n",
       "    <tr>\n",
       "      <th>2</th>\n",
       "      <td>A15J71JLC29KPW</td>\n",
       "      <td>B000063574</td>\n",
       "      <td>5</td>\n",
       "      <td>2002-03-03</td>\n",
       "      <td>4.164179</td>\n",
       "      <td>67</td>\n",
       "      <td>4.152893</td>\n",
       "      <td>242</td>\n",
       "    </tr>\n",
       "    <tr>\n",
       "      <th>3</th>\n",
       "      <td>A3BY5KCNQZXV5U</td>\n",
       "      <td>B0007Y794O</td>\n",
       "      <td>5</td>\n",
       "      <td>2013-05-30</td>\n",
       "      <td>4.160000</td>\n",
       "      <td>50</td>\n",
       "      <td>4.535857</td>\n",
       "      <td>502</td>\n",
       "    </tr>\n",
       "    <tr>\n",
       "      <th>4</th>\n",
       "      <td>AKT8TGIT6VVZ5</td>\n",
       "      <td>B0007Y794O</td>\n",
       "      <td>5</td>\n",
       "      <td>2006-05-11</td>\n",
       "      <td>4.833333</td>\n",
       "      <td>192</td>\n",
       "      <td>4.535857</td>\n",
       "      <td>502</td>\n",
       "    </tr>\n",
       "  </tbody>\n",
       "</table>\n",
       "</div>"
      ],
      "text/plain": [
       "           userId   productId  ratings  timestamp  ('mean', 'ratings')_x  \\\n",
       "0  A3BY5KCNQZXV5U  B000063574        5 2002-03-21               4.160000   \n",
       "1  A231WM2Z2JL0U3  B000063574        5 2002-11-13               4.309524   \n",
       "2  A15J71JLC29KPW  B000063574        5 2002-03-03               4.164179   \n",
       "3  A3BY5KCNQZXV5U  B0007Y794O        5 2013-05-30               4.160000   \n",
       "4   AKT8TGIT6VVZ5  B0007Y794O        5 2006-05-11               4.833333   \n",
       "\n",
       "   ('len', 'ratings')_x  (mean_y, ratings)  (len_y, ratings)  \n",
       "0                    50           4.152893               242  \n",
       "1                   252           4.152893               242  \n",
       "2                    67           4.152893               242  \n",
       "3                    50           4.535857               502  \n",
       "4                   192           4.535857               502  "
      ]
     },
     "execution_count": 17,
     "metadata": {},
     "output_type": "execute_result"
    }
   ],
   "source": [
    "sub_df.head()"
   ]
  },
  {
   "cell_type": "markdown",
   "metadata": {},
   "source": [
    "### Build Popularity Recommender model."
   ]
  },
  {
   "cell_type": "code",
   "execution_count": 75,
   "metadata": {},
   "outputs": [
    {
     "data": {
      "text/html": [
       "<div>\n",
       "<style scoped>\n",
       "    .dataframe tbody tr th:only-of-type {\n",
       "        vertical-align: middle;\n",
       "    }\n",
       "\n",
       "    .dataframe tbody tr th {\n",
       "        vertical-align: top;\n",
       "    }\n",
       "\n",
       "    .dataframe thead th {\n",
       "        text-align: right;\n",
       "    }\n",
       "</style>\n",
       "<table border=\"1\" class=\"dataframe\">\n",
       "  <thead>\n",
       "    <tr style=\"text-align: right;\">\n",
       "      <th></th>\n",
       "      <th>Mean_Ratings</th>\n",
       "      <th>Count_Ratings</th>\n",
       "    </tr>\n",
       "    <tr>\n",
       "      <th>productId</th>\n",
       "      <th></th>\n",
       "      <th></th>\n",
       "    </tr>\n",
       "  </thead>\n",
       "  <tbody>\n",
       "    <tr>\n",
       "      <th>B004I763AW</th>\n",
       "      <td>4.97</td>\n",
       "      <td>60</td>\n",
       "    </tr>\n",
       "    <tr>\n",
       "      <th>B0043ZLFXE</th>\n",
       "      <td>4.96</td>\n",
       "      <td>90</td>\n",
       "    </tr>\n",
       "    <tr>\n",
       "      <th>B0000DYV9H</th>\n",
       "      <td>4.95</td>\n",
       "      <td>76</td>\n",
       "    </tr>\n",
       "    <tr>\n",
       "      <th>B008VGCT9K</th>\n",
       "      <td>4.94</td>\n",
       "      <td>230</td>\n",
       "    </tr>\n",
       "    <tr>\n",
       "      <th>B00FX9WJNO</th>\n",
       "      <td>4.92</td>\n",
       "      <td>145</td>\n",
       "    </tr>\n",
       "  </tbody>\n",
       "</table>\n",
       "</div>"
      ],
      "text/plain": [
       "            Mean_Ratings  Count_Ratings\n",
       "productId                              \n",
       "B004I763AW          4.97             60\n",
       "B0043ZLFXE          4.96             90\n",
       "B0000DYV9H          4.95             76\n",
       "B008VGCT9K          4.94            230\n",
       "B00FX9WJNO          4.92            145"
      ]
     },
     "execution_count": 75,
     "metadata": {},
     "output_type": "execute_result"
    }
   ],
   "source": [
    "pdf = sub_df[['productId',('mean_y', 'ratings'),('len_y', 'ratings')]]\n",
    "pdf.rename(columns = {('mean_y', 'ratings'):'Mean_Ratings',('len_y', 'ratings'):'Count_Ratings'}, inplace = True)\n",
    "pdf['Mean_Ratings'] = pdf['Mean_Ratings'].round(decimals = 2)\n",
    "pdf.drop_duplicates(subset = 'productId', keep = False, inplace = True)\n",
    "pdf = pdf.sort_values([\"Mean_Ratings\", \"Count_Ratings\"], ascending = (False, False))\n",
    "pdf.set_index(['productId'], inplace = True)\n",
    "pdf.head()"
   ]
  },
  {
   "cell_type": "markdown",
   "metadata": {},
   "source": [
    "#### These 5 products would be recommended to all users through the popularity based model"
   ]
  },
  {
   "cell_type": "code",
   "execution_count": 19,
   "metadata": {},
   "outputs": [
    {
     "data": {
      "text/html": [
       "<div>\n",
       "<style scoped>\n",
       "    .dataframe tbody tr th:only-of-type {\n",
       "        vertical-align: middle;\n",
       "    }\n",
       "\n",
       "    .dataframe tbody tr th {\n",
       "        vertical-align: top;\n",
       "    }\n",
       "\n",
       "    .dataframe thead th {\n",
       "        text-align: right;\n",
       "    }\n",
       "</style>\n",
       "<table border=\"1\" class=\"dataframe\">\n",
       "  <thead>\n",
       "    <tr style=\"text-align: right;\">\n",
       "      <th></th>\n",
       "      <th>userId</th>\n",
       "      <th>productId</th>\n",
       "      <th>ratings</th>\n",
       "    </tr>\n",
       "  </thead>\n",
       "  <tbody>\n",
       "    <tr>\n",
       "      <th>0</th>\n",
       "      <td>A3BY5KCNQZXV5U</td>\n",
       "      <td>B000063574</td>\n",
       "      <td>5</td>\n",
       "    </tr>\n",
       "    <tr>\n",
       "      <th>1</th>\n",
       "      <td>A231WM2Z2JL0U3</td>\n",
       "      <td>B000063574</td>\n",
       "      <td>5</td>\n",
       "    </tr>\n",
       "    <tr>\n",
       "      <th>2</th>\n",
       "      <td>A15J71JLC29KPW</td>\n",
       "      <td>B000063574</td>\n",
       "      <td>5</td>\n",
       "    </tr>\n",
       "    <tr>\n",
       "      <th>3</th>\n",
       "      <td>A3BY5KCNQZXV5U</td>\n",
       "      <td>B0007Y794O</td>\n",
       "      <td>5</td>\n",
       "    </tr>\n",
       "    <tr>\n",
       "      <th>4</th>\n",
       "      <td>AKT8TGIT6VVZ5</td>\n",
       "      <td>B0007Y794O</td>\n",
       "      <td>5</td>\n",
       "    </tr>\n",
       "  </tbody>\n",
       "</table>\n",
       "</div>"
      ],
      "text/plain": [
       "           userId   productId  ratings\n",
       "0  A3BY5KCNQZXV5U  B000063574        5\n",
       "1  A231WM2Z2JL0U3  B000063574        5\n",
       "2  A15J71JLC29KPW  B000063574        5\n",
       "3  A3BY5KCNQZXV5U  B0007Y794O        5\n",
       "4   AKT8TGIT6VVZ5  B0007Y794O        5"
      ]
     },
     "execution_count": 19,
     "metadata": {},
     "output_type": "execute_result"
    }
   ],
   "source": [
    "mod_df = sub_df[['userId','productId','ratings']].copy()\n",
    "mod_df.head()"
   ]
  },
  {
   "cell_type": "code",
   "execution_count": 20,
   "metadata": {},
   "outputs": [
    {
     "name": "stdout",
     "output_type": "stream",
     "text": [
      "<class 'pandas.core.frame.DataFrame'>\n",
      "Int64Index: 79182 entries, 0 to 79181\n",
      "Data columns (total 3 columns):\n",
      " #   Column     Non-Null Count  Dtype \n",
      "---  ------     --------------  ----- \n",
      " 0   userId     79182 non-null  object\n",
      " 1   productId  79182 non-null  object\n",
      " 2   ratings    79182 non-null  int32 \n",
      "dtypes: int32(1), object(2)\n",
      "memory usage: 2.1+ MB\n"
     ]
    }
   ],
   "source": [
    "mod_df.info()"
   ]
  },
  {
   "cell_type": "code",
   "execution_count": 23,
   "metadata": {},
   "outputs": [],
   "source": [
    "from surprise import SVD, KNNWithMeans\n",
    "from surprise import Dataset\n",
    "from surprise import Reader\n",
    "from surprise.model_selection import train_test_split\n",
    "from surprise import accuracy\n",
    "\n",
    "reader = Reader(rating_scale = (1,5))\n",
    "\n",
    "sdf = Dataset.load_from_df(mod_df,reader)"
   ]
  },
  {
   "cell_type": "markdown",
   "metadata": {},
   "source": [
    "### Split the data randomly into a train and test dataset. ( For example, split it in 70/30 ratio)"
   ]
  },
  {
   "cell_type": "code",
   "execution_count": 24,
   "metadata": {},
   "outputs": [],
   "source": [
    "train, test = train_test_split(sdf, test_size = 0.3, random_state = 2)"
   ]
  },
  {
   "cell_type": "markdown",
   "metadata": {},
   "source": [
    "### Build Collaborative Filtering model."
   ]
  },
  {
   "cell_type": "code",
   "execution_count": 25,
   "metadata": {},
   "outputs": [
    {
     "data": {
      "text/plain": [
       "<surprise.prediction_algorithms.matrix_factorization.SVD at 0x1fa062a0700>"
      ]
     },
     "execution_count": 25,
     "metadata": {},
     "output_type": "execute_result"
    }
   ],
   "source": [
    "svd = SVD()\n",
    "\n",
    "svd.fit(train)"
   ]
  },
  {
   "cell_type": "code",
   "execution_count": 26,
   "metadata": {},
   "outputs": [
    {
     "name": "stdout",
     "output_type": "stream",
     "text": [
      "Estimating biases using als...\n",
      "Computing the pearson_baseline similarity matrix...\n",
      "Done computing similarity matrix.\n"
     ]
    },
    {
     "data": {
      "text/plain": [
       "<surprise.prediction_algorithms.knns.KNNWithMeans at 0x1fa062ba670>"
      ]
     },
     "execution_count": 26,
     "metadata": {},
     "output_type": "execute_result"
    }
   ],
   "source": [
    "kwm_p = KNNWithMeans(k = 50, sim_options={'name':'pearson_baseline', 'user_base':True})\n",
    "\n",
    "kwm_p.fit(train)"
   ]
  },
  {
   "cell_type": "code",
   "execution_count": 27,
   "metadata": {},
   "outputs": [
    {
     "name": "stdout",
     "output_type": "stream",
     "text": [
      "Computing the cosine similarity matrix...\n",
      "Done computing similarity matrix.\n"
     ]
    },
    {
     "data": {
      "text/plain": [
       "<surprise.prediction_algorithms.knns.KNNWithMeans at 0x1fa062ba880>"
      ]
     },
     "execution_count": 27,
     "metadata": {},
     "output_type": "execute_result"
    }
   ],
   "source": [
    "kwm_c = KNNWithMeans(k = 50, sim_options={'name':'cosine', 'user_base':True})\n",
    "\n",
    "kwm_c.fit(train)"
   ]
  },
  {
   "cell_type": "markdown",
   "metadata": {},
   "source": [
    "### Evaluate the above model. ( Once the model is trained on the training data, it can be used to compute the error (like RMSE) on predictions made on the test data.) You can also use a different method to evaluate the models."
   ]
  },
  {
   "cell_type": "code",
   "execution_count": 39,
   "metadata": {},
   "outputs": [],
   "source": [
    "def precision_recall_at_k(predictions, k=10, threshold=3.5):\n",
    "    \"\"\"Return precision and recall at k metrics for each user\"\"\"\n",
    "\n",
    "    # First map the predictions to each user.\n",
    "    user_est_true = defaultdict(list)\n",
    "    for uid, _, true_r, est, _ in predictions:\n",
    "        user_est_true[uid].append((est, true_r))\n",
    "\n",
    "    precisions = dict()\n",
    "    recalls = dict()\n",
    "    for uid, user_ratings in user_est_true.items():\n",
    "\n",
    "        # Sort user ratings by estimated value\n",
    "        user_ratings.sort(key=lambda x: x[0], reverse=True)\n",
    "\n",
    "        # Number of relevant items\n",
    "        n_rel = sum((true_r >= threshold) for (_, true_r) in user_ratings)\n",
    "\n",
    "        # Number of recommended items in top k\n",
    "        n_rec_k = sum((est >= threshold) for (est, _) in user_ratings[:k])\n",
    "\n",
    "        # Number of relevant and recommended items in top k\n",
    "        n_rel_and_rec_k = sum(((true_r >= threshold) and (est >= threshold))\n",
    "                              for (est, true_r) in user_ratings[:k])\n",
    "\n",
    "        # Precision@K: Proportion of recommended items that are relevant\n",
    "        # When n_rec_k is 0, Precision is undefined. We here set it to 0.\n",
    "\n",
    "        precisions[uid] = n_rel_and_rec_k / n_rec_k if n_rec_k != 0 else 0\n",
    "\n",
    "        # Recall@K: Proportion of relevant items that are recommended\n",
    "        # When n_rel is 0, Recall is undefined. We here set it to 0.\n",
    "\n",
    "        recalls[uid] = n_rel_and_rec_k / n_rel if n_rel != 0 else 0\n",
    "\n",
    "    return precisions, recalls\n"
   ]
  },
  {
   "cell_type": "code",
   "execution_count": 38,
   "metadata": {},
   "outputs": [
    {
     "data": {
      "text/html": [
       "<div>\n",
       "<style scoped>\n",
       "    .dataframe tbody tr th:only-of-type {\n",
       "        vertical-align: middle;\n",
       "    }\n",
       "\n",
       "    .dataframe tbody tr th {\n",
       "        vertical-align: top;\n",
       "    }\n",
       "\n",
       "    .dataframe thead th {\n",
       "        text-align: right;\n",
       "    }\n",
       "</style>\n",
       "<table border=\"1\" class=\"dataframe\">\n",
       "  <thead>\n",
       "    <tr style=\"text-align: right;\">\n",
       "      <th></th>\n",
       "      <th>SVD</th>\n",
       "      <th>KNNWM_P</th>\n",
       "      <th>KNNWM_C</th>\n",
       "    </tr>\n",
       "  </thead>\n",
       "  <tbody>\n",
       "    <tr>\n",
       "      <th>RMSE</th>\n",
       "      <td>0.964</td>\n",
       "      <td>1.04</td>\n",
       "      <td>1.05</td>\n",
       "    </tr>\n",
       "    <tr>\n",
       "      <th>MAE</th>\n",
       "      <td>0.705</td>\n",
       "      <td>0.749</td>\n",
       "      <td>0.739</td>\n",
       "    </tr>\n",
       "    <tr>\n",
       "      <th>Precision</th>\n",
       "      <td>0.849</td>\n",
       "      <td>0.832</td>\n",
       "      <td>0.86</td>\n",
       "    </tr>\n",
       "    <tr>\n",
       "      <th>Recall</th>\n",
       "      <td>0.388</td>\n",
       "      <td>0.376</td>\n",
       "      <td>0.398</td>\n",
       "    </tr>\n",
       "  </tbody>\n",
       "</table>\n",
       "</div>"
      ],
      "text/plain": [
       "             SVD KNNWM_P KNNWM_C\n",
       "RMSE       0.964    1.04    1.05\n",
       "MAE        0.705   0.749   0.739\n",
       "Precision  0.849   0.832    0.86\n",
       "Recall     0.388   0.376   0.398"
      ]
     },
     "execution_count": 38,
     "metadata": {},
     "output_type": "execute_result"
    }
   ],
   "source": [
    "adf = pd.DataFrame(columns = ['SVD','KNNWM_P','KNNWM_C'], index = ['RMSE','MAE','Precision','Recall'])\n",
    "adf.loc['RMSE',:] = [round(accuracy.rmse(svd.test(test), verbose = False),3),round(accuracy.rmse(kwm_p.test(test), verbose = False),3),round(accuracy.rmse(kwm_c.test(test), verbose = False),3)]\n",
    "adf.loc['MAE',:] = [round(accuracy.mae(svd.test(test), verbose = False),3),round(accuracy.mae(kwm_p.test(test), verbose = False),3),round(accuracy.mae(kwm_c.test(test), verbose = False),3)]\n",
    "\n",
    "spred = svd.test(test)\n",
    "precisions, recalls = precision_recall_at_k(spred, k=5, threshold=4)\n",
    "adf.loc['Precision','SVD'] = round(sum(prec for prec in precisions.values()) / len(precisions),3) \n",
    "adf.loc['Recall','SVD'] = round(sum(rec for rec in recalls.values()) / len(recalls),3)\n",
    "\n",
    "spred = kwm_p.test(test)\n",
    "precisions, recalls = precision_recall_at_k(spred, k=5, threshold=4)\n",
    "adf.loc['Precision','KNNWM_P'] = round(sum(prec for prec in precisions.values()) / len(precisions),3) \n",
    "adf.loc['Recall','KNNWM_P'] = round(sum(rec for rec in recalls.values()) / len(recalls),3)\n",
    "\n",
    "spred = kwm_c.test(test)\n",
    "precisions, recalls = precision_recall_at_k(spred, k=5, threshold=4)\n",
    "adf.loc['Precision','KNNWM_C'] = round(sum(prec for prec in precisions.values()) / len(precisions),3) \n",
    "adf.loc['Recall','KNNWM_C'] = round(sum(rec for rec in recalls.values()) / len(recalls),3)\n",
    "\n",
    "adf"
   ]
  },
  {
   "cell_type": "markdown",
   "metadata": {},
   "source": [
    "#### Considering SVD as it has the best scores"
   ]
  },
  {
   "cell_type": "markdown",
   "metadata": {},
   "source": [
    "### Get top - K ( K = 5) recommendations. Since our goal is to recommend new products to each user based on his/her habits, we will recommend 5 new products."
   ]
  },
  {
   "cell_type": "code",
   "execution_count": 29,
   "metadata": {},
   "outputs": [],
   "source": [
    "from collections import defaultdict\n",
    "\n",
    "def get_top_n(predictions, n=10):\n",
    "    \n",
    "    top_n = defaultdict(list)\n",
    "    for uid, iid, true_r, est, _ in predictions:\n",
    "            top_n[uid].append((iid, est))\n",
    "        \n",
    "    for uid, user_ratings in top_n.items():\n",
    "        user_ratings.sort(key=lambda x: x[1], reverse=True)\n",
    "        top_n[uid] = user_ratings[:n]\n",
    "\n",
    "    return top_n"
   ]
  },
  {
   "cell_type": "code",
   "execution_count": 30,
   "metadata": {},
   "outputs": [],
   "source": [
    "fullset = sdf.build_full_trainset()"
   ]
  },
  {
   "cell_type": "code",
   "execution_count": 31,
   "metadata": {},
   "outputs": [],
   "source": [
    "predset = fullset.build_anti_testset()"
   ]
  },
  {
   "cell_type": "code",
   "execution_count": 32,
   "metadata": {},
   "outputs": [],
   "source": [
    "pred = svd.test(predset)"
   ]
  },
  {
   "cell_type": "code",
   "execution_count": 33,
   "metadata": {},
   "outputs": [
    {
     "data": {
      "text/html": [
       "<div>\n",
       "<style scoped>\n",
       "    .dataframe tbody tr th:only-of-type {\n",
       "        vertical-align: middle;\n",
       "    }\n",
       "\n",
       "    .dataframe tbody tr th {\n",
       "        vertical-align: top;\n",
       "    }\n",
       "\n",
       "    .dataframe thead th {\n",
       "        text-align: right;\n",
       "    }\n",
       "</style>\n",
       "<table border=\"1\" class=\"dataframe\">\n",
       "  <thead>\n",
       "    <tr style=\"text-align: right;\">\n",
       "      <th></th>\n",
       "      <th>product_1</th>\n",
       "      <th>product_2</th>\n",
       "      <th>product_3</th>\n",
       "      <th>product_4</th>\n",
       "      <th>product_5</th>\n",
       "    </tr>\n",
       "    <tr>\n",
       "      <th>userId</th>\n",
       "      <th></th>\n",
       "      <th></th>\n",
       "      <th></th>\n",
       "      <th></th>\n",
       "      <th></th>\n",
       "    </tr>\n",
       "  </thead>\n",
       "  <tbody>\n",
       "    <tr>\n",
       "      <th>A3BY5KCNQZXV5U</th>\n",
       "      <td>B00BQ4F9ZA</td>\n",
       "      <td>B0000BZL1P</td>\n",
       "      <td>B00005LEN4</td>\n",
       "      <td>B0052SCU8U</td>\n",
       "      <td>B00081A2KY</td>\n",
       "    </tr>\n",
       "    <tr>\n",
       "      <th>A231WM2Z2JL0U3</th>\n",
       "      <td>B0000BZL1P</td>\n",
       "      <td>B002TMRZOQ</td>\n",
       "      <td>B000N99BBC</td>\n",
       "      <td>B002V8C3W2</td>\n",
       "      <td>B000F7QRTG</td>\n",
       "    </tr>\n",
       "    <tr>\n",
       "      <th>A15J71JLC29KPW</th>\n",
       "      <td>B001MSU1FS</td>\n",
       "      <td>B00007GQLS</td>\n",
       "      <td>B00IVFDZBC</td>\n",
       "      <td>B001OC6DCW</td>\n",
       "      <td>B0019EHU8G</td>\n",
       "    </tr>\n",
       "    <tr>\n",
       "      <th>AKT8TGIT6VVZ5</th>\n",
       "      <td>B000QUUFRW</td>\n",
       "      <td>B002K450QI</td>\n",
       "      <td>B003VAHYNC</td>\n",
       "      <td>B003XM1WE0</td>\n",
       "      <td>B0071BTJPI</td>\n",
       "    </tr>\n",
       "    <tr>\n",
       "      <th>A1ILWPH1GHUXE2</th>\n",
       "      <td>B002TMRZOQ</td>\n",
       "      <td>B00BQ4F9ZA</td>\n",
       "      <td>B000FQ2JLW</td>\n",
       "      <td>B00D5Q75RC</td>\n",
       "      <td>B00429N18S</td>\n",
       "    </tr>\n",
       "  </tbody>\n",
       "</table>\n",
       "</div>"
      ],
      "text/plain": [
       "                 product_1   product_2   product_3   product_4   product_5\n",
       "userId                                                                    \n",
       "A3BY5KCNQZXV5U  B00BQ4F9ZA  B0000BZL1P  B00005LEN4  B0052SCU8U  B00081A2KY\n",
       "A231WM2Z2JL0U3  B0000BZL1P  B002TMRZOQ  B000N99BBC  B002V8C3W2  B000F7QRTG\n",
       "A15J71JLC29KPW  B001MSU1FS  B00007GQLS  B00IVFDZBC  B001OC6DCW  B0019EHU8G\n",
       "AKT8TGIT6VVZ5   B000QUUFRW  B002K450QI  B003VAHYNC  B003XM1WE0  B0071BTJPI\n",
       "A1ILWPH1GHUXE2  B002TMRZOQ  B00BQ4F9ZA  B000FQ2JLW  B00D5Q75RC  B00429N18S"
      ]
     },
     "execution_count": 33,
     "metadata": {},
     "output_type": "execute_result"
    }
   ],
   "source": [
    "rdf = pd.DataFrame(columns = ['userId','product_1','product_2','product_3','product_4','product_5'])\n",
    "i = 0\n",
    "\n",
    "top_5 = get_top_n(pred,5)\n",
    "\n",
    "for uid, user_ratings in top_5.items():\n",
    "    rdf.loc[i,'userId'] = uid\n",
    "    j = [iid for (iid, _) in user_ratings]\n",
    "    rdf.loc[i,'product_1'] = j[0]\n",
    "    rdf.loc[i,'product_2'] = j[1]\n",
    "    rdf.loc[i,'product_3'] = j[2]\n",
    "    rdf.loc[i,'product_4'] = j[3]\n",
    "    rdf.loc[i,'product_5'] = j[4]\n",
    "    i += 1\n",
    "\n",
    "rdf.set_index('userId', inplace = True)\n",
    "rdf.head()"
   ]
  },
  {
   "cell_type": "markdown",
   "metadata": {},
   "source": [
    "### Summarise your insights.\n",
    "\n",
    "#### Coverage & Personalization are checked to assess the model"
   ]
  },
  {
   "cell_type": "code",
   "execution_count": 77,
   "metadata": {},
   "outputs": [
    {
     "name": "stdout",
     "output_type": "stream",
     "text": [
      "Number of unique products recommended in Top 5 across users: 489, Coverage : 0.084\n"
     ]
    }
   ],
   "source": [
    "unique_list = [] \n",
    "      \n",
    "for uid, user_ratings in top_5.items():\n",
    "    j = [iid for (iid, _) in user_ratings]\n",
    "    for x in j:\n",
    "        if x not in unique_list:\n",
    "            unique_list.append(x) \n",
    "\n",
    "#print(f'Number of unique products recommended in Top 5: {len(unique_list)}, Coverage : {len(unique_list)/mod_df['productId'].nunique()}')\n",
    "print('Number of unique products recommended in Top 5 across users: {}, Coverage : {}'.format(len(unique_list),round(len(unique_list)/pdf.shape[0],3)))  "
   ]
  },
  {
   "cell_type": "code",
   "execution_count": 114,
   "metadata": {},
   "outputs": [],
   "source": [
    "sim_df = pd.DataFrame(columns = ['uid','iid','rating'])\n",
    "i = 0\n",
    "\n",
    "for uid, user_ratings in top_5.items():\n",
    "    j = [iid for (iid, _) in user_ratings]\n",
    "    k = [est for (_, est) in user_ratings]\n",
    "    for x in np.arange(0,5):\n",
    "        sim_df.loc[i,'uid'] = uid\n",
    "        sim_df.loc[i,'iid'] = j[x]\n",
    "        sim_df.loc[i,'rating'] = k[x]\n",
    "        i += 1                      "
   ]
  },
  {
   "cell_type": "code",
   "execution_count": 117,
   "metadata": {},
   "outputs": [
    {
     "name": "stdout",
     "output_type": "stream",
     "text": [
      "Computing the cosine similarity matrix...\n",
      "Done computing similarity matrix.\n",
      "Similarity between recommendations amongst users: 0.34\n"
     ]
    }
   ],
   "source": [
    "from surprise import KNNBasic \n",
    "\n",
    "algo = KNNBasic(sim_options={'name':'cosine', 'user_base':True})\n",
    "reader = Reader()\n",
    "xdf = Dataset.load_from_df(sim_df,reader)\n",
    "xdf = xdf.build_full_trainset()\n",
    "algo.fit(xdf)\n",
    "\n",
    "print('Similarity between recommendations amongst users: {}'.format(round(algo.sim.mean(),2)))  "
   ]
  }
 ],
 "metadata": {
  "kernelspec": {
   "display_name": "Python 3",
   "language": "python",
   "name": "python3"
  },
  "language_info": {
   "codemirror_mode": {
    "name": "ipython",
    "version": 3
   },
   "file_extension": ".py",
   "mimetype": "text/x-python",
   "name": "python",
   "nbconvert_exporter": "python",
   "pygments_lexer": "ipython3",
   "version": "3.8.3"
  }
 },
 "nbformat": 4,
 "nbformat_minor": 4
}

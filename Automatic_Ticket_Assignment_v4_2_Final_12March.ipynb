{
  "nbformat": 4,
  "nbformat_minor": 0,
  "metadata": {
    "accelerator": "GPU",
    "colab": {
      "name": "Automatic_Ticket_Assignment_v4-2_Final_12March.ipynb",
      "provenance": [],
      "collapsed_sections": []
    },
    "kernelspec": {
      "display_name": "Python 3",
      "name": "python3"
    }
  },
  "cells": [
    {
      "cell_type": "code",
      "metadata": {
        "colab": {
          "base_uri": "https://localhost:8080/"
        },
        "id": "EZr9AGjrocDm",
        "outputId": "9d5ca108-d75d-4cbf-b3c9-d68f067a45ba"
      },
      "source": [
        "from google.colab import drive\r\n",
        "drive.mount('/content/drive')\r\n",
        "\r\n",
        "project_path = '/content/drive/My Drive/Capstone'"
      ],
      "execution_count": 1,
      "outputs": [
        {
          "output_type": "stream",
          "text": [
            "Drive already mounted at /content/drive; to attempt to forcibly remount, call drive.mount(\"/content/drive\", force_remount=True).\n"
          ],
          "name": "stdout"
        }
      ]
    },
    {
      "cell_type": "code",
      "metadata": {
        "id": "pqHvw_TFozMe"
      },
      "source": [
        "import pandas as pd\r\n",
        "import numpy as np\r\n",
        "\r\n",
        "df = pd.read_excel('/content/drive/My Drive/input_data.xlsx', sheet_name='Sheet1')"
      ],
      "execution_count": 2,
      "outputs": []
    },
    {
      "cell_type": "markdown",
      "metadata": {
        "id": "BOC8HFeWpFdD"
      },
      "source": [
        "# EDA"
      ]
    },
    {
      "cell_type": "code",
      "metadata": {
        "colab": {
          "base_uri": "https://localhost:8080/",
          "height": 204
        },
        "id": "CieOYeL1pC22",
        "outputId": "e1a00818-122a-473f-bdb1-2ad74d550611"
      },
      "source": [
        "df.head()"
      ],
      "execution_count": 3,
      "outputs": [
        {
          "output_type": "execute_result",
          "data": {
            "text/html": [
              "<div>\n",
              "<style scoped>\n",
              "    .dataframe tbody tr th:only-of-type {\n",
              "        vertical-align: middle;\n",
              "    }\n",
              "\n",
              "    .dataframe tbody tr th {\n",
              "        vertical-align: top;\n",
              "    }\n",
              "\n",
              "    .dataframe thead th {\n",
              "        text-align: right;\n",
              "    }\n",
              "</style>\n",
              "<table border=\"1\" class=\"dataframe\">\n",
              "  <thead>\n",
              "    <tr style=\"text-align: right;\">\n",
              "      <th></th>\n",
              "      <th>Short description</th>\n",
              "      <th>Description</th>\n",
              "      <th>Caller</th>\n",
              "      <th>Assignment group</th>\n",
              "    </tr>\n",
              "  </thead>\n",
              "  <tbody>\n",
              "    <tr>\n",
              "      <th>0</th>\n",
              "      <td>login issue</td>\n",
              "      <td>-verified user details.(employee# &amp; manager na...</td>\n",
              "      <td>spxjnwir pjlcoqds</td>\n",
              "      <td>GRP_0</td>\n",
              "    </tr>\n",
              "    <tr>\n",
              "      <th>1</th>\n",
              "      <td>outlook</td>\n",
              "      <td>\\r\\n\\r\\nreceived from: hmjdrvpb.komuaywn@gmail...</td>\n",
              "      <td>hmjdrvpb komuaywn</td>\n",
              "      <td>GRP_0</td>\n",
              "    </tr>\n",
              "    <tr>\n",
              "      <th>2</th>\n",
              "      <td>cant log in to vpn</td>\n",
              "      <td>\\r\\n\\r\\nreceived from: eylqgodm.ybqkwiam@gmail...</td>\n",
              "      <td>eylqgodm ybqkwiam</td>\n",
              "      <td>GRP_0</td>\n",
              "    </tr>\n",
              "    <tr>\n",
              "      <th>3</th>\n",
              "      <td>unable to access hr_tool page</td>\n",
              "      <td>unable to access hr_tool page</td>\n",
              "      <td>xbkucsvz gcpydteq</td>\n",
              "      <td>GRP_0</td>\n",
              "    </tr>\n",
              "    <tr>\n",
              "      <th>4</th>\n",
              "      <td>skype error</td>\n",
              "      <td>skype error</td>\n",
              "      <td>owlgqjme qhcozdfx</td>\n",
              "      <td>GRP_0</td>\n",
              "    </tr>\n",
              "  </tbody>\n",
              "</table>\n",
              "</div>"
            ],
            "text/plain": [
              "               Short description  ... Assignment group\n",
              "0                    login issue  ...            GRP_0\n",
              "1                        outlook  ...            GRP_0\n",
              "2             cant log in to vpn  ...            GRP_0\n",
              "3  unable to access hr_tool page  ...            GRP_0\n",
              "4                   skype error   ...            GRP_0\n",
              "\n",
              "[5 rows x 4 columns]"
            ]
          },
          "metadata": {
            "tags": []
          },
          "execution_count": 3
        }
      ]
    },
    {
      "cell_type": "code",
      "metadata": {
        "colab": {
          "base_uri": "https://localhost:8080/"
        },
        "id": "5KdmP6HqpK3V",
        "outputId": "8aabe278-f85e-46eb-e3df-48678000e58d"
      },
      "source": [
        "print(f'Database shape: ',df.shape)\r\n",
        "print(df.info())"
      ],
      "execution_count": 4,
      "outputs": [
        {
          "output_type": "stream",
          "text": [
            "Database shape:  (8500, 4)\n",
            "<class 'pandas.core.frame.DataFrame'>\n",
            "RangeIndex: 8500 entries, 0 to 8499\n",
            "Data columns (total 4 columns):\n",
            " #   Column             Non-Null Count  Dtype \n",
            "---  ------             --------------  ----- \n",
            " 0   Short description  8492 non-null   object\n",
            " 1   Description        8499 non-null   object\n",
            " 2   Caller             8500 non-null   object\n",
            " 3   Assignment group   8500 non-null   object\n",
            "dtypes: object(4)\n",
            "memory usage: 265.8+ KB\n",
            "None\n"
          ],
          "name": "stdout"
        }
      ]
    },
    {
      "cell_type": "code",
      "metadata": {
        "colab": {
          "base_uri": "https://localhost:8080/"
        },
        "id": "TgYPmDUzpPIF",
        "outputId": "6f47f376-96be-4db0-c7f5-c15354306729"
      },
      "source": [
        "df.isnull().sum()"
      ],
      "execution_count": 5,
      "outputs": [
        {
          "output_type": "execute_result",
          "data": {
            "text/plain": [
              "Short description    8\n",
              "Description          1\n",
              "Caller               0\n",
              "Assignment group     0\n",
              "dtype: int64"
            ]
          },
          "metadata": {
            "tags": []
          },
          "execution_count": 5
        }
      ]
    },
    {
      "cell_type": "code",
      "metadata": {
        "colab": {
          "base_uri": "https://localhost:8080/"
        },
        "id": "v6N6SUIQpRVo",
        "outputId": "64693b61-63eb-486f-94c0-3adbfdcf246c"
      },
      "source": [
        "print(f'Unique assignment groups: ',df['Assignment group'].nunique())\r\n",
        "print(f'Unique callers: ',df['Caller'].nunique())\r\n",
        "print(f'Unique short descriptions: ',df['Short description'].nunique())"
      ],
      "execution_count": 6,
      "outputs": [
        {
          "output_type": "stream",
          "text": [
            "Unique assignment groups:  74\n",
            "Unique callers:  2950\n",
            "Unique short descriptions:  7481\n"
          ],
          "name": "stdout"
        }
      ]
    },
    {
      "cell_type": "code",
      "metadata": {
        "colab": {
          "base_uri": "https://localhost:8080/",
          "height": 142
        },
        "id": "V8nC0yimpUVg",
        "outputId": "bdefb0ed-9d06-4c2f-86b5-389969b65f84"
      },
      "source": [
        "df[\"Merge_Desc\"]=df[\"Short description\"].astype(str)+df[\"Description\"].astype(str) \r\n",
        "df.head(3)"
      ],
      "execution_count": 7,
      "outputs": [
        {
          "output_type": "execute_result",
          "data": {
            "text/html": [
              "<div>\n",
              "<style scoped>\n",
              "    .dataframe tbody tr th:only-of-type {\n",
              "        vertical-align: middle;\n",
              "    }\n",
              "\n",
              "    .dataframe tbody tr th {\n",
              "        vertical-align: top;\n",
              "    }\n",
              "\n",
              "    .dataframe thead th {\n",
              "        text-align: right;\n",
              "    }\n",
              "</style>\n",
              "<table border=\"1\" class=\"dataframe\">\n",
              "  <thead>\n",
              "    <tr style=\"text-align: right;\">\n",
              "      <th></th>\n",
              "      <th>Short description</th>\n",
              "      <th>Description</th>\n",
              "      <th>Caller</th>\n",
              "      <th>Assignment group</th>\n",
              "      <th>Merge_Desc</th>\n",
              "    </tr>\n",
              "  </thead>\n",
              "  <tbody>\n",
              "    <tr>\n",
              "      <th>0</th>\n",
              "      <td>login issue</td>\n",
              "      <td>-verified user details.(employee# &amp; manager na...</td>\n",
              "      <td>spxjnwir pjlcoqds</td>\n",
              "      <td>GRP_0</td>\n",
              "      <td>login issue-verified user details.(employee# &amp;...</td>\n",
              "    </tr>\n",
              "    <tr>\n",
              "      <th>1</th>\n",
              "      <td>outlook</td>\n",
              "      <td>\\r\\n\\r\\nreceived from: hmjdrvpb.komuaywn@gmail...</td>\n",
              "      <td>hmjdrvpb komuaywn</td>\n",
              "      <td>GRP_0</td>\n",
              "      <td>outlook\\r\\n\\r\\nreceived from: hmjdrvpb.komuayw...</td>\n",
              "    </tr>\n",
              "    <tr>\n",
              "      <th>2</th>\n",
              "      <td>cant log in to vpn</td>\n",
              "      <td>\\r\\n\\r\\nreceived from: eylqgodm.ybqkwiam@gmail...</td>\n",
              "      <td>eylqgodm ybqkwiam</td>\n",
              "      <td>GRP_0</td>\n",
              "      <td>cant log in to vpn\\r\\n\\r\\nreceived from: eylqg...</td>\n",
              "    </tr>\n",
              "  </tbody>\n",
              "</table>\n",
              "</div>"
            ],
            "text/plain": [
              "    Short description  ...                                         Merge_Desc\n",
              "0         login issue  ...  login issue-verified user details.(employee# &...\n",
              "1             outlook  ...  outlook\\r\\n\\r\\nreceived from: hmjdrvpb.komuayw...\n",
              "2  cant log in to vpn  ...  cant log in to vpn\\r\\n\\r\\nreceived from: eylqg...\n",
              "\n",
              "[3 rows x 5 columns]"
            ]
          },
          "metadata": {
            "tags": []
          },
          "execution_count": 7
        }
      ]
    },
    {
      "cell_type": "code",
      "metadata": {
        "colab": {
          "base_uri": "https://localhost:8080/",
          "height": 80
        },
        "id": "h08_ZeBbpWVQ",
        "outputId": "ee5ec50c-9418-471b-b53d-f69c6cb268e8"
      },
      "source": [
        "groups = df.groupby(['Assignment group']).size().reset_index(name='counts') \r\n",
        "\r\n",
        "profile = round(groups.describe(),2)\r\n",
        "profile.loc['Skew'] = round(groups.skew(),2).tolist()\r\n",
        "\r\n",
        "profile.transpose()"
      ],
      "execution_count": 8,
      "outputs": [
        {
          "output_type": "execute_result",
          "data": {
            "text/html": [
              "<div>\n",
              "<style scoped>\n",
              "    .dataframe tbody tr th:only-of-type {\n",
              "        vertical-align: middle;\n",
              "    }\n",
              "\n",
              "    .dataframe tbody tr th {\n",
              "        vertical-align: top;\n",
              "    }\n",
              "\n",
              "    .dataframe thead th {\n",
              "        text-align: right;\n",
              "    }\n",
              "</style>\n",
              "<table border=\"1\" class=\"dataframe\">\n",
              "  <thead>\n",
              "    <tr style=\"text-align: right;\">\n",
              "      <th></th>\n",
              "      <th>count</th>\n",
              "      <th>mean</th>\n",
              "      <th>std</th>\n",
              "      <th>min</th>\n",
              "      <th>25%</th>\n",
              "      <th>50%</th>\n",
              "      <th>75%</th>\n",
              "      <th>max</th>\n",
              "      <th>Skew</th>\n",
              "    </tr>\n",
              "  </thead>\n",
              "  <tbody>\n",
              "    <tr>\n",
              "      <th>counts</th>\n",
              "      <td>74.0</td>\n",
              "      <td>114.86</td>\n",
              "      <td>465.75</td>\n",
              "      <td>1.0</td>\n",
              "      <td>5.25</td>\n",
              "      <td>26.0</td>\n",
              "      <td>84.0</td>\n",
              "      <td>3976.0</td>\n",
              "      <td>8.04</td>\n",
              "    </tr>\n",
              "  </tbody>\n",
              "</table>\n",
              "</div>"
            ],
            "text/plain": [
              "        count    mean     std  min   25%   50%   75%     max  Skew\n",
              "counts   74.0  114.86  465.75  1.0  5.25  26.0  84.0  3976.0  8.04"
            ]
          },
          "metadata": {
            "tags": []
          },
          "execution_count": 8
        }
      ]
    },
    {
      "cell_type": "code",
      "metadata": {
        "colab": {
          "base_uri": "https://localhost:8080/",
          "height": 441
        },
        "id": "ITPkn4ovpZrM",
        "outputId": "ef1f44f1-ad40-4a83-a89c-269214e16055"
      },
      "source": [
        "import seaborn as sns\r\n",
        "import matplotlib.pyplot as plt\r\n",
        "%matplotlib inline\r\n",
        "\r\n",
        "import warnings\r\n",
        "warnings. filterwarnings('ignore')\r\n",
        "sns.set_style('ticks')\r\n",
        "\r\n",
        "fig = plt.figure(figsize=(18,6))\r\n",
        "ax = sns.countplot(df['Assignment group'], order = df['Assignment group'].value_counts().index)\r\n",
        "ax.set_xticklabels(ax.get_xticklabels(), rotation=45, ha=\"right\")\r\n",
        "\r\n",
        "for p in ax.patches:\r\n",
        "  ax.annotate(format(p.get_height()), (p.get_x() + p.get_width() / 2, p.get_height()), ha = 'center', va = 'center', xytext = (0, 5), textcoords = 'offset points')\r\n",
        "\r\n",
        "plt.tight_layout()"
      ],
      "execution_count": 9,
      "outputs": [
        {
          "output_type": "display_data",
          "data": {
            "image/png": "[encoded data removed]",
            "text/plain": [
              "<Figure size 1296x432 with 1 Axes>"
            ]
          },
          "metadata": {
            "tags": []
          }
        }
      ]
    },
    {
      "cell_type": "code",
      "metadata": {
        "colab": {
          "base_uri": "https://localhost:8080/",
          "height": 395
        },
        "id": "zvboqrntpcAU",
        "outputId": "6c07541b-87ea-4c47-c30a-9ecd041bdff2"
      },
      "source": [
        "groups[\"percentage\"] = round((groups[\"counts\"]/df.shape[0])*100,2)\r\n",
        "groups.sort_values([\"percentage\"], axis=0, ascending=False, inplace=True)\r\n",
        "\r\n",
        "plt.subplots(figsize = (20,5))\r\n",
        " \r\n",
        "plt.plot(groups[\"Assignment group\"], groups[\"percentage\"]) \r\n",
        "plt.xlabel('Group Code') \r\n",
        "plt.ylabel('Percentage of tickets assigned') \r\n",
        "plt.xticks(rotation=90)\r\n",
        "plt.title('Ticket Distribution across groups')"
      ],
      "execution_count": 10,
      "outputs": [
        {
          "output_type": "execute_result",
          "data": {
            "text/plain": [
              "Text(0.5, 1.0, 'Ticket Distribution across groups')"
            ]
          },
          "metadata": {
            "tags": []
          },
          "execution_count": 10
        },
        {
          "output_type": "display_data",
          "data": {
            "image/png": "[encoded data removed]",
            "text/plain": [
              "<Figure size 1440x360 with 1 Axes>"
            ]
          },
          "metadata": {
            "tags": []
          }
        }
      ]
    },
    {
      "cell_type": "code",
      "metadata": {
        "colab": {
          "base_uri": "https://localhost:8080/",
          "height": 395
        },
        "id": "CZYTz7sNpeXU",
        "outputId": "9d654fba-7676-4e90-b393-6023f4c01f39"
      },
      "source": [
        "df_n0 = groups[groups[\"Assignment group\"] != 'GRP_0']\r\n",
        "\r\n",
        "plt.subplots(figsize = (20,5))\r\n",
        "plt.plot(df_n0[\"Assignment group\"], df_n0[\"counts\"]) \r\n",
        "plt.xlabel('Group code') \r\n",
        "plt.ylabel('Counts of Tickets') \r\n",
        "plt.xticks(rotation=90)\r\n",
        "plt.title('Incident Distribution For Groups except GRP_0')"
      ],
      "execution_count": 11,
      "outputs": [
        {
          "output_type": "execute_result",
          "data": {
            "text/plain": [
              "Text(0.5, 1.0, 'Incident Distribution For Groups except GRP_0')"
            ]
          },
          "metadata": {
            "tags": []
          },
          "execution_count": 11
        },
        {
          "output_type": "display_data",
          "data": {
            "image/png": "[encoded data removed]",
            "text/plain": [
              "<Figure size 1440x360 with 1 Axes>"
            ]
          },
          "metadata": {
            "tags": []
          }
        }
      ]
    },
    {
      "cell_type": "markdown",
      "metadata": {
        "id": "1Wsv9OskpiTS"
      },
      "source": [
        "# Data Preprocessing\r\n"
      ]
    },
    {
      "cell_type": "code",
      "metadata": {
        "id": "ZD7e7N28pgez"
      },
      "source": [
        "df['Description'] = df['Description'].astype(str)"
      ],
      "execution_count": 12,
      "outputs": []
    },
    {
      "cell_type": "code",
      "metadata": {
        "colab": {
          "base_uri": "https://localhost:8080/"
        },
        "id": "Zw2b4elupp8F",
        "outputId": "561cce7f-4862-43a2-d0c4-b3018c5c5221"
      },
      "source": [
        "!pip install langdetect\r\n",
        "\r\n",
        "#Lets encode the string, to make it easier to be passed to language detection api.\r\n",
        "def fn_decode_to_ascii(df):\r\n",
        "  text = df.encode().decode('utf-8').encode('ascii', 'ignore')\r\n",
        "  return text.decode(\"utf-8\") "
      ],
      "execution_count": 13,
      "outputs": [
        {
          "output_type": "stream",
          "text": [
            "Requirement already satisfied: langdetect in /usr/local/lib/python3.7/dist-packages (1.0.8)\n",
            "Requirement already satisfied: six in /usr/local/lib/python3.7/dist-packages (from langdetect) (1.15.0)\n"
          ],
          "name": "stdout"
        }
      ]
    },
    {
      "cell_type": "code",
      "metadata": {
        "id": "2STtnpNzpuMg"
      },
      "source": [
        "from langdetect import detect\r\n",
        "    \r\n",
        "def fn_lan_detect(df):                                        \r\n",
        "   try:                                                          \r\n",
        "      return detect(df)                                      \r\n",
        "   except:                                                       \r\n",
        "      return 'no'                                                  \r\n",
        "\r\n",
        "df['language'] = df['Merge_Desc'].apply(fn_lan_detect)"
      ],
      "execution_count": 14,
      "outputs": []
    },
    {
      "cell_type": "code",
      "metadata": {
        "colab": {
          "base_uri": "https://localhost:8080/",
          "height": 204
        },
        "id": "eZYwPEaUpwjd",
        "outputId": "00255e2c-ae89-4d35-f58a-f1a4defd5216"
      },
      "source": [
        "df.head()"
      ],
      "execution_count": 15,
      "outputs": [
        {
          "output_type": "execute_result",
          "data": {
            "text/html": [
              "<div>\n",
              "<style scoped>\n",
              "    .dataframe tbody tr th:only-of-type {\n",
              "        vertical-align: middle;\n",
              "    }\n",
              "\n",
              "    .dataframe tbody tr th {\n",
              "        vertical-align: top;\n",
              "    }\n",
              "\n",
              "    .dataframe thead th {\n",
              "        text-align: right;\n",
              "    }\n",
              "</style>\n",
              "<table border=\"1\" class=\"dataframe\">\n",
              "  <thead>\n",
              "    <tr style=\"text-align: right;\">\n",
              "      <th></th>\n",
              "      <th>Short description</th>\n",
              "      <th>Description</th>\n",
              "      <th>Caller</th>\n",
              "      <th>Assignment group</th>\n",
              "      <th>Merge_Desc</th>\n",
              "      <th>language</th>\n",
              "    </tr>\n",
              "  </thead>\n",
              "  <tbody>\n",
              "    <tr>\n",
              "      <th>0</th>\n",
              "      <td>login issue</td>\n",
              "      <td>-verified user details.(employee# &amp; manager na...</td>\n",
              "      <td>spxjnwir pjlcoqds</td>\n",
              "      <td>GRP_0</td>\n",
              "      <td>login issue-verified user details.(employee# &amp;...</td>\n",
              "      <td>en</td>\n",
              "    </tr>\n",
              "    <tr>\n",
              "      <th>1</th>\n",
              "      <td>outlook</td>\n",
              "      <td>\\r\\n\\r\\nreceived from: hmjdrvpb.komuaywn@gmail...</td>\n",
              "      <td>hmjdrvpb komuaywn</td>\n",
              "      <td>GRP_0</td>\n",
              "      <td>outlook\\r\\n\\r\\nreceived from: hmjdrvpb.komuayw...</td>\n",
              "      <td>en</td>\n",
              "    </tr>\n",
              "    <tr>\n",
              "      <th>2</th>\n",
              "      <td>cant log in to vpn</td>\n",
              "      <td>\\r\\n\\r\\nreceived from: eylqgodm.ybqkwiam@gmail...</td>\n",
              "      <td>eylqgodm ybqkwiam</td>\n",
              "      <td>GRP_0</td>\n",
              "      <td>cant log in to vpn\\r\\n\\r\\nreceived from: eylqg...</td>\n",
              "      <td>en</td>\n",
              "    </tr>\n",
              "    <tr>\n",
              "      <th>3</th>\n",
              "      <td>unable to access hr_tool page</td>\n",
              "      <td>unable to access hr_tool page</td>\n",
              "      <td>xbkucsvz gcpydteq</td>\n",
              "      <td>GRP_0</td>\n",
              "      <td>unable to access hr_tool pageunable to access ...</td>\n",
              "      <td>en</td>\n",
              "    </tr>\n",
              "    <tr>\n",
              "      <th>4</th>\n",
              "      <td>skype error</td>\n",
              "      <td>skype error</td>\n",
              "      <td>owlgqjme qhcozdfx</td>\n",
              "      <td>GRP_0</td>\n",
              "      <td>skype error skype error</td>\n",
              "      <td>no</td>\n",
              "    </tr>\n",
              "  </tbody>\n",
              "</table>\n",
              "</div>"
            ],
            "text/plain": [
              "               Short description  ... language\n",
              "0                    login issue  ...       en\n",
              "1                        outlook  ...       en\n",
              "2             cant log in to vpn  ...       en\n",
              "3  unable to access hr_tool page  ...       en\n",
              "4                   skype error   ...       no\n",
              "\n",
              "[5 rows x 6 columns]"
            ]
          },
          "metadata": {
            "tags": []
          },
          "execution_count": 15
        }
      ]
    },
    {
      "cell_type": "code",
      "metadata": {
        "colab": {
          "base_uri": "https://localhost:8080/",
          "height": 441
        },
        "id": "K23PlV1_p-Qq",
        "outputId": "b6011263-421d-4595-8699-b0b3dd8ae329"
      },
      "source": [
        "fig = plt.figure(figsize=(15,6))\n",
        "ax = sns.countplot(df['language'], order = df['language'].value_counts().index,palette='icefire')\n",
        "ax.set_xticklabels(ax.get_xticklabels(), rotation=45, ha=\"right\")\n",
        "for p in ax.patches:\n",
        "  ax.annotate(format(p.get_height()), (p.get_x() + p.get_width() / 2, p.get_height()), ha = 'center', va = 'center', xytext = (0, 5), textcoords = 'offset points')\n",
        "plt.title('Ticket Distribution wrt Language')\n",
        "plt.tight_layout()"
      ],
      "execution_count": 16,
      "outputs": [
        {
          "output_type": "display_data",
          "data": {
            "image/png": "[encoded data removed]",
            "text/plain": [
              "<Figure size 1080x432 with 1 Axes>"
            ]
          },
          "metadata": {
            "tags": []
          }
        }
      ]
    },
    {
      "cell_type": "code",
      "metadata": {
        "colab": {
          "base_uri": "https://localhost:8080/"
        },
        "id": "K5KI8K5Zp1Hl",
        "outputId": "9e53d933-4af1-4ade-9919-ab89029960e2"
      },
      "source": [
        "!pip install googletrans==3.1.0a0\r\n",
        "\r\n",
        "import googletrans\r\n",
        "from googletrans import Translator\r\n",
        "\r\n",
        "# Function to translate the text to english.\r\n",
        "def fn_translate(df,lang):\r\n",
        "  try:\r\n",
        "    if lang == 'en':\r\n",
        "        return df\r\n",
        "    else:\r\n",
        "        return translator.translate(df).text\r\n",
        "  except:\r\n",
        "    return df\r\n",
        "    \r\n",
        "    \r\n",
        "df['English_Description'] = df.apply(lambda x: fn_translate(x['Merge_Desc'], x['language']), axis=1)"
      ],
      "execution_count": 17,
      "outputs": [
        {
          "output_type": "stream",
          "text": [
            "Requirement already satisfied: googletrans==3.1.0a0 in /usr/local/lib/python3.7/dist-packages (3.1.0a0)\n",
            "Requirement already satisfied: httpx==0.13.3 in /usr/local/lib/python3.7/dist-packages (from googletrans==3.1.0a0) (0.13.3)\n",
            "Requirement already satisfied: hstspreload in /usr/local/lib/python3.7/dist-packages (from httpx==0.13.3->googletrans==3.1.0a0) (2020.12.22)\n",
            "Requirement already satisfied: rfc3986<2,>=1.3 in /usr/local/lib/python3.7/dist-packages (from httpx==0.13.3->googletrans==3.1.0a0) (1.4.0)\n",
            "Requirement already satisfied: httpcore==0.9.* in /usr/local/lib/python3.7/dist-packages (from httpx==0.13.3->googletrans==3.1.0a0) (0.9.1)\n",
            "Requirement already satisfied: chardet==3.* in /usr/local/lib/python3.7/dist-packages (from httpx==0.13.3->googletrans==3.1.0a0) (3.0.4)\n",
            "Requirement already satisfied: sniffio in /usr/local/lib/python3.7/dist-packages (from httpx==0.13.3->googletrans==3.1.0a0) (1.2.0)\n",
            "Requirement already satisfied: certifi in /usr/local/lib/python3.7/dist-packages (from httpx==0.13.3->googletrans==3.1.0a0) (2020.12.5)\n",
            "Requirement already satisfied: idna==2.* in /usr/local/lib/python3.7/dist-packages (from httpx==0.13.3->googletrans==3.1.0a0) (2.10)\n",
            "Requirement already satisfied: h2==3.* in /usr/local/lib/python3.7/dist-packages (from httpcore==0.9.*->httpx==0.13.3->googletrans==3.1.0a0) (3.2.0)\n",
            "Requirement already satisfied: h11<0.10,>=0.8 in /usr/local/lib/python3.7/dist-packages (from httpcore==0.9.*->httpx==0.13.3->googletrans==3.1.0a0) (0.9.0)\n",
            "Requirement already satisfied: hyperframe<6,>=5.2.0 in /usr/local/lib/python3.7/dist-packages (from h2==3.*->httpcore==0.9.*->httpx==0.13.3->googletrans==3.1.0a0) (5.2.0)\n",
            "Requirement already satisfied: hpack<4,>=3.0 in /usr/local/lib/python3.7/dist-packages (from h2==3.*->httpcore==0.9.*->httpx==0.13.3->googletrans==3.1.0a0) (3.0.0)\n"
          ],
          "name": "stdout"
        }
      ]
    },
    {
      "cell_type": "code",
      "metadata": {
        "colab": {
          "base_uri": "https://localhost:8080/",
          "height": 162
        },
        "id": "7pPhWYFZp-r5",
        "outputId": "9a9808a2-5e66-47a2-ac4e-594e61f34c4c"
      },
      "source": [
        "df.head(2)"
      ],
      "execution_count": 18,
      "outputs": [
        {
          "output_type": "execute_result",
          "data": {
            "text/html": [
              "<div>\n",
              "<style scoped>\n",
              "    .dataframe tbody tr th:only-of-type {\n",
              "        vertical-align: middle;\n",
              "    }\n",
              "\n",
              "    .dataframe tbody tr th {\n",
              "        vertical-align: top;\n",
              "    }\n",
              "\n",
              "    .dataframe thead th {\n",
              "        text-align: right;\n",
              "    }\n",
              "</style>\n",
              "<table border=\"1\" class=\"dataframe\">\n",
              "  <thead>\n",
              "    <tr style=\"text-align: right;\">\n",
              "      <th></th>\n",
              "      <th>Short description</th>\n",
              "      <th>Description</th>\n",
              "      <th>Caller</th>\n",
              "      <th>Assignment group</th>\n",
              "      <th>Merge_Desc</th>\n",
              "      <th>language</th>\n",
              "      <th>English_Description</th>\n",
              "    </tr>\n",
              "  </thead>\n",
              "  <tbody>\n",
              "    <tr>\n",
              "      <th>0</th>\n",
              "      <td>login issue</td>\n",
              "      <td>-verified user details.(employee# &amp; manager na...</td>\n",
              "      <td>spxjnwir pjlcoqds</td>\n",
              "      <td>GRP_0</td>\n",
              "      <td>login issue-verified user details.(employee# &amp;...</td>\n",
              "      <td>en</td>\n",
              "      <td>login issue-verified user details.(employee# &amp;...</td>\n",
              "    </tr>\n",
              "    <tr>\n",
              "      <th>1</th>\n",
              "      <td>outlook</td>\n",
              "      <td>\\r\\n\\r\\nreceived from: hmjdrvpb.komuaywn@gmail...</td>\n",
              "      <td>hmjdrvpb komuaywn</td>\n",
              "      <td>GRP_0</td>\n",
              "      <td>outlook\\r\\n\\r\\nreceived from: hmjdrvpb.komuayw...</td>\n",
              "      <td>en</td>\n",
              "      <td>outlook\\r\\n\\r\\nreceived from: hmjdrvpb.komuayw...</td>\n",
              "    </tr>\n",
              "  </tbody>\n",
              "</table>\n",
              "</div>"
            ],
            "text/plain": [
              "  Short description  ...                                English_Description\n",
              "0       login issue  ...  login issue-verified user details.(employee# &...\n",
              "1           outlook  ...  outlook\\r\\n\\r\\nreceived from: hmjdrvpb.komuayw...\n",
              "\n",
              "[2 rows x 7 columns]"
            ]
          },
          "metadata": {
            "tags": []
          },
          "execution_count": 18
        }
      ]
    },
    {
      "cell_type": "code",
      "metadata": {
        "colab": {
          "base_uri": "https://localhost:8080/",
          "height": 204
        },
        "id": "trGJg4z9qByC",
        "outputId": "f69e008d-b9ce-45e4-a5a5-33984905fc83"
      },
      "source": [
        "df_new = df.drop(['Short description','Description','Caller','Merge_Desc'],axis=1)\r\n",
        "df_new.English_Description=df_new.English_Description.astype(str)\r\n",
        "df_new.head()"
      ],
      "execution_count": 19,
      "outputs": [
        {
          "output_type": "execute_result",
          "data": {
            "text/html": [
              "<div>\n",
              "<style scoped>\n",
              "    .dataframe tbody tr th:only-of-type {\n",
              "        vertical-align: middle;\n",
              "    }\n",
              "\n",
              "    .dataframe tbody tr th {\n",
              "        vertical-align: top;\n",
              "    }\n",
              "\n",
              "    .dataframe thead th {\n",
              "        text-align: right;\n",
              "    }\n",
              "</style>\n",
              "<table border=\"1\" class=\"dataframe\">\n",
              "  <thead>\n",
              "    <tr style=\"text-align: right;\">\n",
              "      <th></th>\n",
              "      <th>Assignment group</th>\n",
              "      <th>language</th>\n",
              "      <th>English_Description</th>\n",
              "    </tr>\n",
              "  </thead>\n",
              "  <tbody>\n",
              "    <tr>\n",
              "      <th>0</th>\n",
              "      <td>GRP_0</td>\n",
              "      <td>en</td>\n",
              "      <td>login issue-verified user details.(employee# &amp;...</td>\n",
              "    </tr>\n",
              "    <tr>\n",
              "      <th>1</th>\n",
              "      <td>GRP_0</td>\n",
              "      <td>en</td>\n",
              "      <td>outlook\\r\\n\\r\\nreceived from: hmjdrvpb.komuayw...</td>\n",
              "    </tr>\n",
              "    <tr>\n",
              "      <th>2</th>\n",
              "      <td>GRP_0</td>\n",
              "      <td>en</td>\n",
              "      <td>cant log in to vpn\\r\\n\\r\\nreceived from: eylqg...</td>\n",
              "    </tr>\n",
              "    <tr>\n",
              "      <th>3</th>\n",
              "      <td>GRP_0</td>\n",
              "      <td>en</td>\n",
              "      <td>unable to access hr_tool pageunable to access ...</td>\n",
              "    </tr>\n",
              "    <tr>\n",
              "      <th>4</th>\n",
              "      <td>GRP_0</td>\n",
              "      <td>no</td>\n",
              "      <td>skype error skype error</td>\n",
              "    </tr>\n",
              "  </tbody>\n",
              "</table>\n",
              "</div>"
            ],
            "text/plain": [
              "  Assignment group language                                English_Description\n",
              "0            GRP_0       en  login issue-verified user details.(employee# &...\n",
              "1            GRP_0       en  outlook\\r\\n\\r\\nreceived from: hmjdrvpb.komuayw...\n",
              "2            GRP_0       en  cant log in to vpn\\r\\n\\r\\nreceived from: eylqg...\n",
              "3            GRP_0       en  unable to access hr_tool pageunable to access ...\n",
              "4            GRP_0       no                           skype error skype error "
            ]
          },
          "metadata": {
            "tags": []
          },
          "execution_count": 19
        }
      ]
    },
    {
      "cell_type": "markdown",
      "metadata": {
        "id": "108wV1IsqKk8"
      },
      "source": [
        "# Data cleaning"
      ]
    },
    {
      "cell_type": "code",
      "metadata": {
        "id": "U_YkX42pqPkR"
      },
      "source": [
        "import string\r\n",
        "import re\r\n",
        "from collections import Counter\r\n",
        "from nltk.corpus import stopwords\r\n",
        "import nltk\r\n",
        "from textblob import Word\r\n",
        "\r\n",
        "def clean_text(text):\r\n",
        "    '''Make text lowercase, remove text in square brackets,remove links,remove punctuation\r\n",
        "    and remove words containing numbers.'''\r\n",
        "    text=text.replace(('first name: ').lower(),'firstname')\r\n",
        "    text=text.replace(('last name: ').lower(),'lastname')\r\n",
        "    text=text.replace(('received from:').lower(),'')\r\n",
        "    text=text.replace('email:','')\r\n",
        "    text=text.replace('email address:','') \r\n",
        "    index1=text.find('from:')\r\n",
        "    index2=text.find('\\nsddubject:')\r\n",
        "    text=text.replace(text[index1:index2],'')\r\n",
        "    index3=text.find('[cid:image')\r\n",
        "    index4=text.find(']')\r\n",
        "    text=text.replace(text[index3:index4],'')\r\n",
        "    text=text.replace('subject:','')\r\n",
        "    text=text.replace('received from:','')\r\n",
        "    text=text.replace('this message was sent from an unmonitored email address', '')\r\n",
        "    text=text.replace('please do not reply to this message', '')\r\n",
        "    text=text.replace('monitoring_tool@company.com','MonitoringTool')\r\n",
        "    text=text.replace('select the following link to view the disclaimer in an alternate language','')\r\n",
        "    text=text.replace('description problem', '') \r\n",
        "    text=text.replace('steps taken far', '')\r\n",
        "    text=text.replace('customer job title', '')\r\n",
        "    text=text.replace('sales engineer contact', '')\r\n",
        "    text=text.replace('description of problem:', '')\r\n",
        "    text=text.replace('steps taken so far', '')\r\n",
        "    text=text.replace('please do the needful', '')\r\n",
        "    text=text.replace('please note that ', '')\r\n",
        "    text=text.replace('please find below', '')\r\n",
        "    text=text.replace('date and time', '')\r\n",
        "    text=text.replace('kindly refer mail', '')\r\n",
        "    text=text.replace('name:', '')\r\n",
        "    text=text.replace('language:', '')\r\n",
        "    text=text.replace('customer number:', '')\r\n",
        "    text=text.replace('telephone:', '')\r\n",
        "    text=text.replace('summary:', '')\r\n",
        "    text=text.replace('sincerely', '')\r\n",
        "    text=text.replace('company inc', '')\r\n",
        "    text=text.replace('importance:', '')\r\n",
        "    text=text.replace('hello', '')\r\n",
        "    text=text.replace('hallo', '')\r\n",
        "    text=text.replace('hi it team', '')\r\n",
        "    text=text.replace('hi team', '')\r\n",
        "    text=text.replace('hi', '')\r\n",
        "    text=text.replace('best', '')\r\n",
        "    text=text.replace('kind', '')\r\n",
        "    text=text.replace('regards', '')\r\n",
        "    text=text.replace('good morning', '')\r\n",
        "    text=text.replace('please', '')\r\n",
        "    text=text.replace('regards', '')\r\n",
        "\r\n",
        "    text = re.sub(r'\\S+@\\S+', '', text)\r\n",
        "    custom_punctuation='!\"#$%&\\'()*+,-./:;<=>?@[\\\\]^`{|}~'\r\n",
        "    text = re.sub(r'\\w*\\d\\w*', '', text)\r\n",
        "    text = re.sub(r'\\[.*?\\]', '', text)\r\n",
        "    text = re.sub(r'https?://\\S+|www\\.\\S+', '', text)\r\n",
        "    text = re.sub(r'<.*?>+', '', text)\r\n",
        "    text = re.sub(r'[%s]' % re.escape(string.punctuation), '', text)\r\n",
        "    text = re.sub(r'\\r\\n', '', text)\r\n",
        "    text = re.sub(r'\\n', '', text)\r\n",
        "    text = re.sub(r'\\S+@\\S+', '', text)\r\n",
        "    text = re.sub(r'[\\w.+-]+@[a-z\\d-]+\\.[a-z\\d.-]+','',text)\r\n",
        "\r\n",
        "\r\n",
        "    text = text.lower()\r\n",
        "    return text"
      ],
      "execution_count": 20,
      "outputs": []
    },
    {
      "cell_type": "code",
      "metadata": {
        "colab": {
          "base_uri": "https://localhost:8080/"
        },
        "id": "lMIRDBMmqTr4",
        "outputId": "ef73db7c-4b50-4bfd-b6ca-88b27772718c"
      },
      "source": [
        "df_new['cleaned_description'] = df_new['English_Description'].apply(lambda x: clean_text(x))\r\n",
        "df_new.drop(['English_Description'],axis=1,inplace=True)\r\n",
        "df_new['cleaned_description'].head()"
      ],
      "execution_count": 21,
      "outputs": [
        {
          "output_type": "execute_result",
          "data": {
            "text/plain": [
              "0    login issueverified user detailsemployee  mana...\n",
              "1    outlook  teammy meetingsskype meetings etc are...\n",
              "2           cant log in to vpn i cannot log on to vpn \n",
              "3    unable to access hrtool pageunable to access h...\n",
              "4                             skype error skype error \n",
              "Name: cleaned_description, dtype: object"
            ]
          },
          "metadata": {
            "tags": []
          },
          "execution_count": 21
        }
      ]
    },
    {
      "cell_type": "code",
      "metadata": {
        "colab": {
          "base_uri": "https://localhost:8080/"
        },
        "id": "bh17TB3sqWcA",
        "outputId": "dc2a3022-ab74-4130-8c84-7bef28ff2de6"
      },
      "source": [
        "import nltk\r\n",
        "nltk.download('stopwords')\r\n",
        "## Removal of Stop Words\r\n",
        "from nltk.corpus import stopwords\r\n",
        "stop = stopwords.words('english')\r\n",
        "df_new['cleaned_description'] = df_new['cleaned_description'].apply(lambda x: \" \".join(x for x in str(x).split() if x not in stop))\r\n",
        "df_new['cleaned_description'].head()"
      ],
      "execution_count": 22,
      "outputs": [
        {
          "output_type": "stream",
          "text": [
            "[nltk_data] Downloading package stopwords to /root/nltk_data...\n",
            "[nltk_data]   Package stopwords is already up-to-date!\n"
          ],
          "name": "stdout"
        },
        {
          "output_type": "execute_result",
          "data": {
            "text/plain": [
              "0    login issueverified user detailsemployee manag...\n",
              "1    outlook teammy meetingsskype meetings etc appe...\n",
              "2                          cant log vpn cannot log vpn\n",
              "3    unable access hrtool pageunable access hrtool ...\n",
              "4                              skype error skype error\n",
              "Name: cleaned_description, dtype: object"
            ]
          },
          "metadata": {
            "tags": []
          },
          "execution_count": 22
        }
      ]
    },
    {
      "cell_type": "code",
      "metadata": {
        "colab": {
          "base_uri": "https://localhost:8080/"
        },
        "id": "oCd0ltGbqZN4",
        "outputId": "e0b443ae-7cce-4626-d3da-ead694b17d8c"
      },
      "source": [
        "## Lemmatization\r\n",
        "import nltk\r\n",
        "nltk.download('wordnet')\r\n",
        "\r\n",
        "from textblob import Word\r\n",
        "df_new['cleaned_description']= df_new['cleaned_description'].apply(lambda x: \" \".join([Word(word).lemmatize() for word in str(x).split()]))\r\n",
        "df_new['cleaned_description'].head()"
      ],
      "execution_count": 23,
      "outputs": [
        {
          "output_type": "stream",
          "text": [
            "[nltk_data] Downloading package wordnet to /root/nltk_data...\n",
            "[nltk_data]   Package wordnet is already up-to-date!\n"
          ],
          "name": "stdout"
        },
        {
          "output_type": "execute_result",
          "data": {
            "text/plain": [
              "0    login issueverified user detailsemployee manag...\n",
              "1    outlook teammy meetingsskype meeting etc appea...\n",
              "2                          cant log vpn cannot log vpn\n",
              "3    unable access hrtool pageunable access hrtool ...\n",
              "4                              skype error skype error\n",
              "Name: cleaned_description, dtype: object"
            ]
          },
          "metadata": {
            "tags": []
          },
          "execution_count": 23
        }
      ]
    },
    {
      "cell_type": "code",
      "metadata": {
        "colab": {
          "base_uri": "https://localhost:8080/"
        },
        "id": "MRJog1ksqbnf",
        "outputId": "fe544bca-ee25-44b1-a1cd-21db3a50ae9e"
      },
      "source": [
        "#Installing FuzzyWuzzy\r\n",
        "!pip install fuzzywuzzy\r\n",
        "\r\n",
        "#Import\r\n",
        "import fuzzywuzzy\r\n",
        "from fuzzywuzzy import fuzz\r\n",
        "from fuzzywuzzy import process\r\n",
        "\r\n",
        "groups = df_new.groupby(['Assignment group'], as_index = False).agg({'cleaned_description': ' '.join})\r\n",
        "\r\n",
        "similarity_matrix = np.zeros((groups.shape[0]-1,groups.shape[0]-1))\r\n",
        "\r\n",
        "for i in np.arange(0, (groups.shape[0]-1)):\r\n",
        "  for j in np.arange(0,(groups.shape[0]-1)):\r\n",
        "    similarity_matrix[i][j] = fuzz.token_set_ratio(groups['cleaned_description'].iloc[i+1],groups['cleaned_description'].iloc[j+1])\r\n",
        "\r\n",
        "np.fill_diagonal(similarity_matrix, 0)\r\n",
        "\r\n",
        "similarity_matrix = pd.DataFrame(similarity_matrix)\r\n",
        "max_fuzz = pd.DataFrame(similarity_matrix.max(axis = 1), columns = ['Max'])\r\n",
        "max_fuzz['Row'] = similarity_matrix.idxmax(axis = 1)\r\n",
        "\r\n",
        "groups['Merged_Group'] = groups['Assignment group']\r\n",
        "\r\n",
        "for i in np.arange(1,groups.shape[0]):\r\n",
        "  groups.loc[i,'Max_Fuzz_Row'] = max_fuzz.loc[i-1]['Row'] + 1\r\n",
        "  groups.loc[i,'Max_Fuzz_Score'] = max_fuzz.loc[i-1]['Max']\r\n",
        "  if groups.loc[i,'Max_Fuzz_Score'] > 70:\r\n",
        "    groups.loc[i,'Merged_Group'] = groups.loc[groups.loc[i,'Max_Fuzz_Row'],'Merged_Group']\r\n",
        "  else: \r\n",
        "    pass\r\n",
        "\r\n",
        "groups.loc[0,'Max_Fuzz_Row'] = 0\r\n",
        "groups.loc[0,'Max_Fuzz_Score'] = 100"
      ],
      "execution_count": 24,
      "outputs": [
        {
          "output_type": "stream",
          "text": [
            "Requirement already satisfied: fuzzywuzzy in /usr/local/lib/python3.7/dist-packages (0.18.0)\n"
          ],
          "name": "stdout"
        }
      ]
    },
    {
      "cell_type": "code",
      "metadata": {
        "colab": {
          "base_uri": "https://localhost:8080/"
        },
        "id": "nwEOFYJyqn_d",
        "outputId": "6e616d4f-64a7-4f1d-ea0e-b9a406c5066c"
      },
      "source": [
        "print(f'Unique merged groups: ',groups['Merged_Group'].nunique())"
      ],
      "execution_count": 25,
      "outputs": [
        {
          "output_type": "stream",
          "text": [
            "Unique merged groups:  43\n"
          ],
          "name": "stdout"
        }
      ]
    },
    {
      "cell_type": "code",
      "metadata": {
        "id": "1E72aFOaqpq0"
      },
      "source": [
        "group_t = groups[['Assignment group','Merged_Group']]\r\n",
        "df_m = df_new.merge(group_t, on = ['Assignment group'], how = 'left')"
      ],
      "execution_count": 26,
      "outputs": []
    },
    {
      "cell_type": "code",
      "metadata": {
        "colab": {
          "base_uri": "https://localhost:8080/",
          "height": 204
        },
        "id": "7_Mvemxcqs2g",
        "outputId": "9b64f1ca-d68d-4027-fe6c-40c646d02578"
      },
      "source": [
        "df_m.head()"
      ],
      "execution_count": 28,
      "outputs": [
        {
          "output_type": "execute_result",
          "data": {
            "text/html": [
              "<div>\n",
              "<style scoped>\n",
              "    .dataframe tbody tr th:only-of-type {\n",
              "        vertical-align: middle;\n",
              "    }\n",
              "\n",
              "    .dataframe tbody tr th {\n",
              "        vertical-align: top;\n",
              "    }\n",
              "\n",
              "    .dataframe thead th {\n",
              "        text-align: right;\n",
              "    }\n",
              "</style>\n",
              "<table border=\"1\" class=\"dataframe\">\n",
              "  <thead>\n",
              "    <tr style=\"text-align: right;\">\n",
              "      <th></th>\n",
              "      <th>Assignment group</th>\n",
              "      <th>language</th>\n",
              "      <th>cleaned_description</th>\n",
              "      <th>Merged_Group</th>\n",
              "    </tr>\n",
              "  </thead>\n",
              "  <tbody>\n",
              "    <tr>\n",
              "      <th>0</th>\n",
              "      <td>GRP_0</td>\n",
              "      <td>en</td>\n",
              "      <td>login issueverified user detailsemployee manag...</td>\n",
              "      <td>GRP_0</td>\n",
              "    </tr>\n",
              "    <tr>\n",
              "      <th>1</th>\n",
              "      <td>GRP_0</td>\n",
              "      <td>en</td>\n",
              "      <td>outlook teammy meetingsskype meeting etc appea...</td>\n",
              "      <td>GRP_0</td>\n",
              "    </tr>\n",
              "    <tr>\n",
              "      <th>2</th>\n",
              "      <td>GRP_0</td>\n",
              "      <td>en</td>\n",
              "      <td>cant log vpn cannot log vpn</td>\n",
              "      <td>GRP_0</td>\n",
              "    </tr>\n",
              "    <tr>\n",
              "      <th>3</th>\n",
              "      <td>GRP_0</td>\n",
              "      <td>en</td>\n",
              "      <td>unable access hrtool pageunable access hrtool ...</td>\n",
              "      <td>GRP_0</td>\n",
              "    </tr>\n",
              "    <tr>\n",
              "      <th>4</th>\n",
              "      <td>GRP_0</td>\n",
              "      <td>no</td>\n",
              "      <td>skype error skype error</td>\n",
              "      <td>GRP_0</td>\n",
              "    </tr>\n",
              "  </tbody>\n",
              "</table>\n",
              "</div>"
            ],
            "text/plain": [
              "  Assignment group  ... Merged_Group\n",
              "0            GRP_0  ...        GRP_0\n",
              "1            GRP_0  ...        GRP_0\n",
              "2            GRP_0  ...        GRP_0\n",
              "3            GRP_0  ...        GRP_0\n",
              "4            GRP_0  ...        GRP_0\n",
              "\n",
              "[5 rows x 4 columns]"
            ]
          },
          "metadata": {
            "tags": []
          },
          "execution_count": 28
        }
      ]
    },
    {
      "cell_type": "code",
      "metadata": {
        "id": "h0KjnXegudYy"
      },
      "source": [
        "df_fw = df_m.loc[(df_m['Assignment group'] != df_m['Merged_Group'])]"
      ],
      "execution_count": 29,
      "outputs": []
    },
    {
      "cell_type": "code",
      "metadata": {
        "colab": {
          "base_uri": "https://localhost:8080/"
        },
        "id": "jKm5dqEXvHgM",
        "outputId": "3be6205a-6abc-4ed3-8bfb-e29bfa51e5bb"
      },
      "source": [
        "print(df_fw)"
      ],
      "execution_count": 30,
      "outputs": [
        {
          "output_type": "stream",
          "text": [
            "     Assignment group  ... Merged_Group\n",
            "17              GRP_3  ...       GRP_35\n",
            "43              GRP_5  ...       GRP_57\n",
            "47              GRP_6  ...        GRP_9\n",
            "50              GRP_8  ...        GRP_9\n",
            "57              GRP_6  ...        GRP_9\n",
            "...               ...  ...          ...\n",
            "8490           GRP_29  ...       GRP_57\n",
            "8493           GRP_10  ...       GRP_57\n",
            "8494            GRP_3  ...       GRP_35\n",
            "8495           GRP_29  ...       GRP_57\n",
            "8498           GRP_62  ...       GRP_35\n",
            "\n",
            "[3071 rows x 4 columns]\n"
          ],
          "name": "stdout"
        }
      ]
    },
    {
      "cell_type": "markdown",
      "metadata": {
        "id": "VdGxFwK_qwD0"
      },
      "source": [
        "# Visualizing data after merging"
      ]
    },
    {
      "cell_type": "code",
      "metadata": {
        "colab": {
          "base_uri": "https://localhost:8080/",
          "height": 395
        },
        "id": "nsU2k6zKq0GG",
        "outputId": "d38ab01f-9f4b-4bde-a718-21fde1a68cd5"
      },
      "source": [
        "groups = df_m.groupby(['Merged_Group']).size().reset_index(name='counts') \r\n",
        "\r\n",
        "groups[\"percentage\"] = round((groups[\"counts\"]/df_m.shape[0])*100,2)\r\n",
        "groups.sort_values([\"percentage\"], axis=0, ascending=False, inplace=True)\r\n",
        "\r\n",
        "plt.subplots(figsize = (20,5))\r\n",
        " \r\n",
        "plt.plot(groups[\"Merged_Group\"], groups[\"percentage\"]) \r\n",
        "plt.xlabel('Group Code') \r\n",
        "plt.ylabel('Percentage of tickets assigned') \r\n",
        "plt.xticks(rotation=90)\r\n",
        "plt.title('Ticket Distribution across groups')"
      ],
      "execution_count": 31,
      "outputs": [
        {
          "output_type": "execute_result",
          "data": {
            "text/plain": [
              "Text(0.5, 1.0, 'Ticket Distribution across groups')"
            ]
          },
          "metadata": {
            "tags": []
          },
          "execution_count": 31
        },
        {
          "output_type": "display_data",
          "data": {
            "image/png": "[encoded data removed]",
            "text/plain": [
              "<Figure size 1440x360 with 1 Axes>"
            ]
          },
          "metadata": {
            "tags": []
          }
        }
      ]
    },
    {
      "cell_type": "markdown",
      "metadata": {
        "id": "nRfp8p-Tq_fK"
      },
      "source": [
        "# Handling data imbalance"
      ]
    },
    {
      "cell_type": "code",
      "metadata": {
        "colab": {
          "base_uri": "https://localhost:8080/",
          "height": 204
        },
        "id": "PjLDOihErD67",
        "outputId": "08eae014-31fd-42a2-8340-0f48b36588a5"
      },
      "source": [
        "dfz = df_m[(df_m['Merged_Group'] == 'GRP_0')]\r\n",
        "dfz.head()"
      ],
      "execution_count": 32,
      "outputs": [
        {
          "output_type": "execute_result",
          "data": {
            "text/html": [
              "<div>\n",
              "<style scoped>\n",
              "    .dataframe tbody tr th:only-of-type {\n",
              "        vertical-align: middle;\n",
              "    }\n",
              "\n",
              "    .dataframe tbody tr th {\n",
              "        vertical-align: top;\n",
              "    }\n",
              "\n",
              "    .dataframe thead th {\n",
              "        text-align: right;\n",
              "    }\n",
              "</style>\n",
              "<table border=\"1\" class=\"dataframe\">\n",
              "  <thead>\n",
              "    <tr style=\"text-align: right;\">\n",
              "      <th></th>\n",
              "      <th>Assignment group</th>\n",
              "      <th>language</th>\n",
              "      <th>cleaned_description</th>\n",
              "      <th>Merged_Group</th>\n",
              "    </tr>\n",
              "  </thead>\n",
              "  <tbody>\n",
              "    <tr>\n",
              "      <th>0</th>\n",
              "      <td>GRP_0</td>\n",
              "      <td>en</td>\n",
              "      <td>login issueverified user detailsemployee manag...</td>\n",
              "      <td>GRP_0</td>\n",
              "    </tr>\n",
              "    <tr>\n",
              "      <th>1</th>\n",
              "      <td>GRP_0</td>\n",
              "      <td>en</td>\n",
              "      <td>outlook teammy meetingsskype meeting etc appea...</td>\n",
              "      <td>GRP_0</td>\n",
              "    </tr>\n",
              "    <tr>\n",
              "      <th>2</th>\n",
              "      <td>GRP_0</td>\n",
              "      <td>en</td>\n",
              "      <td>cant log vpn cannot log vpn</td>\n",
              "      <td>GRP_0</td>\n",
              "    </tr>\n",
              "    <tr>\n",
              "      <th>3</th>\n",
              "      <td>GRP_0</td>\n",
              "      <td>en</td>\n",
              "      <td>unable access hrtool pageunable access hrtool ...</td>\n",
              "      <td>GRP_0</td>\n",
              "    </tr>\n",
              "    <tr>\n",
              "      <th>4</th>\n",
              "      <td>GRP_0</td>\n",
              "      <td>no</td>\n",
              "      <td>skype error skype error</td>\n",
              "      <td>GRP_0</td>\n",
              "    </tr>\n",
              "  </tbody>\n",
              "</table>\n",
              "</div>"
            ],
            "text/plain": [
              "  Assignment group  ... Merged_Group\n",
              "0            GRP_0  ...        GRP_0\n",
              "1            GRP_0  ...        GRP_0\n",
              "2            GRP_0  ...        GRP_0\n",
              "3            GRP_0  ...        GRP_0\n",
              "4            GRP_0  ...        GRP_0\n",
              "\n",
              "[5 rows x 4 columns]"
            ]
          },
          "metadata": {
            "tags": []
          },
          "execution_count": 32
        }
      ]
    },
    {
      "cell_type": "code",
      "metadata": {
        "colab": {
          "base_uri": "https://localhost:8080/",
          "height": 204
        },
        "id": "bjeDyq4DrHBO",
        "outputId": "807aa084-3ed0-4993-b41e-40d92e30f56f"
      },
      "source": [
        "dfn0 = df_m[(df_m['Merged_Group'] != 'GRP_0')]\r\n",
        "dfn0.head()"
      ],
      "execution_count": 33,
      "outputs": [
        {
          "output_type": "execute_result",
          "data": {
            "text/html": [
              "<div>\n",
              "<style scoped>\n",
              "    .dataframe tbody tr th:only-of-type {\n",
              "        vertical-align: middle;\n",
              "    }\n",
              "\n",
              "    .dataframe tbody tr th {\n",
              "        vertical-align: top;\n",
              "    }\n",
              "\n",
              "    .dataframe thead th {\n",
              "        text-align: right;\n",
              "    }\n",
              "</style>\n",
              "<table border=\"1\" class=\"dataframe\">\n",
              "  <thead>\n",
              "    <tr style=\"text-align: right;\">\n",
              "      <th></th>\n",
              "      <th>Assignment group</th>\n",
              "      <th>language</th>\n",
              "      <th>cleaned_description</th>\n",
              "      <th>Merged_Group</th>\n",
              "    </tr>\n",
              "  </thead>\n",
              "  <tbody>\n",
              "    <tr>\n",
              "      <th>6</th>\n",
              "      <td>GRP_1</td>\n",
              "      <td>en</td>\n",
              "      <td>event criticalcompanycom value mountpoint thre...</td>\n",
              "      <td>GRP_1</td>\n",
              "    </tr>\n",
              "    <tr>\n",
              "      <th>17</th>\n",
              "      <td>GRP_3</td>\n",
              "      <td>en</td>\n",
              "      <td>undocking pc screen come backwhen undocking pc...</td>\n",
              "      <td>GRP_35</td>\n",
              "    </tr>\n",
              "    <tr>\n",
              "      <th>32</th>\n",
              "      <td>GRP_4</td>\n",
              "      <td>en</td>\n",
              "      <td>duplication network address gentlesi two devic...</td>\n",
              "      <td>GRP_4</td>\n",
              "    </tr>\n",
              "    <tr>\n",
              "      <th>43</th>\n",
              "      <td>GRP_5</td>\n",
              "      <td>en</td>\n",
              "      <td>reroute job issue need resolved today printer ...</td>\n",
              "      <td>GRP_57</td>\n",
              "    </tr>\n",
              "    <tr>\n",
              "      <th>47</th>\n",
              "      <td>GRP_6</td>\n",
              "      <td>en</td>\n",
              "      <td>job failed jobscheduler monitoringtooljob fail...</td>\n",
              "      <td>GRP_9</td>\n",
              "    </tr>\n",
              "  </tbody>\n",
              "</table>\n",
              "</div>"
            ],
            "text/plain": [
              "   Assignment group  ... Merged_Group\n",
              "6             GRP_1  ...        GRP_1\n",
              "17            GRP_3  ...       GRP_35\n",
              "32            GRP_4  ...        GRP_4\n",
              "43            GRP_5  ...       GRP_57\n",
              "47            GRP_6  ...        GRP_9\n",
              "\n",
              "[5 rows x 4 columns]"
            ]
          },
          "metadata": {
            "tags": []
          },
          "execution_count": 33
        }
      ]
    },
    {
      "cell_type": "code",
      "metadata": {
        "colab": {
          "base_uri": "https://localhost:8080/"
        },
        "id": "Qm_TvUq5rJgO",
        "outputId": "a0f200e4-3b0d-4a5d-f46e-637d9b49102a"
      },
      "source": [
        "maxOthers = dfn0[\"Merged_Group\"].value_counts().max()\r\n",
        "maxOthers"
      ],
      "execution_count": 34,
      "outputs": [
        {
          "output_type": "execute_result",
          "data": {
            "text/plain": [
              "1227"
            ]
          },
          "metadata": {
            "tags": []
          },
          "execution_count": 34
        }
      ]
    },
    {
      "cell_type": "code",
      "metadata": {
        "colab": {
          "base_uri": "https://localhost:8080/",
          "height": 311
        },
        "id": "4F_n0UZ3rMjA",
        "outputId": "ae539814-bd6b-465b-88f9-4489938ab591"
      },
      "source": [
        "# Upsampling non zero groups\r\n",
        "\r\n",
        "from sklearn.utils import resample\r\n",
        "dfn0_resampled = dfn0[0:0]\r\n",
        "for grp in dfn0['Merged_Group'].unique():\r\n",
        "    Grpn0 = dfn0[dfn0['Merged_Group'] == grp]\r\n",
        "    resampled = resample(Grpn0, replace=True, n_samples=int(maxOthers), random_state=123)\r\n",
        "    dfn0_resampled = dfn0_resampled.append(resampled)\r\n",
        "\r\n",
        "Grpn0 = pd.concat([dfz,dfn0_resampled])\r\n",
        "Grpn0.reset_index(inplace=True)\r\n",
        "\r\n",
        "descending_order = dfn0_resampled['Merged_Group'].value_counts().sort_values(ascending=False).index\r\n",
        "plt.subplots(figsize=(22,5))\r\n",
        "#add code to rotate the labels\r\n",
        "ax=sns.countplot(x='Merged_Group', data=dfn0_resampled, color='royalblue')\r\n",
        "ax.set_xticklabels(ax.get_xticklabels(), rotation=45, ha=\"right\")\r\n",
        "plt.tight_layout()\r\n",
        "plt.show()\r\n"
      ],
      "execution_count": 35,
      "outputs": [
        {
          "output_type": "display_data",
          "data": {
            "image/png": "[encoded data removed]",
            "text/plain": [
              "<Figure size 1584x360 with 1 Axes>"
            ]
          },
          "metadata": {
            "tags": []
          }
        }
      ]
    },
    {
      "cell_type": "code",
      "metadata": {
        "id": "U4pKf4nIrS1v"
      },
      "source": [
        "df_resampled = pd.concat([dfz,dfn0_resampled])\r\n",
        "df_resampled.reset_index(inplace=True)"
      ],
      "execution_count": 36,
      "outputs": []
    },
    {
      "cell_type": "code",
      "metadata": {
        "colab": {
          "base_uri": "https://localhost:8080/",
          "height": 311
        },
        "id": "Rdwx7hN0rXxI",
        "outputId": "5fb2ed41-9066-4b7e-8b3e-f470d258c520"
      },
      "source": [
        "descending_order = df_resampled['Merged_Group'].value_counts().sort_values(ascending=False).index\r\n",
        "plt.subplots(figsize=(22,5))\r\n",
        "#add code to rotate the labels\r\n",
        "ax=sns.countplot(x='Merged_Group', data=df_resampled, color='royalblue')\r\n",
        "ax.set_xticklabels(ax.get_xticklabels(), rotation=45, ha=\"right\")\r\n",
        "plt.tight_layout()\r\n",
        "plt.show()"
      ],
      "execution_count": 37,
      "outputs": [
        {
          "output_type": "display_data",
          "data": {
            "image/png": "[encoded data removed]",
            "text/plain": [
              "<Figure size 1584x360 with 1 Axes>"
            ]
          },
          "metadata": {
            "tags": []
          }
        }
      ]
    },
    {
      "cell_type": "markdown",
      "metadata": {
        "id": "sQTNcnSOrwOM"
      },
      "source": [
        "# Word vectorization"
      ]
    },
    {
      "cell_type": "code",
      "metadata": {
        "id": "5M-T4XxOrzpZ"
      },
      "source": [
        "from tensorflow.keras.preprocessing.text import Tokenizer\r\n",
        "from tensorflow.keras.preprocessing.sequence import pad_sequences\r\n",
        "\r\n",
        "\r\n",
        "max_features = 10000\r\n",
        "maxlen = 200\r\n",
        "embedding_size = 200\r\n",
        "\r\n",
        "tokenizer = Tokenizer(num_words = max_features, split= ' ')\r\n",
        "tokenizer.fit_on_texts(df_resampled['cleaned_description'].values)\r\n",
        "\r\n",
        "num_words = len(tokenizer.word_index) + 1\r\n",
        "\r\n",
        "X = tokenizer.texts_to_sequences(df_resampled['cleaned_description'].values)\r\n",
        "X = pad_sequences(X, maxlen = maxlen, padding = 'post', value = 0)"
      ],
      "execution_count": 38,
      "outputs": []
    },
    {
      "cell_type": "code",
      "metadata": {
        "id": "XM12o5ftFbP-"
      },
      "source": [
        "from sklearn.preprocessing import MinMaxScaler\n",
        "\n",
        "scaler = MinMaxScaler()\n",
        "\n",
        "y = df_resampled['Merged_Group']\n",
        "Xs = scaler.fit_transform(X)"
      ],
      "execution_count": 39,
      "outputs": []
    },
    {
      "cell_type": "markdown",
      "metadata": {
        "id": "kCOuaQvjuCoj"
      },
      "source": [
        "# Train test set preparation"
      ]
    },
    {
      "cell_type": "code",
      "metadata": {
        "colab": {
          "base_uri": "https://localhost:8080/"
        },
        "id": "7ZDd3elMFhT4",
        "outputId": "8b4ac6f7-056b-4044-c117-3ed702f27cb1"
      },
      "source": [
        "from sklearn.model_selection import train_test_split\n",
        "from sklearn import preprocessing \n",
        "  \n",
        "label_encoder = preprocessing.LabelEncoder() \n",
        "y= label_encoder.fit_transform(y) \n",
        "y = pd.get_dummies(y)\n",
        "\n",
        "X_train, X_test, y_train, y_test = train_test_split(Xs,y, test_size = 0.10, random_state = 42)\n",
        "X_train.shape, X_test.shape, y_train.shape, y_test.shape"
      ],
      "execution_count": 40,
      "outputs": [
        {
          "output_type": "execute_result",
          "data": {
            "text/plain": [
              "((49959, 200), (5551, 200), (49959, 43), (5551, 43))"
            ]
          },
          "metadata": {
            "tags": []
          },
          "execution_count": 40
        }
      ]
    },
    {
      "cell_type": "code",
      "metadata": {
        "id": "9d0rsmkvt6a_"
      },
      "source": [
        "from tensorflow.keras.preprocessing.sequence import pad_sequences\r\n",
        "\r\n",
        "maxlen = 25\r\n",
        "X = pad_sequences(X, maxlen = maxlen, padding = 'post', value = 0)"
      ],
      "execution_count": 38,
      "outputs": []
    },
    {
      "cell_type": "markdown",
      "metadata": {
        "id": "WH3gHjL6us8r"
      },
      "source": [
        "# ML Models"
      ]
    },
    {
      "cell_type": "code",
      "metadata": {
        "id": "sjoil6DVusR_"
      },
      "source": [
        "from sklearn.model_selection import RepeatedStratifiedKFold\r\n",
        "from sklearn.linear_model import LogisticRegression \r\n",
        "from sklearn.naive_bayes import GaussianNB\r\n",
        "from sklearn.neighbors import KNeighborsClassifier\r\n",
        "from sklearn.svm import SVC\r\n",
        "from sklearn.model_selection import GridSearchCV, RandomizedSearchCV, cross_val_score\r\n",
        "from sklearn.tree import DecisionTreeClassifier\r\n",
        "from sklearn.ensemble import RandomForestClassifier, BaggingClassifier, AdaBoostClassifier, GradientBoostingClassifier\r\n",
        "from xgboost import XGBClassifier\r\n",
        "from sklearn import tree\r\n",
        "from sklearn import metrics\r\n",
        "from sklearn.metrics import classification_report\r\n",
        "from sklearn.ensemble import VotingClassifier\r\n",
        "\r\n",
        "import warnings\r\n",
        "warnings.simplefilter(action = 'ignore')"
      ],
      "execution_count": 41,
      "outputs": []
    },
    {
      "cell_type": "code",
      "metadata": {
        "id": "xPRr1ZqcvIx5"
      },
      "source": [
        "#Naive Bayes\r\n",
        "GNB = GaussianNB().fit(X_train,y_train.ravel())\r\n",
        "GNB_pred = GNB.predict(X_test)"
      ],
      "execution_count": 43,
      "outputs": []
    },
    {
      "cell_type": "markdown",
      "metadata": {
        "id": "b-FNrLyRwZRM"
      },
      "source": [
        "NB Train Accuracy"
      ]
    },
    {
      "cell_type": "code",
      "metadata": {
        "colab": {
          "base_uri": "https://localhost:8080/"
        },
        "id": "45vsaEhbvyOe",
        "outputId": "761df1ee-aaeb-4484-9896-342975ed8b51"
      },
      "source": [
        "GNB_pred1 = GNB.predict(X_train)\n",
        "print(metrics.classification_report(y_train, GNB_pred1))"
      ],
      "execution_count": 44,
      "outputs": [
        {
          "output_type": "stream",
          "text": [
            "              precision    recall  f1-score   support\n",
            "\n",
            "           0       0.16      0.06      0.08      3579\n",
            "           1       0.09      0.03      0.05      1106\n",
            "           2       0.29      0.14      0.19      1107\n",
            "           3       0.26      0.86      0.40      1113\n",
            "           4       0.42      0.24      0.30      1110\n",
            "           5       0.42      0.35      0.38      1105\n",
            "           6       0.29      0.19      0.23      1097\n",
            "           7       0.33      0.29      0.31      1112\n",
            "           8       0.35      0.35      0.35      1105\n",
            "           9       0.09      0.05      0.07      1112\n",
            "          10       0.16      0.12      0.14      1095\n",
            "          11       0.37      0.53      0.44      1105\n",
            "          12       0.22      0.13      0.16      1099\n",
            "          13       0.07      0.02      0.03      1110\n",
            "          14       0.19      0.21      0.20      1104\n",
            "          15       0.07      0.33      0.12      1096\n",
            "          16       0.35      0.32      0.33      1071\n",
            "          17       0.13      0.06      0.08      1095\n",
            "          18       0.34      0.16      0.21      1093\n",
            "          19       0.33      0.13      0.18      1109\n",
            "          20       0.48      0.31      0.38      1119\n",
            "          21       1.00      0.62      0.77      1105\n",
            "          22       0.86      0.49      0.63      1113\n",
            "          23       0.96      0.69      0.80      1106\n",
            "          24       0.71      0.65      0.68      1110\n",
            "          25       0.79      0.34      0.48      1111\n",
            "          26       0.60      0.19      0.29      1100\n",
            "          27       1.00      1.00      1.00      1114\n",
            "          28       0.14      0.04      0.07      1107\n",
            "          29       0.14      0.01      0.02      1127\n",
            "          30       0.19      1.00      0.32      1098\n",
            "          31       0.00      0.00      0.00      1097\n",
            "          32       1.00      0.67      0.80      1098\n",
            "          33       1.00      1.00      1.00      1116\n",
            "          34       0.38      0.37      0.38      1090\n",
            "          35       1.00      1.00      1.00      1091\n",
            "          36       1.00      1.00      1.00      1101\n",
            "          37       0.34      0.86      0.49      1117\n",
            "          38       0.22      0.21      0.22      1108\n",
            "          39       0.21      0.16      0.18      1105\n",
            "          40       0.31      1.00      0.47      1096\n",
            "          41       1.00      1.00      1.00      1111\n",
            "          42       0.04      0.04      0.04      1096\n",
            "\n",
            "    accuracy                           0.38     49959\n",
            "   macro avg       0.43      0.40      0.38     49959\n",
            "weighted avg       0.41      0.38      0.36     49959\n",
            "\n"
          ],
          "name": "stdout"
        }
      ]
    },
    {
      "cell_type": "markdown",
      "metadata": {
        "id": "HZJTkNLzwdIV"
      },
      "source": [
        "NB Test Accuracy"
      ]
    },
    {
      "cell_type": "code",
      "metadata": {
        "colab": {
          "base_uri": "https://localhost:8080/"
        },
        "id": "53-OXSNrvzaO",
        "outputId": "8e166a88-1d63-4d39-879a-0da8fbd3dab5"
      },
      "source": [
        "GNB_pred = GNB.predict(X_test)\n",
        "print(metrics.classification_report(y_test, GNB_pred))"
      ],
      "execution_count": 45,
      "outputs": [
        {
          "output_type": "stream",
          "text": [
            "              precision    recall  f1-score   support\n",
            "\n",
            "           0       0.18      0.06      0.09       397\n",
            "           1       0.08      0.02      0.04       121\n",
            "           2       0.33      0.14      0.20       120\n",
            "           3       0.28      0.88      0.42       114\n",
            "           4       0.40      0.24      0.30       117\n",
            "           5       0.40      0.31      0.35       122\n",
            "           6       0.35      0.19      0.25       130\n",
            "           7       0.30      0.30      0.30       115\n",
            "           8       0.39      0.39      0.39       122\n",
            "           9       0.09      0.06      0.07       115\n",
            "          10       0.18      0.10      0.13       132\n",
            "          11       0.35      0.50      0.41       122\n",
            "          12       0.28      0.16      0.20       128\n",
            "          13       0.04      0.01      0.01       117\n",
            "          14       0.17      0.17      0.17       123\n",
            "          15       0.09      0.37      0.14       131\n",
            "          16       0.43      0.31      0.36       156\n",
            "          17       0.11      0.05      0.07       132\n",
            "          18       0.29      0.13      0.18       134\n",
            "          19       0.30      0.14      0.19       118\n",
            "          20       0.46      0.33      0.39       108\n",
            "          21       0.99      0.62      0.76       122\n",
            "          22       0.90      0.46      0.61       114\n",
            "          23       0.95      0.60      0.74       121\n",
            "          24       0.65      0.63      0.64       117\n",
            "          25       0.73      0.28      0.41       116\n",
            "          26       0.67      0.24      0.35       127\n",
            "          27       1.00      1.00      1.00       113\n",
            "          28       0.11      0.04      0.06       120\n",
            "          29       0.00      0.00      0.00       100\n",
            "          30       0.20      1.00      0.33       129\n",
            "          31       0.00      0.00      0.00       130\n",
            "          32       1.00      0.66      0.79       129\n",
            "          33       1.00      1.00      1.00       111\n",
            "          34       0.44      0.46      0.45       137\n",
            "          35       1.00      1.00      1.00       136\n",
            "          36       1.00      1.00      1.00       126\n",
            "          37       0.31      0.81      0.45       110\n",
            "          38       0.22      0.26      0.24       119\n",
            "          39       0.20      0.16      0.18       122\n",
            "          40       0.32      1.00      0.48       131\n",
            "          41       1.00      1.00      1.00       116\n",
            "          42       0.06      0.05      0.06       131\n",
            "\n",
            "    accuracy                           0.38      5551\n",
            "   macro avg       0.42      0.40      0.38      5551\n",
            "weighted avg       0.41      0.38      0.36      5551\n",
            "\n"
          ],
          "name": "stdout"
        }
      ]
    },
    {
      "cell_type": "code",
      "metadata": {
        "id": "nUcgW5NwvN3V"
      },
      "source": [
        "#KNN\r\n",
        "knn_param = {'n_neighbors': np.arange(3,7), 'p': [1,2]}\r\n",
        "\r\n",
        "knn = RandomizedSearchCV(KNeighborsClassifier(), knn_param, cv = 5, n_iter=50, scoring='accuracy')\r\n",
        "knn.fit(X_train, y_train)\r\n",
        "KNN_pred = knn.predict(X_test)"
      ],
      "execution_count": 46,
      "outputs": []
    },
    {
      "cell_type": "code",
      "metadata": {
        "colab": {
          "base_uri": "https://localhost:8080/"
        },
        "id": "dYZHb1anxAy1",
        "outputId": "82be6cc6-52d2-4b1c-c0b4-b0e07607abc9"
      },
      "source": [
        "KNN_pred1 = knn.predict(X_train)\n",
        "print(metrics.classification_report(y_train, KNN_pred1))"
      ],
      "execution_count": 47,
      "outputs": [
        {
          "output_type": "stream",
          "text": [
            "              precision    recall  f1-score   support\n",
            "\n",
            "           0       0.90      0.82      0.86      3579\n",
            "           1       0.42      0.97      0.58      1106\n",
            "           2       1.00      1.00      1.00      1107\n",
            "           3       0.99      1.00      0.99      1113\n",
            "           4       0.99      0.97      0.98      1110\n",
            "           5       1.00      1.00      1.00      1105\n",
            "           6       0.99      1.00      1.00      1097\n",
            "           7       0.99      1.00      1.00      1112\n",
            "           8       0.95      0.99      0.97      1105\n",
            "           9       0.99      1.00      1.00      1112\n",
            "          10       0.99      0.96      0.97      1095\n",
            "          11       1.00      1.00      1.00      1105\n",
            "          12       0.88      1.00      0.94      1099\n",
            "          13       0.96      0.97      0.96      1110\n",
            "          14       0.83      0.71      0.77      1104\n",
            "          15       0.99      1.00      0.99      1096\n",
            "          16       0.99      1.00      1.00      1071\n",
            "          17       0.97      0.95      0.96      1095\n",
            "          18       0.98      1.00      0.99      1093\n",
            "          19       1.00      1.00      1.00      1109\n",
            "          20       1.00      1.00      1.00      1119\n",
            "          21       1.00      1.00      1.00      1105\n",
            "          22       1.00      1.00      1.00      1113\n",
            "          23       1.00      1.00      1.00      1106\n",
            "          24       1.00      1.00      1.00      1110\n",
            "          25       1.00      1.00      1.00      1111\n",
            "          26       0.99      1.00      1.00      1100\n",
            "          27       1.00      1.00      1.00      1114\n",
            "          28       0.91      0.98      0.94      1107\n",
            "          29       0.88      0.63      0.74      1127\n",
            "          30       1.00      1.00      1.00      1098\n",
            "          31       0.99      0.43      0.60      1097\n",
            "          32       1.00      1.00      1.00      1098\n",
            "          33       1.00      1.00      1.00      1116\n",
            "          34       1.00      1.00      1.00      1090\n",
            "          35       1.00      1.00      1.00      1091\n",
            "          36       1.00      1.00      1.00      1101\n",
            "          37       0.99      1.00      0.99      1117\n",
            "          38       0.98      1.00      0.99      1108\n",
            "          39       0.97      1.00      0.98      1105\n",
            "          40       0.96      1.00      0.98      1096\n",
            "          41       1.00      1.00      1.00      1111\n",
            "          42       0.72      0.42      0.53      1096\n",
            "\n",
            "    accuracy                           0.94     49959\n",
            "   macro avg       0.96      0.95      0.95     49959\n",
            "weighted avg       0.96      0.94      0.94     49959\n",
            "\n"
          ],
          "name": "stdout"
        }
      ]
    },
    {
      "cell_type": "code",
      "metadata": {
        "colab": {
          "base_uri": "https://localhost:8080/"
        },
        "id": "qur4n35KhfSt",
        "outputId": "768d1fd3-a339-4371-f237-edbbbff44088"
      },
      "source": [
        "print(f'KNN Best Estimator \\n\\n {knn.best_estimator_,}\\n')\n",
        "print(metrics.classification_report(y_test, KNN_pred))"
      ],
      "execution_count": 48,
      "outputs": [
        {
          "output_type": "stream",
          "text": [
            "KNN Best Estimator \n",
            "\n",
            " (KNeighborsClassifier(algorithm='auto', leaf_size=30, metric='minkowski',\n",
            "                     metric_params=None, n_jobs=None, n_neighbors=3, p=1,\n",
            "                     weights='uniform'),)\n",
            "\n",
            "              precision    recall  f1-score   support\n",
            "\n",
            "           0       0.80      0.68      0.74       397\n",
            "           1       0.41      0.98      0.58       121\n",
            "           2       0.98      1.00      0.99       120\n",
            "           3       1.00      1.00      1.00       114\n",
            "           4       0.98      0.97      0.98       117\n",
            "           5       0.98      1.00      0.99       122\n",
            "           6       0.98      1.00      0.99       130\n",
            "           7       0.94      1.00      0.97       115\n",
            "           8       0.91      0.98      0.94       122\n",
            "           9       0.97      1.00      0.98       115\n",
            "          10       0.98      0.95      0.97       132\n",
            "          11       0.99      1.00      1.00       122\n",
            "          12       0.84      1.00      0.91       128\n",
            "          13       0.94      0.96      0.95       117\n",
            "          14       0.65      0.41      0.50       123\n",
            "          15       0.98      1.00      0.99       131\n",
            "          16       1.00      1.00      1.00       156\n",
            "          17       0.95      0.95      0.95       132\n",
            "          18       0.98      1.00      0.99       134\n",
            "          19       0.98      1.00      0.99       118\n",
            "          20       1.00      1.00      1.00       108\n",
            "          21       1.00      1.00      1.00       122\n",
            "          22       0.98      1.00      0.99       114\n",
            "          23       1.00      1.00      1.00       121\n",
            "          24       1.00      1.00      1.00       117\n",
            "          25       1.00      1.00      1.00       116\n",
            "          26       0.99      1.00      1.00       127\n",
            "          27       1.00      1.00      1.00       113\n",
            "          28       0.81      0.88      0.84       120\n",
            "          29       0.73      0.57      0.64       100\n",
            "          30       1.00      1.00      1.00       129\n",
            "          31       1.00      0.42      0.59       130\n",
            "          32       0.99      1.00      1.00       129\n",
            "          33       1.00      1.00      1.00       111\n",
            "          34       1.00      1.00      1.00       137\n",
            "          35       1.00      1.00      1.00       136\n",
            "          36       1.00      1.00      1.00       126\n",
            "          37       0.97      1.00      0.99       110\n",
            "          38       0.97      1.00      0.98       119\n",
            "          39       0.92      1.00      0.96       122\n",
            "          40       0.96      1.00      0.98       131\n",
            "          41       1.00      1.00      1.00       116\n",
            "          42       0.63      0.35      0.45       131\n",
            "\n",
            "    accuracy                           0.92      5551\n",
            "   macro avg       0.94      0.93      0.93      5551\n",
            "weighted avg       0.93      0.92      0.92      5551\n",
            "\n"
          ],
          "name": "stdout"
        }
      ]
    },
    {
      "cell_type": "code",
      "metadata": {
        "colab": {
          "base_uri": "https://localhost:8080/"
        },
        "id": "RRufn6cHHFha",
        "outputId": "15ae079f-e9ad-4c08-cbca-7c0297fcdeda"
      },
      "source": [
        "#Random Forest\r\n",
        "\r\n",
        "rf_param = {'n_estimators': (30,50,100,200), 'max_features':(3,4,5,6)}\r\n",
        "\r\n",
        "rf = RandomizedSearchCV(RandomForestClassifier(),rf_param)\r\n",
        "rf.fit(X_train,y_train)"
      ],
      "execution_count": 49,
      "outputs": [
        {
          "output_type": "execute_result",
          "data": {
            "text/plain": [
              "RandomizedSearchCV(cv=None, error_score=nan,\n",
              "                   estimator=RandomForestClassifier(bootstrap=True,\n",
              "                                                    ccp_alpha=0.0,\n",
              "                                                    class_weight=None,\n",
              "                                                    criterion='gini',\n",
              "                                                    max_depth=None,\n",
              "                                                    max_features='auto',\n",
              "                                                    max_leaf_nodes=None,\n",
              "                                                    max_samples=None,\n",
              "                                                    min_impurity_decrease=0.0,\n",
              "                                                    min_impurity_split=None,\n",
              "                                                    min_samples_leaf=1,\n",
              "                                                    min_samples_split=2,\n",
              "                                                    min_weight_fraction_leaf=0.0,\n",
              "                                                    n_estimators=100,\n",
              "                                                    n_jobs=None,\n",
              "                                                    oob_score=False,\n",
              "                                                    random_state=None,\n",
              "                                                    verbose=0,\n",
              "                                                    warm_start=False),\n",
              "                   iid='deprecated', n_iter=10, n_jobs=None,\n",
              "                   param_distributions={'max_features': (3, 4, 5, 6),\n",
              "                                        'n_estimators': (30, 50, 100, 200)},\n",
              "                   pre_dispatch='2*n_jobs', random_state=None, refit=True,\n",
              "                   return_train_score=False, scoring=None, verbose=0)"
            ]
          },
          "metadata": {
            "tags": []
          },
          "execution_count": 49
        }
      ]
    },
    {
      "cell_type": "code",
      "metadata": {
        "colab": {
          "base_uri": "https://localhost:8080/"
        },
        "id": "PaFfSASvxgPN",
        "outputId": "7ca1896c-9de1-4813-e52d-c7e0ce78011c"
      },
      "source": [
        "rf_pred1 = rf.predict(X_train)\n",
        "print(f'Random Forest Best Estimator \\n\\n {rf.best_estimator_,}\\n')\n",
        "print(metrics.classification_report(y_train, rf_pred1))"
      ],
      "execution_count": 50,
      "outputs": [
        {
          "output_type": "stream",
          "text": [
            "Random Forest Best Estimator \n",
            "\n",
            " (RandomForestClassifier(bootstrap=True, ccp_alpha=0.0, class_weight=None,\n",
            "                       criterion='gini', max_depth=None, max_features=5,\n",
            "                       max_leaf_nodes=None, max_samples=None,\n",
            "                       min_impurity_decrease=0.0, min_impurity_split=None,\n",
            "                       min_samples_leaf=1, min_samples_split=2,\n",
            "                       min_weight_fraction_leaf=0.0, n_estimators=200,\n",
            "                       n_jobs=None, oob_score=False, random_state=None,\n",
            "                       verbose=0, warm_start=False),)\n",
            "\n",
            "              precision    recall  f1-score   support\n",
            "\n",
            "           0       0.99      0.98      0.99      3579\n",
            "           1       1.00      0.76      0.87      1106\n",
            "           2       1.00      1.00      1.00      1107\n",
            "           3       1.00      1.00      1.00      1113\n",
            "           4       1.00      0.97      0.98      1110\n",
            "           5       1.00      1.00      1.00      1105\n",
            "           6       1.00      1.00      1.00      1097\n",
            "           7       1.00      1.00      1.00      1112\n",
            "           8       1.00      1.00      1.00      1105\n",
            "           9       1.00      1.00      1.00      1112\n",
            "          10       0.93      1.00      0.97      1095\n",
            "          11       1.00      1.00      1.00      1105\n",
            "          12       0.99      0.99      0.99      1099\n",
            "          13       0.99      0.97      0.98      1110\n",
            "          14       0.99      0.97      0.98      1104\n",
            "          15       1.00      1.00      1.00      1096\n",
            "          16       1.00      1.00      1.00      1071\n",
            "          17       1.00      0.95      0.97      1095\n",
            "          18       1.00      1.00      1.00      1093\n",
            "          19       1.00      1.00      1.00      1109\n",
            "          20       1.00      1.00      1.00      1119\n",
            "          21       1.00      1.00      1.00      1105\n",
            "          22       1.00      1.00      1.00      1113\n",
            "          23       1.00      1.00      1.00      1106\n",
            "          24       1.00      1.00      1.00      1110\n",
            "          25       1.00      1.00      1.00      1111\n",
            "          26       1.00      1.00      1.00      1100\n",
            "          27       1.00      1.00      1.00      1114\n",
            "          28       1.00      0.99      0.99      1107\n",
            "          29       1.00      0.72      0.84      1127\n",
            "          30       1.00      1.00      1.00      1098\n",
            "          31       0.51      1.00      0.67      1097\n",
            "          32       1.00      1.00      1.00      1098\n",
            "          33       1.00      1.00      1.00      1116\n",
            "          34       1.00      1.00      1.00      1090\n",
            "          35       1.00      1.00      1.00      1091\n",
            "          36       1.00      1.00      1.00      1101\n",
            "          37       1.00      1.00      1.00      1117\n",
            "          38       1.00      1.00      1.00      1108\n",
            "          39       1.00      1.00      1.00      1105\n",
            "          40       0.96      1.00      0.98      1096\n",
            "          41       1.00      1.00      1.00      1111\n",
            "          42       0.80      0.49      0.61      1096\n",
            "\n",
            "    accuracy                           0.97     49959\n",
            "   macro avg       0.98      0.97      0.97     49959\n",
            "weighted avg       0.98      0.97      0.97     49959\n",
            "\n"
          ],
          "name": "stdout"
        }
      ]
    },
    {
      "cell_type": "code",
      "metadata": {
        "colab": {
          "base_uri": "https://localhost:8080/"
        },
        "id": "qmcWq2qbxepA",
        "outputId": "92925498-80dc-419b-baae-d4045194de71"
      },
      "source": [
        "rf_pred = rf.predict(X_test)\n",
        "print(f'Random Forest Best Estimator \\n\\n {rf.best_estimator_,}\\n')\n",
        "print(metrics.classification_report(y_test, rf_pred))"
      ],
      "execution_count": 51,
      "outputs": [
        {
          "output_type": "stream",
          "text": [
            "Random Forest Best Estimator \n",
            "\n",
            " (RandomForestClassifier(bootstrap=True, ccp_alpha=0.0, class_weight=None,\n",
            "                       criterion='gini', max_depth=None, max_features=5,\n",
            "                       max_leaf_nodes=None, max_samples=None,\n",
            "                       min_impurity_decrease=0.0, min_impurity_split=None,\n",
            "                       min_samples_leaf=1, min_samples_split=2,\n",
            "                       min_weight_fraction_leaf=0.0, n_estimators=200,\n",
            "                       n_jobs=None, oob_score=False, random_state=None,\n",
            "                       verbose=0, warm_start=False),)\n",
            "\n",
            "              precision    recall  f1-score   support\n",
            "\n",
            "           0       0.86      0.96      0.90       397\n",
            "           1       1.00      0.76      0.86       121\n",
            "           2       1.00      1.00      1.00       120\n",
            "           3       0.99      1.00      1.00       114\n",
            "           4       1.00      0.97      0.99       117\n",
            "           5       1.00      1.00      1.00       122\n",
            "           6       0.99      1.00      1.00       130\n",
            "           7       0.99      1.00      1.00       115\n",
            "           8       1.00      0.98      0.99       122\n",
            "           9       0.98      1.00      0.99       115\n",
            "          10       0.95      1.00      0.97       132\n",
            "          11       0.99      1.00      1.00       122\n",
            "          12       0.98      1.00      0.99       128\n",
            "          13       1.00      0.96      0.98       117\n",
            "          14       0.92      0.63      0.75       123\n",
            "          15       1.00      1.00      1.00       131\n",
            "          16       1.00      1.00      1.00       156\n",
            "          17       1.00      0.95      0.97       132\n",
            "          18       1.00      1.00      1.00       134\n",
            "          19       1.00      1.00      1.00       118\n",
            "          20       1.00      1.00      1.00       108\n",
            "          21       1.00      1.00      1.00       122\n",
            "          22       1.00      1.00      1.00       114\n",
            "          23       1.00      1.00      1.00       121\n",
            "          24       1.00      1.00      1.00       117\n",
            "          25       1.00      1.00      1.00       116\n",
            "          26       1.00      1.00      1.00       127\n",
            "          27       1.00      1.00      1.00       113\n",
            "          28       1.00      0.99      1.00       120\n",
            "          29       0.99      0.70      0.82       100\n",
            "          30       1.00      1.00      1.00       129\n",
            "          31       0.52      1.00      0.69       130\n",
            "          32       1.00      1.00      1.00       129\n",
            "          33       1.00      1.00      1.00       111\n",
            "          34       1.00      1.00      1.00       137\n",
            "          35       1.00      1.00      1.00       136\n",
            "          36       1.00      1.00      1.00       126\n",
            "          37       1.00      1.00      1.00       110\n",
            "          38       1.00      1.00      1.00       119\n",
            "          39       1.00      1.00      1.00       122\n",
            "          40       0.97      1.00      0.98       131\n",
            "          41       1.00      1.00      1.00       116\n",
            "          42       0.84      0.39      0.53       131\n",
            "\n",
            "    accuracy                           0.96      5551\n",
            "   macro avg       0.98      0.96      0.96      5551\n",
            "weighted avg       0.97      0.96      0.96      5551\n",
            "\n"
          ],
          "name": "stdout"
        }
      ]
    },
    {
      "cell_type": "code",
      "metadata": {
        "colab": {
          "base_uri": "https://localhost:8080/"
        },
        "id": "5Cyvnk3fGwKo",
        "outputId": "7ed47ec5-6dfd-4f63-fab5-60f104e5eb3e"
      },
      "source": [
        "# Adaboost\r\n",
        "ada = AdaBoostClassifier(DecisionTreeClassifier(max_depth=10), n_estimators=200, learning_rate=1, random_state = 12)\r\n",
        "ada.fit(X_train, y_train)"
      ],
      "execution_count": 52,
      "outputs": [
        {
          "output_type": "execute_result",
          "data": {
            "text/plain": [
              "AdaBoostClassifier(algorithm='SAMME.R',\n",
              "                   base_estimator=DecisionTreeClassifier(ccp_alpha=0.0,\n",
              "                                                         class_weight=None,\n",
              "                                                         criterion='gini',\n",
              "                                                         max_depth=10,\n",
              "                                                         max_features=None,\n",
              "                                                         max_leaf_nodes=None,\n",
              "                                                         min_impurity_decrease=0.0,\n",
              "                                                         min_impurity_split=None,\n",
              "                                                         min_samples_leaf=1,\n",
              "                                                         min_samples_split=2,\n",
              "                                                         min_weight_fraction_leaf=0.0,\n",
              "                                                         presort='deprecated',\n",
              "                                                         random_state=None,\n",
              "                                                         splitter='best'),\n",
              "                   learning_rate=1, n_estimators=200, random_state=12)"
            ]
          },
          "metadata": {
            "tags": []
          },
          "execution_count": 52
        }
      ]
    },
    {
      "cell_type": "code",
      "metadata": {
        "colab": {
          "base_uri": "https://localhost:8080/"
        },
        "id": "19BPN2Zhy_GG",
        "outputId": "065be11c-ee5e-4b5a-dd53-1fae97a2f281"
      },
      "source": [
        "ada_pred1 = ada.predict(X_train)\n",
        "print(metrics.classification_report(y_train, ada_pred1))\n"
      ],
      "execution_count": 53,
      "outputs": [
        {
          "output_type": "stream",
          "text": [
            "              precision    recall  f1-score   support\n",
            "\n",
            "           0       0.51      0.98      0.67      3579\n",
            "           1       1.00      0.75      0.85      1106\n",
            "           2       1.00      0.94      0.97      1107\n",
            "           3       1.00      0.99      0.99      1113\n",
            "           4       0.93      0.98      0.95      1110\n",
            "           5       1.00      1.00      1.00      1105\n",
            "           6       1.00      0.94      0.97      1097\n",
            "           7       1.00      0.96      0.98      1112\n",
            "           8       0.97      0.94      0.96      1105\n",
            "           9       1.00      0.95      0.98      1112\n",
            "          10       1.00      0.74      0.85      1095\n",
            "          11       1.00      1.00      1.00      1105\n",
            "          12       1.00      0.84      0.92      1099\n",
            "          13       1.00      0.65      0.78      1110\n",
            "          14       0.78      0.71      0.74      1104\n",
            "          15       1.00      0.87      0.93      1096\n",
            "          16       1.00      1.00      1.00      1071\n",
            "          17       1.00      0.80      0.89      1095\n",
            "          18       1.00      0.94      0.97      1093\n",
            "          19       1.00      0.95      0.98      1109\n",
            "          20       1.00      1.00      1.00      1119\n",
            "          21       1.00      1.00      1.00      1105\n",
            "          22       1.00      1.00      1.00      1113\n",
            "          23       1.00      1.00      1.00      1106\n",
            "          24       1.00      1.00      1.00      1110\n",
            "          25       1.00      1.00      1.00      1111\n",
            "          26       1.00      1.00      1.00      1100\n",
            "          27       1.00      1.00      1.00      1114\n",
            "          28       0.99      0.60      0.75      1107\n",
            "          29       0.93      0.51      0.66      1127\n",
            "          30       1.00      1.00      1.00      1098\n",
            "          31       1.00      0.43      0.60      1097\n",
            "          32       1.00      1.00      1.00      1098\n",
            "          33       1.00      1.00      1.00      1116\n",
            "          34       1.00      1.00      1.00      1090\n",
            "          35       1.00      1.00      1.00      1091\n",
            "          36       1.00      1.00      1.00      1101\n",
            "          37       1.00      0.98      0.99      1117\n",
            "          38       1.00      0.86      0.92      1108\n",
            "          39       1.00      0.76      0.86      1105\n",
            "          40       1.00      0.53      0.69      1096\n",
            "          41       1.00      1.00      1.00      1111\n",
            "          42       0.43      0.90      0.58      1096\n",
            "\n",
            "    accuracy                           0.90     49959\n",
            "   macro avg       0.97      0.89      0.92     49959\n",
            "weighted avg       0.94      0.90      0.90     49959\n",
            "\n"
          ],
          "name": "stdout"
        }
      ]
    },
    {
      "cell_type": "code",
      "metadata": {
        "colab": {
          "base_uri": "https://localhost:8080/"
        },
        "id": "_qlCcvUbzA1s",
        "outputId": "cdcaaf63-e9b9-44f5-80c3-3d8dcea7db2d"
      },
      "source": [
        "ada_pred = ada.predict(X_test)\n",
        "print(metrics.classification_report(y_test, ada_pred))\n"
      ],
      "execution_count": 54,
      "outputs": [
        {
          "output_type": "stream",
          "text": [
            "              precision    recall  f1-score   support\n",
            "\n",
            "           0       0.50      0.95      0.66       397\n",
            "           1       1.00      0.70      0.83       121\n",
            "           2       1.00      0.93      0.96       120\n",
            "           3       1.00      0.96      0.98       114\n",
            "           4       0.92      0.97      0.95       117\n",
            "           5       1.00      1.00      1.00       122\n",
            "           6       1.00      0.99      1.00       130\n",
            "           7       0.99      0.96      0.97       115\n",
            "           8       1.00      0.95      0.97       122\n",
            "           9       1.00      0.96      0.98       115\n",
            "          10       1.00      0.77      0.87       132\n",
            "          11       1.00      1.00      1.00       122\n",
            "          12       1.00      0.88      0.94       128\n",
            "          13       1.00      0.70      0.82       117\n",
            "          14       0.64      0.56      0.60       123\n",
            "          15       1.00      0.92      0.96       131\n",
            "          16       1.00      1.00      1.00       156\n",
            "          17       1.00      0.74      0.85       132\n",
            "          18       1.00      0.95      0.97       134\n",
            "          19       1.00      0.95      0.97       118\n",
            "          20       1.00      1.00      1.00       108\n",
            "          21       1.00      1.00      1.00       122\n",
            "          22       1.00      1.00      1.00       114\n",
            "          23       1.00      1.00      1.00       121\n",
            "          24       1.00      1.00      1.00       117\n",
            "          25       1.00      1.00      1.00       116\n",
            "          26       1.00      1.00      1.00       127\n",
            "          27       1.00      1.00      1.00       113\n",
            "          28       0.97      0.65      0.78       120\n",
            "          29       0.86      0.56      0.68       100\n",
            "          30       1.00      1.00      1.00       129\n",
            "          31       1.00      0.42      0.59       130\n",
            "          32       1.00      1.00      1.00       129\n",
            "          33       1.00      1.00      1.00       111\n",
            "          34       1.00      1.00      1.00       137\n",
            "          35       1.00      1.00      1.00       136\n",
            "          36       1.00      1.00      1.00       126\n",
            "          37       1.00      0.97      0.99       110\n",
            "          38       1.00      0.82      0.90       119\n",
            "          39       1.00      0.80      0.89       122\n",
            "          40       1.00      0.53      0.70       131\n",
            "          41       1.00      1.00      1.00       116\n",
            "          42       0.45      0.85      0.58       131\n",
            "\n",
            "    accuracy                           0.90      5551\n",
            "   macro avg       0.96      0.89      0.92      5551\n",
            "weighted avg       0.94      0.90      0.90      5551\n",
            "\n"
          ],
          "name": "stdout"
        }
      ]
    },
    {
      "cell_type": "code",
      "metadata": {
        "colab": {
          "base_uri": "https://localhost:8080/"
        },
        "id": "t2y_7sAgPChS",
        "outputId": "67821711-b7ab-4ca2-885e-071683ac9994"
      },
      "source": [
        "# XGBoost\r\n",
        "XGB = XGBClassifier()\r\n",
        "XGB.fit(X_train, y_train)"
      ],
      "execution_count": 55,
      "outputs": [
        {
          "output_type": "execute_result",
          "data": {
            "text/plain": [
              "XGBClassifier(base_score=0.5, booster='gbtree', colsample_bylevel=1,\n",
              "              colsample_bynode=1, colsample_bytree=1, gamma=0,\n",
              "              learning_rate=0.1, max_delta_step=0, max_depth=3,\n",
              "              min_child_weight=1, missing=None, n_estimators=100, n_jobs=1,\n",
              "              nthread=None, objective='multi:softprob', random_state=0,\n",
              "              reg_alpha=0, reg_lambda=1, scale_pos_weight=1, seed=None,\n",
              "              silent=None, subsample=1, verbosity=1)"
            ]
          },
          "metadata": {
            "tags": []
          },
          "execution_count": 55
        }
      ]
    },
    {
      "cell_type": "code",
      "metadata": {
        "colab": {
          "base_uri": "https://localhost:8080/"
        },
        "id": "DVRqy8evzemZ",
        "outputId": "af256146-ae15-49fc-f9fb-f98705ff92c2"
      },
      "source": [
        "XGB_pred1 = XGB.predict(X_train)\n",
        "print(metrics.classification_report(y_train, XGB_pred1))"
      ],
      "execution_count": 56,
      "outputs": [
        {
          "output_type": "stream",
          "text": [
            "              precision    recall  f1-score   support\n",
            "\n",
            "           0       0.69      0.80      0.74      3579\n",
            "           1       0.90      0.75      0.81      1106\n",
            "           2       0.97      1.00      0.98      1107\n",
            "           3       1.00      1.00      1.00      1113\n",
            "           4       0.88      0.94      0.91      1110\n",
            "           5       0.96      1.00      0.98      1105\n",
            "           6       0.96      1.00      0.98      1097\n",
            "           7       0.98      1.00      0.99      1112\n",
            "           8       0.90      0.93      0.92      1105\n",
            "           9       0.94      1.00      0.97      1112\n",
            "          10       0.93      0.89      0.91      1095\n",
            "          11       1.00      1.00      1.00      1105\n",
            "          12       0.89      0.92      0.91      1099\n",
            "          13       0.93      0.87      0.90      1110\n",
            "          14       0.85      0.47      0.61      1104\n",
            "          15       0.97      1.00      0.99      1096\n",
            "          16       0.99      1.00      0.99      1071\n",
            "          17       0.91      0.83      0.87      1095\n",
            "          18       0.96      0.95      0.96      1093\n",
            "          19       0.95      1.00      0.97      1109\n",
            "          20       0.97      1.00      0.98      1119\n",
            "          21       1.00      1.00      1.00      1105\n",
            "          22       1.00      1.00      1.00      1113\n",
            "          23       0.99      1.00      1.00      1106\n",
            "          24       1.00      1.00      1.00      1110\n",
            "          25       0.99      1.00      1.00      1111\n",
            "          26       0.97      1.00      0.98      1100\n",
            "          27       1.00      1.00      1.00      1114\n",
            "          28       0.83      0.65      0.73      1107\n",
            "          29       0.90      0.39      0.54      1127\n",
            "          30       1.00      1.00      1.00      1098\n",
            "          31       0.50      1.00      0.67      1097\n",
            "          32       1.00      1.00      1.00      1098\n",
            "          33       1.00      1.00      1.00      1116\n",
            "          34       0.97      1.00      0.98      1090\n",
            "          35       1.00      1.00      1.00      1091\n",
            "          36       1.00      1.00      1.00      1101\n",
            "          37       0.96      1.00      0.98      1117\n",
            "          38       0.96      0.96      0.96      1108\n",
            "          39       0.93      0.88      0.90      1105\n",
            "          40       0.96      1.00      0.98      1096\n",
            "          41       1.00      1.00      1.00      1111\n",
            "          42       0.69      0.34      0.45      1096\n",
            "\n",
            "    accuracy                           0.91     49959\n",
            "   macro avg       0.93      0.92      0.92     49959\n",
            "weighted avg       0.92      0.91      0.91     49959\n",
            "\n"
          ],
          "name": "stdout"
        }
      ]
    },
    {
      "cell_type": "code",
      "metadata": {
        "colab": {
          "base_uri": "https://localhost:8080/"
        },
        "id": "DiAr79ApzgCd",
        "outputId": "58769f98-7b68-44c6-fe57-0085436243ae"
      },
      "source": [
        "XGB_pred = XGB.predict(X_test)\n",
        "print(metrics.classification_report(y_test, XGB_pred))"
      ],
      "execution_count": 57,
      "outputs": [
        {
          "output_type": "stream",
          "text": [
            "              precision    recall  f1-score   support\n",
            "\n",
            "           0       0.64      0.75      0.69       397\n",
            "           1       0.90      0.70      0.79       121\n",
            "           2       0.98      1.00      0.99       120\n",
            "           3       0.99      1.00      1.00       114\n",
            "           4       0.86      0.92      0.89       117\n",
            "           5       0.97      1.00      0.98       122\n",
            "           6       0.96      1.00      0.98       130\n",
            "           7       0.97      1.00      0.98       115\n",
            "           8       0.83      0.94      0.88       122\n",
            "           9       0.90      1.00      0.95       115\n",
            "          10       0.95      0.90      0.93       132\n",
            "          11       0.98      1.00      0.99       122\n",
            "          12       0.85      0.94      0.89       128\n",
            "          13       0.93      0.79      0.86       117\n",
            "          14       0.73      0.33      0.45       123\n",
            "          15       0.96      1.00      0.98       131\n",
            "          16       0.99      1.00      0.99       156\n",
            "          17       0.87      0.83      0.85       132\n",
            "          18       0.96      0.96      0.96       134\n",
            "          19       0.94      1.00      0.97       118\n",
            "          20       0.96      1.00      0.98       108\n",
            "          21       1.00      1.00      1.00       122\n",
            "          22       0.99      1.00      1.00       114\n",
            "          23       1.00      1.00      1.00       121\n",
            "          24       1.00      1.00      1.00       117\n",
            "          25       1.00      1.00      1.00       116\n",
            "          26       0.97      1.00      0.98       127\n",
            "          27       1.00      1.00      1.00       113\n",
            "          28       0.77      0.59      0.67       120\n",
            "          29       0.75      0.33      0.46       100\n",
            "          30       1.00      1.00      1.00       129\n",
            "          31       0.52      1.00      0.69       130\n",
            "          32       0.99      1.00      1.00       129\n",
            "          33       1.00      1.00      1.00       111\n",
            "          34       0.96      1.00      0.98       137\n",
            "          35       1.00      1.00      1.00       136\n",
            "          36       1.00      1.00      1.00       126\n",
            "          37       0.97      1.00      0.99       110\n",
            "          38       0.91      0.92      0.92       119\n",
            "          39       0.89      0.83      0.86       122\n",
            "          40       0.97      1.00      0.98       131\n",
            "          41       1.00      1.00      1.00       116\n",
            "          42       0.74      0.32      0.45       131\n",
            "\n",
            "    accuracy                           0.90      5551\n",
            "   macro avg       0.92      0.91      0.91      5551\n",
            "weighted avg       0.91      0.90      0.90      5551\n",
            "\n"
          ],
          "name": "stdout"
        }
      ]
    },
    {
      "cell_type": "code",
      "metadata": {
        "colab": {
          "base_uri": "https://localhost:8080/"
        },
        "id": "gKSdccJW0UlD",
        "outputId": "7373b98d-001b-4745-88b8-5cede5608734"
      },
      "source": [
        "train_scores = {'Model' : ['Naive Bayes', 'KNN', 'Random Rorest', 'AdaBoost', 'XGBoost'],\n",
        "         'Accuracy' : [round(metrics.accuracy_score(y_train, GNB_pred1),3),round(metrics.accuracy_score(y_train, KNN_pred1),3),round(metrics.accuracy_score(y_train, rf_pred1),3),round(metrics.accuracy_score(y_train, ada_pred1),3),round(metrics.accuracy_score(y_train, XGB_pred1),3)],\n",
        "         'Precision' : [round(metrics.precision_score(y_train, GNB_pred1,average='macro'),3),round(metrics.precision_score(y_train, KNN_pred1,average='macro'),3),round(metrics.precision_score(y_train, rf_pred1,average='macro'),3),round(metrics.precision_score(y_train, ada_pred1,average='macro'),3),round(metrics.precision_score(y_train, XGB_pred1,average='macro'),3)],\n",
        "         'Recall' : [round(metrics.recall_score(y_train, GNB_pred1,average='macro'),3),round(metrics.recall_score(y_train, KNN_pred1,average='macro'),3),round(metrics.recall_score(y_train, rf_pred1,average='macro'),3),round(metrics.recall_score(y_train, ada_pred1,average='macro'),3),round(metrics.recall_score(y_train, XGB_pred1,average='macro'),3)],\n",
        "         'F1' : [round(metrics.f1_score(y_train, GNB_pred1,average='macro'),3),round(metrics.f1_score(y_train, KNN_pred1,average='macro'),3),round(metrics.f1_score(y_train, rf_pred1,average='macro'),3),round(metrics.f1_score(y_train, ada_pred1,average='macro'),3),round(metrics.f1_score(y_train, XGB_pred1,average='macro'),3)]}\n",
        "\n",
        "train_scores_df = pd.DataFrame(train_scores,columns = ['Model','Accuracy','Precision','Recall','F1'])\n",
        "\n",
        "print(f'\\nClassification Scores_Training \\n{train_scores_df} \\n')"
      ],
      "execution_count": 58,
      "outputs": [
        {
          "output_type": "stream",
          "text": [
            "\n",
            "Classification Scores_Training \n",
            "           Model  Accuracy  Precision  Recall     F1\n",
            "0    Naive Bayes     0.383      0.426   0.400  0.378\n",
            "1            KNN     0.942      0.958   0.949  0.947\n",
            "2  Random Rorest     0.972      0.980   0.972  0.972\n",
            "3       AdaBoost     0.899      0.966   0.895  0.917\n",
            "4        XGBoost     0.914      0.934   0.920  0.919 \n",
            "\n"
          ],
          "name": "stdout"
        }
      ]
    },
    {
      "cell_type": "code",
      "metadata": {
        "colab": {
          "base_uri": "https://localhost:8080/"
        },
        "id": "-0MGdycDHmW1",
        "outputId": "accc5aad-a491-42e2-d9ad-2be9fee723e0"
      },
      "source": [
        "# printing the model scores\r\n",
        "\r\n",
        "test_scores = {'Model' : ['Naive Bayes', 'KNN', 'Random Rorest', 'AdaBoost', 'XGBoost'],\r\n",
        "         'Accuracy' : [round(metrics.accuracy_score(y_test, GNB_pred),3),round(metrics.accuracy_score(y_test, KNN_pred),3),round(metrics.accuracy_score(y_test, rf_pred),3),round(metrics.accuracy_score(y_test, ada_pred),3),round(metrics.accuracy_score(y_test, XGB_pred),3)],\r\n",
        "         'Precision' : [round(metrics.precision_score(y_test, GNB_pred,average='macro'),3),round(metrics.precision_score(y_test, KNN_pred,average='macro'),3),round(metrics.precision_score(y_test, rf_pred,average='macro'),3),round(metrics.precision_score(y_test, ada_pred,average='macro'),3),round(metrics.precision_score(y_test, XGB_pred,average='macro'),3)],\r\n",
        "         'Recall' : [round(metrics.recall_score(y_test, GNB_pred,average='macro'),3),round(metrics.recall_score(y_test, KNN_pred,average='macro'),3),round(metrics.recall_score(y_test, rf_pred,average='macro'),3),round(metrics.recall_score(y_test, ada_pred,average='macro'),3),round(metrics.recall_score(y_test, XGB_pred,average='macro'),3)],\r\n",
        "         'F1' : [round(metrics.f1_score(y_test, GNB_pred,average='macro'),3),round(metrics.f1_score(y_test, KNN_pred,average='macro'),3),round(metrics.f1_score(y_test, rf_pred,average='macro'),3),round(metrics.f1_score(y_test, ada_pred,average='macro'),3),round(metrics.f1_score(y_test, XGB_pred,average='macro'),3)]}\r\n",
        "\r\n",
        "test_scores_df = pd.DataFrame(test_scores,columns = ['Model','Accuracy','Precision','Recall','F1'])\r\n",
        "\r\n",
        "print(f'\\nClassification Scores_Testing \\n{test_scores_df} \\n')"
      ],
      "execution_count": 59,
      "outputs": [
        {
          "output_type": "stream",
          "text": [
            "\n",
            "Classification Scores_Testing \n",
            "           Model  Accuracy  Precision  Recall     F1\n",
            "0    Naive Bayes     0.381      0.424   0.399  0.377\n",
            "1            KNN     0.920      0.935   0.933  0.926\n",
            "2  Random Rorest     0.961      0.976   0.960  0.963\n",
            "3       AdaBoost     0.897      0.961   0.894  0.916\n",
            "4        XGBoost     0.902      0.920   0.908  0.906 \n",
            "\n"
          ],
          "name": "stdout"
        }
      ]
    },
    {
      "cell_type": "code",
      "metadata": {
        "colab": {
          "base_uri": "https://localhost:8080/",
          "height": 367
        },
        "id": "mIxS_64WO4h0",
        "outputId": "79d2ba72-8b51-4a30-88c1-a0ad27b3d5f8"
      },
      "source": [
        "from sklearn.ensemble import StackingClassifier\r\n",
        "from matplotlib import pyplot\r\n",
        "\r\n",
        "def get_stacking():\r\n",
        "\t# define the base models\r\n",
        "\tlevel0 = list()\r\n",
        "\tlevel0.append(('Bayes', GNB))\r\n",
        "\tlevel0.append(('KNN', knn))\r\n",
        "\tlevel0.append(('Random Forest', rf))\r\n",
        "\tlevel0.append(('Ada Boost', ada))\r\n",
        "\tlevel0.append(('XGBoost', XGB))\r\n",
        "\t# define meta learner model\r\n",
        "\tlevel1 = LogisticRegression()\r\n",
        "\t# define the stacking ensemble\r\n",
        "\tmodel = StackingClassifier(estimators=level0, final_estimator=level1, cv=5)\r\n",
        "\treturn model\r\n",
        " \r\n",
        "# get a list of models to evaluate\r\n",
        "def get_models():\r\n",
        "\tmodels = dict()\r\n",
        "\tmodels['Bayes'] = GNB\r\n",
        "\tmodels['KNN'] = knn\r\n",
        "\tmodels['Random Forest'] = rf\r\n",
        "\tmodels['Ada boost'] = ada\r\n",
        "\tmodels['XGBoost'] = XGB\r\n",
        "\tmodels['stacking'] = get_stacking()\r\n",
        "\treturn models\r\n",
        " \r\n",
        "# evaluate a give model using cross-validation\r\n",
        "def evaluate_model(model, X, y):\r\n",
        "\tcv = RepeatedStratifiedKFold(n_splits=5, n_repeats=3, random_state=1)\r\n",
        "\tscores = cross_val_score(model, X, y, scoring='accuracy', cv=cv, n_jobs=-1, error_score='raise')\r\n",
        "\treturn scores\r\n",
        " \r\n",
        "# get the models to evaluate\r\n",
        "models = get_models()\r\n",
        "\r\n",
        "# evaluate the models and store results\r\n",
        "results, names = list(), list()\r\n",
        "for name, model in models.items():\r\n",
        "\tscores = evaluate_model(model, X_test, y_test)\r\n",
        "\tresults.append(scores)\r\n",
        "\tnames.append(name)\r\n",
        "\tprint('>%s %.3f (%.3f)' % (name, np.mean(scores), np.std(scores)))\r\n",
        "# plot model performance for comparison\r\n",
        "pyplot.boxplot(results, labels=names, showmeans=True)\r\n",
        "pyplot.show()"
      ],
      "execution_count": null,
      "outputs": [
        {
          "output_type": "stream",
          "text": [
            ">Bayes 0.343 (0.015)\n",
            ">KNN 0.772 (0.010)\n",
            ">Random Forest 0.866 (0.007)\n",
            ">Ada boost 0.856 (0.007)\n",
            ">XGBoost 0.841 (0.011)\n",
            ">stacking 0.872 (0.008)\n"
          ],
          "name": "stdout"
        },
        {
          "output_type": "display_data",
          "data": {
            "image/png": "[encoded data removed]",
            "text/plain": [
              "<Figure size 432x288 with 1 Axes>"
            ]
          },
          "metadata": {
            "tags": []
          }
        }
      ]
    },
    {
      "cell_type": "code",
      "metadata": {
        "colab": {
          "base_uri": "https://localhost:8080/",
          "height": 697
        },
        "id": "Wr_8LFjag1zy",
        "outputId": "4bd4c622-f978-4863-94df-fb346ef4e9b7"
      },
      "source": [
        "estimator = [('GNB',GNB),('KNN',knn),('RF',rf.best_estimator_),('Boost',ada),('XGB',XGB)]\n",
        "\n",
        "vot_hard = VotingClassifier(estimators = estimator, voting ='hard') \n",
        "vot_hard.fit(X_train, y_train) \n",
        "vot_hard_pred = vot_hard.predict(X_test) \n",
        "\n",
        "vot_soft = VotingClassifier(estimators = estimator, voting ='soft') \n",
        "vot_soft.fit(X_train, y_train) \n",
        "vot_soft_pred = vot_hard.predict(X_test) \n",
        "\n",
        "fig, ax = plt.subplots(nrows = 1, ncols = 2, gridspec_kw={'width_ratios':[1,1.2]}, figsize=(25,10), sharey = True)\n",
        "fig.suptitle('Confusion Matrices')\n",
        "\n",
        "ax[0].set_title('Hard Voting', fontsize = 14)\n",
        "df_vh = pd.DataFrame(metrics.confusion_matrix(y_test,vot_hard_pred))\n",
        "sns.heatmap(df_vh, cmap=\"Blues\", annot=True,annot_kws={\"size\": 10}, fmt = 'd', cbar = False, linewidths = 0.1, linecolor = 'Blue',vmin = 0, vmax = 200, ax=ax[0])\n",
        "\n",
        "\n",
        "ax[1].set_title('Soft Voting', fontsize = 14)\n",
        "df_vs = pd.DataFrame(metrics.confusion_matrix(y_test,vot_soft_pred))\n",
        "sns.heatmap(df_vs, cmap=\"Blues\", annot=True,annot_kws={\"size\": 10}, fmt = 'd', cbar = False, linewidths = 0.1, linecolor = 'Blue',vmin = 0, vmax = 200, ax=ax[1])\n",
        "\n",
        "\n",
        "# printing the scores\n",
        "v_scores = {'Model' : ['Hard Voting', 'Soft Voting'],\n",
        "         'Accuracy' : [round(metrics.accuracy_score(y_test, vot_hard_pred),3),round(metrics.accuracy_score(y_test, vot_soft_pred),3)],\n",
        "         'Precision' : [round(metrics.precision_score(y_test, vot_hard_pred,average='macro'),3),round(metrics.precision_score(y_test, vot_soft_pred,average='macro'),3)],\n",
        "         'Recall' : [round(metrics.recall_score(y_test, vot_hard_pred,average='macro'),3),round(metrics.recall_score(y_test, vot_soft_pred,average='macro'),3)],\n",
        "         'F1' : [round(metrics.f1_score(y_test, vot_hard_pred,average='macro'),3),round(metrics.f1_score(y_test, vot_soft_pred,average='macro'),3)]}\n",
        "\n",
        "scores_vdf = pd.DataFrame(v_scores,columns = ['Model','Accuracy','Precision','Recall','F1'])\n",
        "\n",
        "print(f'Classification Scores \\n{scores_vdf} \\n')"
      ],
      "execution_count": 62,
      "outputs": [
        {
          "output_type": "stream",
          "text": [
            "Classification Scores \n",
            "         Model  Accuracy  Precision  Recall    F1\n",
            "0  Hard Voting     0.946      0.969   0.945  0.95\n",
            "1  Soft Voting     0.946      0.969   0.945  0.95 \n",
            "\n"
          ],
          "name": "stdout"
        },
        {
          "output_type": "display_data",
          "data": {
            "image/png": "[encoded data removed]",
            "text/plain": [
              "<Figure size 1800x720 with 2 Axes>"
            ]
          },
          "metadata": {
            "tags": []
          }
        }
      ]
    },
    {
      "cell_type": "code",
      "metadata": {
        "id": "4CFC71YLhG-S",
        "colab": {
          "base_uri": "https://localhost:8080/",
          "height": 771
        },
        "outputId": "a8e2fa1b-5eaf-45f5-f275-97ae4b2a811f"
      },
      "source": [
        "fig, ax = plt.subplots(nrows = 1, ncols = 2, gridspec_kw={'width_ratios':[1.2,1.2]}, figsize=(30,15), sharey = True)\n",
        "fig.suptitle('Confusion Matrices')\n",
        "\n",
        "ax[0].set_title('Hard Voting', fontsize = 14)\n",
        "df_vh = pd.DataFrame(metrics.confusion_matrix(y_test,vot_hard_pred))\n",
        "sns.heatmap(df_vh, cmap=\"Blues\", annot=True,annot_kws={\"size\": 10}, fmt = 'd', cbar = False, linewidths = 0.1, linecolor = 'Grey',vmin = 0, vmax = 400, ax=ax[0])\n",
        "\n",
        "\n",
        "ax[1].set_title('Soft Voting', fontsize = 14)\n",
        "df_vs = pd.DataFrame(metrics.confusion_matrix(y_test,vot_soft_pred))\n",
        "sns.heatmap(df_vs, cmap=\"Blues\", annot=True,annot_kws={\"size\": 10}, fmt = 'd', cbar = False, linewidths = 0.1, linecolor = 'Grey',vmin = 0, vmax = 400, ax=ax[1])\n"
      ],
      "execution_count": 66,
      "outputs": [
        {
          "output_type": "execute_result",
          "data": {
            "text/plain": [
              "<matplotlib.axes._subplots.AxesSubplot at 0x7fa2f6cfd950>"
            ]
          },
          "metadata": {
            "tags": []
          },
          "execution_count": 66
        },
        {
          "output_type": "display_data",
          "data": {
            "image/png": "[encoded data removed]",
            "text/plain": [
              "<Figure size 2160x1080 with 2 Axes>"
            ]
          },
          "metadata": {
            "tags": []
          }
        }
      ]
    },
    {
      "cell_type": "code",
      "metadata": {
        "id": "8KLn_9Z568sP"
      },
      "source": [
        "glove = '/content/drive/My Drive/Capstone/glove.6B.200d.txt'\n",
        "\n",
        "embeddings = {}\n",
        "for o in open(glove):\n",
        "    word = o.split(\" \")[0]\n",
        "    embd = o.split(\" \")[1:]\n",
        "    embd = np.asarray(embd, dtype='float32')\n",
        "    embeddings[word] = embd\n",
        "\n",
        "# create a weight matrix for words in training docs\n",
        "glove_embedding_matrix = np.zeros((num_words, 200))\n",
        "\n",
        "for word, i in tokenizer.word_index.items():\n",
        "\tembedding_vector = embeddings.get(word)\n",
        "\tif embedding_vector is not None:\n",
        "\t\tglove_embedding_matrix[i] = embedding_vector"
      ],
      "execution_count": 41,
      "outputs": []
    },
    {
      "cell_type": "code",
      "metadata": {
        "colab": {
          "base_uri": "https://localhost:8080/"
        },
        "id": "LKdej-2hGThK",
        "outputId": "583437e4-b4ae-46e9-c66e-fe7ff0e33195"
      },
      "source": [
        "X_train, X_test, y_train, y_test = train_test_split(X,y, test_size = 0.20, random_state = 42)\n",
        "X_train.shape, X_test.shape, y_train.shape, y_test.shape"
      ],
      "execution_count": 44,
      "outputs": [
        {
          "output_type": "execute_result",
          "data": {
            "text/plain": [
              "((44408, 200), (11102, 200), (44408, 43), (11102, 43))"
            ]
          },
          "metadata": {
            "tags": []
          },
          "execution_count": 44
        }
      ]
    },
    {
      "cell_type": "code",
      "metadata": {
        "colab": {
          "base_uri": "https://localhost:8080/"
        },
        "id": "E3R9cz0Q89eC",
        "outputId": "b7def7dd-d23f-4c23-f70c-120f6fbaa2a5"
      },
      "source": [
        "# Using Glove embeddings\n",
        "\n",
        "import keras as k\n",
        "from keras.models import Sequential\n",
        "from keras.layers import Dense\n",
        "from keras.layers import Flatten\n",
        "from keras.layers import Embedding\n",
        "from keras.layers import Dropout\n",
        "\n",
        "init = k.initializers.glorot_uniform(seed = 1)\n",
        "e_init = k.initializers.RandomUniform(-0.01, 0.01, seed = 1)\n",
        "\n",
        "model = k.models.Sequential()\n",
        "\n",
        "model.add(k.layers.Embedding(input_dim = num_words, input_length = maxlen, output_dim = 200, embeddings_initializer=k.initializers.Constant(glove_embedding_matrix), weights = [glove_embedding_matrix], trainable = False))\n",
        "model.add(k.layers.Bidirectional(k.layers.LSTM(units = 128, kernel_initializer=init, return_sequences=True, dropout=0.2, recurrent_dropout=0.2)))\n",
        "model.add(k.layers.Dense(units = 64, activation = 'relu'))\n",
        "model.add(Dropout(0.2))\n",
        "model.add(k.layers.Flatten())\n",
        "model.add(k.layers.Dense(units = 43, kernel_initializer=init, activation='softmax'))\n",
        "\n",
        "model.compile(optimizer='adam', loss = 'categorical_crossentropy', metrics=['acc'])\n",
        "\n",
        "print(model.summary())"
      ],
      "execution_count": 45,
      "outputs": [
        {
          "output_type": "stream",
          "text": [
            "WARNING:tensorflow:Layer lstm_1 will not use cuDNN kernel since it doesn't meet the cuDNN kernel criteria. It will use generic GPU kernel as fallback when running on GPU\n",
            "WARNING:tensorflow:Layer lstm_1 will not use cuDNN kernel since it doesn't meet the cuDNN kernel criteria. It will use generic GPU kernel as fallback when running on GPU\n",
            "WARNING:tensorflow:Layer lstm_1 will not use cuDNN kernel since it doesn't meet the cuDNN kernel criteria. It will use generic GPU kernel as fallback when running on GPU\n",
            "Model: \"sequential_1\"\n",
            "_________________________________________________________________\n",
            "Layer (type)                 Output Shape              Param #   \n",
            "=================================================================\n",
            "embedding_1 (Embedding)      (None, 200, 200)          3318800   \n",
            "_________________________________________________________________\n",
            "bidirectional_1 (Bidirection (None, 200, 256)          336896    \n",
            "_________________________________________________________________\n",
            "dense_2 (Dense)              (None, 200, 64)           16448     \n",
            "_________________________________________________________________\n",
            "dropout_1 (Dropout)          (None, 200, 64)           0         \n",
            "_________________________________________________________________\n",
            "flatten_1 (Flatten)          (None, 12800)             0         \n",
            "_________________________________________________________________\n",
            "dense_3 (Dense)              (None, 43)                550443    \n",
            "=================================================================\n",
            "Total params: 4,222,587\n",
            "Trainable params: 903,787\n",
            "Non-trainable params: 3,318,800\n",
            "_________________________________________________________________\n",
            "None\n"
          ],
          "name": "stdout"
        }
      ]
    },
    {
      "cell_type": "code",
      "metadata": {
        "colab": {
          "base_uri": "https://localhost:8080/"
        },
        "id": "sqEEhNvV-pF3",
        "outputId": "76aafa31-ae0b-4e84-bc6f-e62e40aad521"
      },
      "source": [
        "model.fit(X_train, y_train, epochs = 5, batch_size = 256)"
      ],
      "execution_count": 46,
      "outputs": [
        {
          "output_type": "stream",
          "text": [
            "Epoch 1/5\n",
            "174/174 [==============================] - 194s 1s/step - loss: 2.0220 - acc: 0.4794\n",
            "Epoch 2/5\n",
            "174/174 [==============================] - 190s 1s/step - loss: 0.4515 - acc: 0.8619\n",
            "Epoch 3/5\n",
            "174/174 [==============================] - 190s 1s/step - loss: 0.3064 - acc: 0.9035\n",
            "Epoch 4/5\n",
            "174/174 [==============================] - 190s 1s/step - loss: 0.2404 - acc: 0.9203\n",
            "Epoch 5/5\n",
            "174/174 [==============================] - 190s 1s/step - loss: 0.2047 - acc: 0.9317\n"
          ],
          "name": "stdout"
        },
        {
          "output_type": "execute_result",
          "data": {
            "text/plain": [
              "<tensorflow.python.keras.callbacks.History at 0x7f438de62b90>"
            ]
          },
          "metadata": {
            "tags": []
          },
          "execution_count": 46
        }
      ]
    },
    {
      "cell_type": "code",
      "metadata": {
        "colab": {
          "base_uri": "https://localhost:8080/"
        },
        "id": "GYLnqAIm-67V",
        "outputId": "34966f32-ce46-415d-9d38-8aa03b233409"
      },
      "source": [
        "model_acc = model.evaluate(X_test, y_test, verbose = 1)"
      ],
      "execution_count": 47,
      "outputs": [
        {
          "output_type": "stream",
          "text": [
            "347/347 [==============================] - 26s 74ms/step - loss: 0.2087 - acc: 0.9347\n"
          ],
          "name": "stdout"
        }
      ]
    },
    {
      "cell_type": "markdown",
      "metadata": {
        "id": "o-DU8Ks-T3dB"
      },
      "source": [
        "#GRU Using Glove embeddings"
      ]
    },
    {
      "cell_type": "code",
      "metadata": {
        "colab": {
          "base_uri": "https://localhost:8080/"
        },
        "id": "UMWhMWDUDLH2",
        "outputId": "08b1142e-d0bd-4eee-d16c-a1f617089884"
      },
      "source": [
        "gru = k.models.Sequential()\n",
        "\n",
        "gru.add(k.layers.Embedding(input_dim = num_words, input_length = maxlen, output_dim = 200, embeddings_initializer=k.initializers.Constant(glove_embedding_matrix), weights = [glove_embedding_matrix], trainable = False))\n",
        "gru.add(k.layers.GRU(units = 128, kernel_initializer=init, return_sequences=True, activation = 'relu', dropout=0.2))\n",
        "gru.add(k.layers.GRU(units = 128, return_sequences=True, activation = 'relu', dropout=0.2))\n",
        "gru.add(k.layers.Dense(units = 64, activation = 'relu'))\n",
        "gru.add(Dropout(0.2))\n",
        "gru.add(k.layers.Flatten())\n",
        "gru.add(k.layers.Dense(units = 43, kernel_initializer=init, activation='softmax'))\n",
        "\n",
        "gru.compile(optimizer='adam', loss = 'categorical_crossentropy', metrics=['acc'])\n",
        "\n",
        "print(gru.summary())"
      ],
      "execution_count": 48,
      "outputs": [
        {
          "output_type": "stream",
          "text": [
            "WARNING:tensorflow:Layer gru will not use cuDNN kernel since it doesn't meet the cuDNN kernel criteria. It will use generic GPU kernel as fallback when running on GPU\n",
            "WARNING:tensorflow:Layer gru_1 will not use cuDNN kernel since it doesn't meet the cuDNN kernel criteria. It will use generic GPU kernel as fallback when running on GPU\n",
            "Model: \"sequential_2\"\n",
            "_________________________________________________________________\n",
            "Layer (type)                 Output Shape              Param #   \n",
            "=================================================================\n",
            "embedding_2 (Embedding)      (None, 200, 200)          3318800   \n",
            "_________________________________________________________________\n",
            "gru (GRU)                    (None, 200, 128)          126720    \n",
            "_________________________________________________________________\n",
            "gru_1 (GRU)                  (None, 200, 128)          99072     \n",
            "_________________________________________________________________\n",
            "dense_4 (Dense)              (None, 200, 64)           8256      \n",
            "_________________________________________________________________\n",
            "dropout_2 (Dropout)          (None, 200, 64)           0         \n",
            "_________________________________________________________________\n",
            "flatten_2 (Flatten)          (None, 12800)             0         \n",
            "_________________________________________________________________\n",
            "dense_5 (Dense)              (None, 43)                550443    \n",
            "=================================================================\n",
            "Total params: 4,103,291\n",
            "Trainable params: 784,491\n",
            "Non-trainable params: 3,318,800\n",
            "_________________________________________________________________\n",
            "None\n"
          ],
          "name": "stdout"
        }
      ]
    },
    {
      "cell_type": "code",
      "metadata": {
        "colab": {
          "base_uri": "https://localhost:8080/"
        },
        "id": "N4OVM-jRDSj0",
        "outputId": "da938c32-a72d-47c5-e752-165508fc88e9"
      },
      "source": [
        "gru.fit(X_train, y_train, epochs = 3, batch_size = 256)"
      ],
      "execution_count": 49,
      "outputs": [
        {
          "output_type": "stream",
          "text": [
            "Epoch 1/3\n",
            "174/174 [==============================] - 118s 664ms/step - loss: 2.3101 - acc: 0.4072\n",
            "Epoch 2/3\n",
            "174/174 [==============================] - 115s 660ms/step - loss: 0.5433 - acc: 0.8382\n",
            "Epoch 3/3\n",
            "174/174 [==============================] - 115s 663ms/step - loss: 0.3593 - acc: 0.8883\n"
          ],
          "name": "stdout"
        },
        {
          "output_type": "execute_result",
          "data": {
            "text/plain": [
              "<tensorflow.python.keras.callbacks.History at 0x7f438a755fd0>"
            ]
          },
          "metadata": {
            "tags": []
          },
          "execution_count": 49
        }
      ]
    },
    {
      "cell_type": "code",
      "metadata": {
        "colab": {
          "base_uri": "https://localhost:8080/"
        },
        "id": "cqzjwHLKLpw5",
        "outputId": "80704cdc-bdb9-4e4a-a8c6-4246a2c65918"
      },
      "source": [
        "gru_acc = gru.evaluate(X_test, y_test, verbose = 1)"
      ],
      "execution_count": 50,
      "outputs": [
        {
          "output_type": "stream",
          "text": [
            "347/347 [==============================] - 17s 47ms/step - loss: 0.3046 - acc: 0.9093\n"
          ],
          "name": "stdout"
        }
      ]
    },
    {
      "cell_type": "markdown",
      "metadata": {
        "id": "6mrY0h04LvGF"
      },
      "source": [
        "# DL Model (LSTM) using Word2Vec Embedding"
      ]
    },
    {
      "cell_type": "code",
      "metadata": {
        "id": "Nb_PTxKeLqWB"
      },
      "source": [
        "from gensim import models\n",
        "\n",
        "w = '/content/drive/My Drive/Capstone/GoogleNews-vectors-negative300.bin'\n",
        "w2v = models.KeyedVectors.load_word2vec_format(w, binary=True)\n",
        "\n",
        "# create a weight matrix for words in training docs\n",
        "w2v_embedding_matrix = np.zeros((num_words, 300))\n",
        "\n",
        "for word, i in tokenizer.word_index.items():\n",
        "\tif word in w2v.vocab:\n",
        "\t\tw2v_embedding_matrix[i] = w2v.word_vec(word)"
      ],
      "execution_count": 52,
      "outputs": []
    },
    {
      "cell_type": "code",
      "metadata": {
        "colab": {
          "base_uri": "https://localhost:8080/"
        },
        "id": "oDGZAj95Lwqk",
        "outputId": "9252447d-63c4-4feb-8544-48f0888a6a60"
      },
      "source": [
        "import keras as k\n",
        "from keras.models import Sequential\n",
        "from keras.layers import Dense\n",
        "from keras.layers import Flatten\n",
        "from keras.layers import Embedding\n",
        "from keras.layers import Dropout\n",
        "\n",
        "init = k.initializers.glorot_uniform(seed = 1)\n",
        "e_init = k.initializers.RandomUniform(-0.01, 0.01, seed = 1)\n",
        "\n",
        "model = k.models.Sequential()\n",
        "\n",
        "model.add(k.layers.Embedding(input_dim = num_words, input_length = maxlen, output_dim = 300, embeddings_initializer=k.initializers.Constant(w2v_embedding_matrix), weights = [w2v_embedding_matrix], trainable = False))\n",
        "model.add(k.layers.Bidirectional(k.layers.LSTM(units = 128, kernel_initializer=init, return_sequences=True, dropout=0.2, recurrent_dropout=0.2)))\n",
        "model.add(k.layers.Dense(units = 64, activation = 'relu'))\n",
        "model.add(Dropout(0.2))\n",
        "model.add(k.layers.Flatten())\n",
        "model.add(k.layers.Dense(units = 43, kernel_initializer=init, activation='softmax'))\n",
        "\n",
        "model.compile(optimizer='adam', loss = 'categorical_crossentropy', metrics=['acc'])\n",
        "\n",
        "print(model.summary())"
      ],
      "execution_count": 53,
      "outputs": [
        {
          "output_type": "stream",
          "text": [
            "WARNING:tensorflow:Layer lstm_2 will not use cuDNN kernel since it doesn't meet the cuDNN kernel criteria. It will use generic GPU kernel as fallback when running on GPU\n",
            "WARNING:tensorflow:Layer lstm_2 will not use cuDNN kernel since it doesn't meet the cuDNN kernel criteria. It will use generic GPU kernel as fallback when running on GPU\n",
            "WARNING:tensorflow:Layer lstm_2 will not use cuDNN kernel since it doesn't meet the cuDNN kernel criteria. It will use generic GPU kernel as fallback when running on GPU\n",
            "Model: \"sequential_3\"\n",
            "_________________________________________________________________\n",
            "Layer (type)                 Output Shape              Param #   \n",
            "=================================================================\n",
            "embedding_3 (Embedding)      (None, 200, 300)          4978200   \n",
            "_________________________________________________________________\n",
            "bidirectional_2 (Bidirection (None, 200, 256)          439296    \n",
            "_________________________________________________________________\n",
            "dense_6 (Dense)              (None, 200, 64)           16448     \n",
            "_________________________________________________________________\n",
            "dropout_3 (Dropout)          (None, 200, 64)           0         \n",
            "_________________________________________________________________\n",
            "flatten_3 (Flatten)          (None, 12800)             0         \n",
            "_________________________________________________________________\n",
            "dense_7 (Dense)              (None, 43)                550443    \n",
            "=================================================================\n",
            "Total params: 5,984,387\n",
            "Trainable params: 1,006,187\n",
            "Non-trainable params: 4,978,200\n",
            "_________________________________________________________________\n",
            "None\n"
          ],
          "name": "stdout"
        }
      ]
    },
    {
      "cell_type": "code",
      "metadata": {
        "colab": {
          "base_uri": "https://localhost:8080/"
        },
        "id": "BqC7DFM1QrTH",
        "outputId": "b95acb2c-7700-429e-bb8d-e06eaaa5f745"
      },
      "source": [
        "model.fit(X_train, y_train, epochs = 3, batch_size = 256)"
      ],
      "execution_count": 54,
      "outputs": [
        {
          "output_type": "stream",
          "text": [
            "Epoch 1/3\n",
            "174/174 [==============================] - 197s 1s/step - loss: 2.1989 - acc: 0.4284\n",
            "Epoch 2/3\n",
            "174/174 [==============================] - 194s 1s/step - loss: 0.5391 - acc: 0.8360\n",
            "Epoch 3/3\n",
            "174/174 [==============================] - 193s 1s/step - loss: 0.3712 - acc: 0.8816\n"
          ],
          "name": "stdout"
        },
        {
          "output_type": "execute_result",
          "data": {
            "text/plain": [
              "<tensorflow.python.keras.callbacks.History at 0x7f434a38fd10>"
            ]
          },
          "metadata": {
            "tags": []
          },
          "execution_count": 54
        }
      ]
    },
    {
      "cell_type": "code",
      "metadata": {
        "colab": {
          "base_uri": "https://localhost:8080/"
        },
        "id": "tlfi5zTDQxAo",
        "outputId": "7726db84-b624-478e-be05-86541295c571"
      },
      "source": [
        "w2v_acc = model.evaluate(X_test, y_test, verbose = 1)"
      ],
      "execution_count": 55,
      "outputs": [
        {
          "output_type": "stream",
          "text": [
            "347/347 [==============================] - 27s 77ms/step - loss: 0.3097 - acc: 0.8995\n"
          ],
          "name": "stdout"
        }
      ]
    },
    {
      "cell_type": "markdown",
      "metadata": {
        "id": "oNxEWCHXTpKe"
      },
      "source": [
        "#CNN"
      ]
    },
    {
      "cell_type": "code",
      "metadata": {
        "colab": {
          "base_uri": "https://localhost:8080/"
        },
        "id": "NGe-LBuYTNk_",
        "outputId": "01d6a386-51f0-4791-dab7-aa6cc44c215c"
      },
      "source": [
        "cnn = Sequential()\n",
        "cnn.add(k.layers.Embedding(num_words, 200, input_length=maxlen))\n",
        "cnn.add(k.layers.Conv1D(128, 5, activation='relu'))\n",
        "cnn.add(k.layers.Dropout(0.2))\n",
        "cnn.add(k.layers.GlobalMaxPooling1D())\n",
        "cnn.add(k.layers.Dense(64, activation='relu'))\n",
        "cnn.add(k.layers.Dropout(0.2))\n",
        "cnn.add(k.layers.Dense(43, activation='softmax'))\n",
        "\n",
        "cnn.compile(optimizer='adam', loss='categorical_crossentropy', metrics=['accuracy'])\n",
        "print(cnn.summary())"
      ],
      "execution_count": 56,
      "outputs": [
        {
          "output_type": "stream",
          "text": [
            "Model: \"sequential_4\"\n",
            "_________________________________________________________________\n",
            "Layer (type)                 Output Shape              Param #   \n",
            "=================================================================\n",
            "embedding_4 (Embedding)      (None, 200, 200)          3318800   \n",
            "_________________________________________________________________\n",
            "conv1d (Conv1D)              (None, 196, 128)          128128    \n",
            "_________________________________________________________________\n",
            "dropout_4 (Dropout)          (None, 196, 128)          0         \n",
            "_________________________________________________________________\n",
            "global_max_pooling1d (Global (None, 128)               0         \n",
            "_________________________________________________________________\n",
            "dense_8 (Dense)              (None, 64)                8256      \n",
            "_________________________________________________________________\n",
            "dropout_5 (Dropout)          (None, 64)                0         \n",
            "_________________________________________________________________\n",
            "dense_9 (Dense)              (None, 43)                2795      \n",
            "=================================================================\n",
            "Total params: 3,457,979\n",
            "Trainable params: 3,457,979\n",
            "Non-trainable params: 0\n",
            "_________________________________________________________________\n",
            "None\n"
          ],
          "name": "stdout"
        }
      ]
    },
    {
      "cell_type": "code",
      "metadata": {
        "colab": {
          "base_uri": "https://localhost:8080/"
        },
        "id": "Fu9gkGjsTXsZ",
        "outputId": "19c4977e-1a0f-4076-caff-d83be8a4b59d"
      },
      "source": [
        "cnn.fit(X_train, y_train, epochs = 3, batch_size = 256)"
      ],
      "execution_count": 57,
      "outputs": [
        {
          "output_type": "stream",
          "text": [
            "Epoch 1/3\n",
            "174/174 [==============================] - 38s 57ms/step - loss: 2.6065 - accuracy: 0.4027\n",
            "Epoch 2/3\n",
            "174/174 [==============================] - 10s 56ms/step - loss: 0.2351 - accuracy: 0.9335\n",
            "Epoch 3/3\n",
            "174/174 [==============================] - 10s 57ms/step - loss: 0.1206 - accuracy: 0.9612\n"
          ],
          "name": "stdout"
        },
        {
          "output_type": "execute_result",
          "data": {
            "text/plain": [
              "<tensorflow.python.keras.callbacks.History at 0x7f4348d30c50>"
            ]
          },
          "metadata": {
            "tags": []
          },
          "execution_count": 57
        }
      ]
    },
    {
      "cell_type": "code",
      "metadata": {
        "colab": {
          "base_uri": "https://localhost:8080/"
        },
        "id": "lO2kbiP8VcIo",
        "outputId": "0327ee1a-f1e7-4b8e-ff65-7685590d213c"
      },
      "source": [
        "cnn_acc = cnn.evaluate(X_test, y_test, verbose = 1)"
      ],
      "execution_count": 58,
      "outputs": [
        {
          "output_type": "stream",
          "text": [
            "347/347 [==============================] - 1s 3ms/step - loss: 0.1212 - accuracy: 0.9568\n"
          ],
          "name": "stdout"
        }
      ]
    }
  ]
}